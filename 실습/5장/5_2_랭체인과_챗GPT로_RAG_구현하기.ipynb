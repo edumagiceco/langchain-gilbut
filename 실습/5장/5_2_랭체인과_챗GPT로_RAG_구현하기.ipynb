{
 "cells": [
  {
   "cell_type": "code",
   "execution_count": 1,
   "id": "8891e3f7",
   "metadata": {},
   "outputs": [
    {
     "name": "stdout",
     "output_type": "stream",
     "text": [
      "Requirement already satisfied: unstructured==0.11.6 in e:\\anaconda3\\envs\\llm\\lib\\site-packages (0.11.6)\n",
      "Requirement already satisfied: chardet in e:\\anaconda3\\envs\\llm\\lib\\site-packages (from unstructured==0.11.6) (5.2.0)\n",
      "Requirement already satisfied: filetype in e:\\anaconda3\\envs\\llm\\lib\\site-packages (from unstructured==0.11.6) (1.2.0)\n",
      "Requirement already satisfied: python-magic in e:\\anaconda3\\envs\\llm\\lib\\site-packages (from unstructured==0.11.6) (0.4.27)\n",
      "Requirement already satisfied: lxml in e:\\anaconda3\\envs\\llm\\lib\\site-packages (from unstructured==0.11.6) (4.9.4)\n",
      "Requirement already satisfied: nltk in e:\\anaconda3\\envs\\llm\\lib\\site-packages (from unstructured==0.11.6) (3.8.1)\n",
      "Requirement already satisfied: tabulate in e:\\anaconda3\\envs\\llm\\lib\\site-packages (from unstructured==0.11.6) (0.9.0)\n",
      "Requirement already satisfied: requests in e:\\anaconda3\\envs\\llm\\lib\\site-packages (from unstructured==0.11.6) (2.31.0)\n",
      "Requirement already satisfied: beautifulsoup4 in e:\\anaconda3\\envs\\llm\\lib\\site-packages (from unstructured==0.11.6) (4.12.2)\n",
      "Requirement already satisfied: emoji in e:\\anaconda3\\envs\\llm\\lib\\site-packages (from unstructured==0.11.6) (2.9.0)\n",
      "Requirement already satisfied: dataclasses-json in e:\\anaconda3\\envs\\llm\\lib\\site-packages (from unstructured==0.11.6) (0.6.3)\n",
      "Requirement already satisfied: python-iso639 in e:\\anaconda3\\envs\\llm\\lib\\site-packages (from unstructured==0.11.6) (2023.12.11)\n",
      "Requirement already satisfied: langdetect in e:\\anaconda3\\envs\\llm\\lib\\site-packages (from unstructured==0.11.6) (1.0.9)\n",
      "Requirement already satisfied: numpy in e:\\anaconda3\\envs\\llm\\lib\\site-packages (from unstructured==0.11.6) (1.24.4)\n",
      "Requirement already satisfied: rapidfuzz in e:\\anaconda3\\envs\\llm\\lib\\site-packages (from unstructured==0.11.6) (3.6.1)\n",
      "Requirement already satisfied: backoff in e:\\anaconda3\\envs\\llm\\lib\\site-packages (from unstructured==0.11.6) (2.2.1)\n",
      "Requirement already satisfied: typing-extensions in e:\\anaconda3\\envs\\llm\\lib\\site-packages (from unstructured==0.11.6) (4.9.0)\n",
      "Requirement already satisfied: unstructured-client in e:\\anaconda3\\envs\\llm\\lib\\site-packages (from unstructured==0.11.6) (0.15.1)\n",
      "Requirement already satisfied: wrapt in e:\\anaconda3\\envs\\llm\\lib\\site-packages (from unstructured==0.11.6) (1.16.0)\n",
      "Requirement already satisfied: soupsieve>1.2 in e:\\anaconda3\\envs\\llm\\lib\\site-packages (from beautifulsoup4->unstructured==0.11.6) (2.5)\n",
      "Requirement already satisfied: marshmallow<4.0.0,>=3.18.0 in e:\\anaconda3\\envs\\llm\\lib\\site-packages (from dataclasses-json->unstructured==0.11.6) (3.20.1)\n",
      "Requirement already satisfied: typing-inspect<1,>=0.4.0 in e:\\anaconda3\\envs\\llm\\lib\\site-packages (from dataclasses-json->unstructured==0.11.6) (0.9.0)\n",
      "Requirement already satisfied: six in e:\\anaconda3\\envs\\llm\\lib\\site-packages (from langdetect->unstructured==0.11.6) (1.16.0)\n",
      "Requirement already satisfied: click in e:\\anaconda3\\envs\\llm\\lib\\site-packages (from nltk->unstructured==0.11.6) (8.1.7)\n",
      "Requirement already satisfied: joblib in e:\\anaconda3\\envs\\llm\\lib\\site-packages (from nltk->unstructured==0.11.6) (1.3.2)\n",
      "Requirement already satisfied: regex>=2021.8.3 in e:\\anaconda3\\envs\\llm\\lib\\site-packages (from nltk->unstructured==0.11.6) (2023.12.25)\n",
      "Requirement already satisfied: tqdm in e:\\anaconda3\\envs\\llm\\lib\\site-packages (from nltk->unstructured==0.11.6) (4.66.1)\n",
      "Requirement already satisfied: charset-normalizer<4,>=2 in e:\\anaconda3\\envs\\llm\\lib\\site-packages (from requests->unstructured==0.11.6) (3.3.2)\n",
      "Requirement already satisfied: idna<4,>=2.5 in e:\\anaconda3\\envs\\llm\\lib\\site-packages (from requests->unstructured==0.11.6) (3.6)\n",
      "Requirement already satisfied: urllib3<3,>=1.21.1 in e:\\anaconda3\\envs\\llm\\lib\\site-packages (from requests->unstructured==0.11.6) (1.26.18)\n",
      "Requirement already satisfied: certifi>=2017.4.17 in e:\\anaconda3\\envs\\llm\\lib\\site-packages (from requests->unstructured==0.11.6) (2023.11.17)\n",
      "Requirement already satisfied: jsonpath-python>=1.0.6 in e:\\anaconda3\\envs\\llm\\lib\\site-packages (from unstructured-client->unstructured==0.11.6) (1.0.6)\n",
      "Requirement already satisfied: mypy-extensions>=1.0.0 in e:\\anaconda3\\envs\\llm\\lib\\site-packages (from unstructured-client->unstructured==0.11.6) (1.0.0)\n",
      "Requirement already satisfied: packaging>=23.1 in e:\\anaconda3\\envs\\llm\\lib\\site-packages (from unstructured-client->unstructured==0.11.6) (23.2)\n",
      "Requirement already satisfied: python-dateutil>=2.8.2 in e:\\anaconda3\\envs\\llm\\lib\\site-packages (from unstructured-client->unstructured==0.11.6) (2.8.2)\n",
      "Requirement already satisfied: colorama in e:\\anaconda3\\envs\\llm\\lib\\site-packages (from click->nltk->unstructured==0.11.6) (0.4.6)\n"
     ]
    },
    {
     "name": "stderr",
     "output_type": "stream",
     "text": [
      "WARNING: Ignoring invalid distribution -pype1 (c:\\users\\jyseo\\appdata\\roaming\\python\\python38\\site-packages)\n",
      "WARNING: Ignoring invalid distribution -pype1 (c:\\users\\jyseo\\appdata\\roaming\\python\\python38\\site-packages)\n",
      "WARNING: Ignoring invalid distribution -pype1 (c:\\users\\jyseo\\appdata\\roaming\\python\\python38\\site-packages)\n",
      "WARNING: Ignoring invalid distribution -pype1 (c:\\users\\jyseo\\appdata\\roaming\\python\\python38\\site-packages)\n",
      "WARNING: Ignoring invalid distribution -pype1 (c:\\users\\jyseo\\appdata\\roaming\\python\\python38\\site-packages)\n",
      "WARNING: Ignoring invalid distribution -pype1 (c:\\users\\jyseo\\appdata\\roaming\\python\\python38\\site-packages)\n"
     ]
    }
   ],
   "source": [
    "#!pip install unstructured==0.11.6"
   ]
  },
  {
   "cell_type": "code",
   "execution_count": 2,
   "id": "da9f9c50",
   "metadata": {},
   "outputs": [
    {
     "name": "stdout",
     "output_type": "stream",
     "text": [
      "Requirement already satisfied: sentence-transformers==2.2.2 in e:\\anaconda3\\envs\\llm\\lib\\site-packages (2.2.2)\n",
      "Requirement already satisfied: transformers<5.0.0,>=4.6.0 in c:\\users\\jyseo\\appdata\\roaming\\python\\python38\\site-packages (from sentence-transformers==2.2.2) (4.12.5)\n",
      "Requirement already satisfied: tqdm in e:\\anaconda3\\envs\\llm\\lib\\site-packages (from sentence-transformers==2.2.2) (4.66.1)\n",
      "Requirement already satisfied: torch>=1.6.0 in e:\\anaconda3\\envs\\llm\\lib\\site-packages (from sentence-transformers==2.2.2) (2.1.2)\n",
      "Requirement already satisfied: torchvision in e:\\anaconda3\\envs\\llm\\lib\\site-packages (from sentence-transformers==2.2.2) (0.16.2)\n",
      "Requirement already satisfied: numpy in e:\\anaconda3\\envs\\llm\\lib\\site-packages (from sentence-transformers==2.2.2) (1.24.4)\n",
      "Requirement already satisfied: scikit-learn in e:\\anaconda3\\envs\\llm\\lib\\site-packages (from sentence-transformers==2.2.2) (1.3.2)\n",
      "Requirement already satisfied: scipy in e:\\anaconda3\\envs\\llm\\lib\\site-packages (from sentence-transformers==2.2.2) (1.10.1)\n",
      "Requirement already satisfied: nltk in e:\\anaconda3\\envs\\llm\\lib\\site-packages (from sentence-transformers==2.2.2) (3.8.1)\n",
      "Requirement already satisfied: sentencepiece in e:\\anaconda3\\envs\\llm\\lib\\site-packages (from sentence-transformers==2.2.2) (0.1.99)\n",
      "Requirement already satisfied: huggingface-hub>=0.4.0 in e:\\anaconda3\\envs\\llm\\lib\\site-packages (from sentence-transformers==2.2.2) (0.19.4)\n",
      "Requirement already satisfied: filelock in e:\\anaconda3\\envs\\llm\\lib\\site-packages (from huggingface-hub>=0.4.0->sentence-transformers==2.2.2) (3.13.1)\n",
      "Requirement already satisfied: fsspec>=2023.5.0 in e:\\anaconda3\\envs\\llm\\lib\\site-packages (from huggingface-hub>=0.4.0->sentence-transformers==2.2.2) (2023.12.2)\n",
      "Requirement already satisfied: requests in e:\\anaconda3\\envs\\llm\\lib\\site-packages (from huggingface-hub>=0.4.0->sentence-transformers==2.2.2) (2.31.0)\n",
      "Requirement already satisfied: pyyaml>=5.1 in e:\\anaconda3\\envs\\llm\\lib\\site-packages (from huggingface-hub>=0.4.0->sentence-transformers==2.2.2) (6.0.1)\n",
      "Requirement already satisfied: typing-extensions>=3.7.4.3 in e:\\anaconda3\\envs\\llm\\lib\\site-packages (from huggingface-hub>=0.4.0->sentence-transformers==2.2.2) (4.9.0)\n",
      "Requirement already satisfied: packaging>=20.9 in e:\\anaconda3\\envs\\llm\\lib\\site-packages (from huggingface-hub>=0.4.0->sentence-transformers==2.2.2) (23.2)\n",
      "Requirement already satisfied: sympy in e:\\anaconda3\\envs\\llm\\lib\\site-packages (from torch>=1.6.0->sentence-transformers==2.2.2) (1.12)\n",
      "Requirement already satisfied: networkx in e:\\anaconda3\\envs\\llm\\lib\\site-packages (from torch>=1.6.0->sentence-transformers==2.2.2) (3.1)\n",
      "Requirement already satisfied: jinja2 in e:\\anaconda3\\envs\\llm\\lib\\site-packages (from torch>=1.6.0->sentence-transformers==2.2.2) (3.1.2)\n",
      "Requirement already satisfied: colorama in e:\\anaconda3\\envs\\llm\\lib\\site-packages (from tqdm->sentence-transformers==2.2.2) (0.4.6)\n",
      "Requirement already satisfied: regex!=2019.12.17 in e:\\anaconda3\\envs\\llm\\lib\\site-packages (from transformers<5.0.0,>=4.6.0->sentence-transformers==2.2.2) (2023.12.25)\n",
      "Requirement already satisfied: sacremoses in e:\\anaconda3\\envs\\llm\\lib\\site-packages (from transformers<5.0.0,>=4.6.0->sentence-transformers==2.2.2) (0.1.1)\n",
      "Requirement already satisfied: tokenizers<0.11,>=0.10.1 in e:\\anaconda3\\envs\\llm\\lib\\site-packages (from transformers<5.0.0,>=4.6.0->sentence-transformers==2.2.2) (0.10.3)\n",
      "Requirement already satisfied: click in e:\\anaconda3\\envs\\llm\\lib\\site-packages (from nltk->sentence-transformers==2.2.2) (8.1.7)\n",
      "Requirement already satisfied: joblib in e:\\anaconda3\\envs\\llm\\lib\\site-packages (from nltk->sentence-transformers==2.2.2) (1.3.2)\n",
      "Requirement already satisfied: threadpoolctl>=2.0.0 in e:\\anaconda3\\envs\\llm\\lib\\site-packages (from scikit-learn->sentence-transformers==2.2.2) (3.2.0)\n",
      "Requirement already satisfied: pillow!=8.3.*,>=5.3.0 in e:\\anaconda3\\envs\\llm\\lib\\site-packages (from torchvision->sentence-transformers==2.2.2) (10.1.0)\n",
      "Requirement already satisfied: MarkupSafe>=2.0 in e:\\anaconda3\\envs\\llm\\lib\\site-packages (from jinja2->torch>=1.6.0->sentence-transformers==2.2.2) (2.1.3)\n",
      "Requirement already satisfied: charset-normalizer<4,>=2 in e:\\anaconda3\\envs\\llm\\lib\\site-packages (from requests->huggingface-hub>=0.4.0->sentence-transformers==2.2.2) (3.3.2)\n",
      "Requirement already satisfied: idna<4,>=2.5 in e:\\anaconda3\\envs\\llm\\lib\\site-packages (from requests->huggingface-hub>=0.4.0->sentence-transformers==2.2.2) (3.6)\n",
      "Requirement already satisfied: urllib3<3,>=1.21.1 in e:\\anaconda3\\envs\\llm\\lib\\site-packages (from requests->huggingface-hub>=0.4.0->sentence-transformers==2.2.2) (1.26.18)\n",
      "Requirement already satisfied: certifi>=2017.4.17 in e:\\anaconda3\\envs\\llm\\lib\\site-packages (from requests->huggingface-hub>=0.4.0->sentence-transformers==2.2.2) (2023.11.17)\n",
      "Requirement already satisfied: mpmath>=0.19 in e:\\anaconda3\\envs\\llm\\lib\\site-packages (from sympy->torch>=1.6.0->sentence-transformers==2.2.2) (1.3.0)\n"
     ]
    },
    {
     "name": "stderr",
     "output_type": "stream",
     "text": [
      "WARNING: Ignoring invalid distribution -pype1 (c:\\users\\jyseo\\appdata\\roaming\\python\\python38\\site-packages)\n",
      "WARNING: Ignoring invalid distribution -pype1 (c:\\users\\jyseo\\appdata\\roaming\\python\\python38\\site-packages)\n",
      "WARNING: Ignoring invalid distribution -pype1 (c:\\users\\jyseo\\appdata\\roaming\\python\\python38\\site-packages)\n",
      "WARNING: Ignoring invalid distribution -pype1 (c:\\users\\jyseo\\appdata\\roaming\\python\\python38\\site-packages)\n",
      "WARNING: Ignoring invalid distribution -pype1 (c:\\users\\jyseo\\appdata\\roaming\\python\\python38\\site-packages)\n",
      "WARNING: Ignoring invalid distribution -pype1 (c:\\users\\jyseo\\appdata\\roaming\\python\\python38\\site-packages)\n"
     ]
    }
   ],
   "source": [
    "#!pip install sentence-transformers==2.2.2"
   ]
  },
  {
   "cell_type": "code",
   "execution_count": 3,
   "id": "7fa3dc87",
   "metadata": {},
   "outputs": [
    {
     "name": "stdout",
     "output_type": "stream",
     "text": [
      "Requirement already satisfied: chromadb==0.4.21 in e:\\anaconda3\\envs\\llm\\lib\\site-packages (0.4.21)\n",
      "Requirement already satisfied: requests>=2.28 in e:\\anaconda3\\envs\\llm\\lib\\site-packages (from chromadb==0.4.21) (2.31.0)\n",
      "Requirement already satisfied: pydantic>=1.9 in e:\\anaconda3\\envs\\llm\\lib\\site-packages (from chromadb==0.4.21) (2.5.3)\n",
      "Requirement already satisfied: chroma-hnswlib==0.7.3 in e:\\anaconda3\\envs\\llm\\lib\\site-packages (from chromadb==0.4.21) (0.7.3)\n",
      "Requirement already satisfied: fastapi>=0.95.2 in e:\\anaconda3\\envs\\llm\\lib\\site-packages (from chromadb==0.4.21) (0.108.0)\n",
      "Requirement already satisfied: uvicorn>=0.18.3 in e:\\anaconda3\\envs\\llm\\lib\\site-packages (from uvicorn[standard]>=0.18.3->chromadb==0.4.21) (0.25.0)\n",
      "Requirement already satisfied: numpy>=1.22.5 in e:\\anaconda3\\envs\\llm\\lib\\site-packages (from chromadb==0.4.21) (1.24.4)\n",
      "Requirement already satisfied: posthog>=2.4.0 in e:\\anaconda3\\envs\\llm\\lib\\site-packages (from chromadb==0.4.21) (3.1.0)\n",
      "Requirement already satisfied: typing-extensions>=4.5.0 in e:\\anaconda3\\envs\\llm\\lib\\site-packages (from chromadb==0.4.21) (4.9.0)\n",
      "Requirement already satisfied: pulsar-client>=3.1.0 in e:\\anaconda3\\envs\\llm\\lib\\site-packages (from chromadb==0.4.21) (3.3.0)\n",
      "Requirement already satisfied: onnxruntime>=1.14.1 in e:\\anaconda3\\envs\\llm\\lib\\site-packages (from chromadb==0.4.21) (1.16.3)\n",
      "Requirement already satisfied: opentelemetry-api>=1.2.0 in e:\\anaconda3\\envs\\llm\\lib\\site-packages (from chromadb==0.4.21) (1.22.0)\n",
      "Requirement already satisfied: opentelemetry-exporter-otlp-proto-grpc>=1.2.0 in e:\\anaconda3\\envs\\llm\\lib\\site-packages (from chromadb==0.4.21) (1.22.0)\n",
      "Requirement already satisfied: opentelemetry-instrumentation-fastapi>=0.41b0 in e:\\anaconda3\\envs\\llm\\lib\\site-packages (from chromadb==0.4.21) (0.43b0)\n",
      "Requirement already satisfied: opentelemetry-sdk>=1.2.0 in e:\\anaconda3\\envs\\llm\\lib\\site-packages (from chromadb==0.4.21) (1.22.0)\n",
      "Collecting tokenizers>=0.13.2 (from chromadb==0.4.21)\n",
      "  Using cached tokenizers-0.15.0-cp38-none-win_amd64.whl.metadata (6.8 kB)\n",
      "Requirement already satisfied: pypika>=0.48.9 in e:\\anaconda3\\envs\\llm\\lib\\site-packages (from chromadb==0.4.21) (0.48.9)\n",
      "Requirement already satisfied: tqdm>=4.65.0 in e:\\anaconda3\\envs\\llm\\lib\\site-packages (from chromadb==0.4.21) (4.66.1)\n",
      "Requirement already satisfied: overrides>=7.3.1 in e:\\anaconda3\\envs\\llm\\lib\\site-packages (from chromadb==0.4.21) (7.4.0)\n",
      "Requirement already satisfied: importlib-resources in e:\\anaconda3\\envs\\llm\\lib\\site-packages (from chromadb==0.4.21) (6.1.1)\n",
      "Requirement already satisfied: grpcio>=1.58.0 in e:\\anaconda3\\envs\\llm\\lib\\site-packages (from chromadb==0.4.21) (1.60.0)\n",
      "Requirement already satisfied: bcrypt>=4.0.1 in e:\\anaconda3\\envs\\llm\\lib\\site-packages (from chromadb==0.4.21) (4.1.2)\n",
      "Requirement already satisfied: typer>=0.9.0 in e:\\anaconda3\\envs\\llm\\lib\\site-packages (from chromadb==0.4.21) (0.9.0)\n",
      "Requirement already satisfied: kubernetes>=28.1.0 in e:\\anaconda3\\envs\\llm\\lib\\site-packages (from chromadb==0.4.21) (28.1.0)\n",
      "Requirement already satisfied: tenacity>=8.2.3 in e:\\anaconda3\\envs\\llm\\lib\\site-packages (from chromadb==0.4.21) (8.2.3)\n",
      "Requirement already satisfied: PyYAML>=6.0.0 in e:\\anaconda3\\envs\\llm\\lib\\site-packages (from chromadb==0.4.21) (6.0.1)\n",
      "Requirement already satisfied: mmh3>=4.0.1 in e:\\anaconda3\\envs\\llm\\lib\\site-packages (from chromadb==0.4.21) (4.0.1)\n",
      "Requirement already satisfied: graphlib-backport>=1.0.3 in e:\\anaconda3\\envs\\llm\\lib\\site-packages (from chromadb==0.4.21) (1.0.3)\n",
      "Requirement already satisfied: starlette<0.33.0,>=0.29.0 in e:\\anaconda3\\envs\\llm\\lib\\site-packages (from fastapi>=0.95.2->chromadb==0.4.21) (0.32.0.post1)\n",
      "Requirement already satisfied: certifi>=14.05.14 in e:\\anaconda3\\envs\\llm\\lib\\site-packages (from kubernetes>=28.1.0->chromadb==0.4.21) (2023.11.17)\n",
      "Requirement already satisfied: six>=1.9.0 in e:\\anaconda3\\envs\\llm\\lib\\site-packages (from kubernetes>=28.1.0->chromadb==0.4.21) (1.16.0)\n",
      "Requirement already satisfied: python-dateutil>=2.5.3 in e:\\anaconda3\\envs\\llm\\lib\\site-packages (from kubernetes>=28.1.0->chromadb==0.4.21) (2.8.2)\n",
      "Requirement already satisfied: google-auth>=1.0.1 in e:\\anaconda3\\envs\\llm\\lib\\site-packages (from kubernetes>=28.1.0->chromadb==0.4.21) (2.25.2)\n",
      "Requirement already satisfied: websocket-client!=0.40.0,!=0.41.*,!=0.42.*,>=0.32.0 in e:\\anaconda3\\envs\\llm\\lib\\site-packages (from kubernetes>=28.1.0->chromadb==0.4.21) (1.7.0)\n",
      "Requirement already satisfied: requests-oauthlib in e:\\anaconda3\\envs\\llm\\lib\\site-packages (from kubernetes>=28.1.0->chromadb==0.4.21) (1.3.1)\n",
      "Requirement already satisfied: oauthlib>=3.2.2 in e:\\anaconda3\\envs\\llm\\lib\\site-packages (from kubernetes>=28.1.0->chromadb==0.4.21) (3.2.2)\n",
      "Requirement already satisfied: urllib3<2.0,>=1.24.2 in e:\\anaconda3\\envs\\llm\\lib\\site-packages (from kubernetes>=28.1.0->chromadb==0.4.21) (1.26.18)\n",
      "Requirement already satisfied: coloredlogs in e:\\anaconda3\\envs\\llm\\lib\\site-packages (from onnxruntime>=1.14.1->chromadb==0.4.21) (15.0.1)\n",
      "Requirement already satisfied: flatbuffers in e:\\anaconda3\\envs\\llm\\lib\\site-packages (from onnxruntime>=1.14.1->chromadb==0.4.21) (23.5.26)\n",
      "Requirement already satisfied: packaging in e:\\anaconda3\\envs\\llm\\lib\\site-packages (from onnxruntime>=1.14.1->chromadb==0.4.21) (23.2)\n",
      "Requirement already satisfied: protobuf in e:\\anaconda3\\envs\\llm\\lib\\site-packages (from onnxruntime>=1.14.1->chromadb==0.4.21) (4.25.1)\n",
      "Requirement already satisfied: sympy in e:\\anaconda3\\envs\\llm\\lib\\site-packages (from onnxruntime>=1.14.1->chromadb==0.4.21) (1.12)\n",
      "Requirement already satisfied: deprecated>=1.2.6 in e:\\anaconda3\\envs\\llm\\lib\\site-packages (from opentelemetry-api>=1.2.0->chromadb==0.4.21) (1.2.14)\n",
      "Requirement already satisfied: importlib-metadata<7.0,>=6.0 in e:\\anaconda3\\envs\\llm\\lib\\site-packages (from opentelemetry-api>=1.2.0->chromadb==0.4.21) (6.11.0)\n",
      "Requirement already satisfied: backoff<3.0.0,>=1.10.0 in e:\\anaconda3\\envs\\llm\\lib\\site-packages (from opentelemetry-exporter-otlp-proto-grpc>=1.2.0->chromadb==0.4.21) (2.2.1)\n",
      "Requirement already satisfied: googleapis-common-protos~=1.52 in e:\\anaconda3\\envs\\llm\\lib\\site-packages (from opentelemetry-exporter-otlp-proto-grpc>=1.2.0->chromadb==0.4.21) (1.62.0)\n",
      "Requirement already satisfied: opentelemetry-exporter-otlp-proto-common==1.22.0 in e:\\anaconda3\\envs\\llm\\lib\\site-packages (from opentelemetry-exporter-otlp-proto-grpc>=1.2.0->chromadb==0.4.21) (1.22.0)\n",
      "Requirement already satisfied: opentelemetry-proto==1.22.0 in e:\\anaconda3\\envs\\llm\\lib\\site-packages (from opentelemetry-exporter-otlp-proto-grpc>=1.2.0->chromadb==0.4.21) (1.22.0)\n",
      "Requirement already satisfied: opentelemetry-instrumentation-asgi==0.43b0 in e:\\anaconda3\\envs\\llm\\lib\\site-packages (from opentelemetry-instrumentation-fastapi>=0.41b0->chromadb==0.4.21) (0.43b0)\n",
      "Requirement already satisfied: opentelemetry-instrumentation==0.43b0 in e:\\anaconda3\\envs\\llm\\lib\\site-packages (from opentelemetry-instrumentation-fastapi>=0.41b0->chromadb==0.4.21) (0.43b0)\n",
      "Requirement already satisfied: opentelemetry-semantic-conventions==0.43b0 in e:\\anaconda3\\envs\\llm\\lib\\site-packages (from opentelemetry-instrumentation-fastapi>=0.41b0->chromadb==0.4.21) (0.43b0)\n",
      "Requirement already satisfied: opentelemetry-util-http==0.43b0 in e:\\anaconda3\\envs\\llm\\lib\\site-packages (from opentelemetry-instrumentation-fastapi>=0.41b0->chromadb==0.4.21) (0.43b0)\n",
      "Requirement already satisfied: setuptools>=16.0 in e:\\anaconda3\\envs\\llm\\lib\\site-packages (from opentelemetry-instrumentation==0.43b0->opentelemetry-instrumentation-fastapi>=0.41b0->chromadb==0.4.21) (68.2.2)\n",
      "Requirement already satisfied: wrapt<2.0.0,>=1.0.0 in e:\\anaconda3\\envs\\llm\\lib\\site-packages (from opentelemetry-instrumentation==0.43b0->opentelemetry-instrumentation-fastapi>=0.41b0->chromadb==0.4.21) (1.16.0)\n",
      "Requirement already satisfied: asgiref~=3.0 in e:\\anaconda3\\envs\\llm\\lib\\site-packages (from opentelemetry-instrumentation-asgi==0.43b0->opentelemetry-instrumentation-fastapi>=0.41b0->chromadb==0.4.21) (3.7.2)\n",
      "Requirement already satisfied: monotonic>=1.5 in e:\\anaconda3\\envs\\llm\\lib\\site-packages (from posthog>=2.4.0->chromadb==0.4.21) (1.6)\n",
      "Requirement already satisfied: annotated-types>=0.4.0 in e:\\anaconda3\\envs\\llm\\lib\\site-packages (from pydantic>=1.9->chromadb==0.4.21) (0.6.0)\n",
      "Requirement already satisfied: pydantic-core==2.14.6 in e:\\anaconda3\\envs\\llm\\lib\\site-packages (from pydantic>=1.9->chromadb==0.4.21) (2.14.6)\n",
      "Requirement already satisfied: charset-normalizer<4,>=2 in e:\\anaconda3\\envs\\llm\\lib\\site-packages (from requests>=2.28->chromadb==0.4.21) (3.3.2)\n",
      "Requirement already satisfied: idna<4,>=2.5 in e:\\anaconda3\\envs\\llm\\lib\\site-packages (from requests>=2.28->chromadb==0.4.21) (3.6)\n",
      "Requirement already satisfied: huggingface_hub<1.0,>=0.16.4 in e:\\anaconda3\\envs\\llm\\lib\\site-packages (from tokenizers>=0.13.2->chromadb==0.4.21) (0.19.4)\n",
      "Requirement already satisfied: colorama in e:\\anaconda3\\envs\\llm\\lib\\site-packages (from tqdm>=4.65.0->chromadb==0.4.21) (0.4.6)\n",
      "Requirement already satisfied: click<9.0.0,>=7.1.1 in e:\\anaconda3\\envs\\llm\\lib\\site-packages (from typer>=0.9.0->chromadb==0.4.21) (8.1.7)\n",
      "Requirement already satisfied: h11>=0.8 in e:\\anaconda3\\envs\\llm\\lib\\site-packages (from uvicorn>=0.18.3->uvicorn[standard]>=0.18.3->chromadb==0.4.21) (0.14.0)\n",
      "Requirement already satisfied: httptools>=0.5.0 in e:\\anaconda3\\envs\\llm\\lib\\site-packages (from uvicorn[standard]>=0.18.3->chromadb==0.4.21) (0.6.1)\n",
      "Requirement already satisfied: python-dotenv>=0.13 in e:\\anaconda3\\envs\\llm\\lib\\site-packages (from uvicorn[standard]>=0.18.3->chromadb==0.4.21) (1.0.0)\n",
      "Requirement already satisfied: watchfiles>=0.13 in e:\\anaconda3\\envs\\llm\\lib\\site-packages (from uvicorn[standard]>=0.18.3->chromadb==0.4.21) (0.21.0)\n",
      "Requirement already satisfied: websockets>=10.4 in e:\\anaconda3\\envs\\llm\\lib\\site-packages (from uvicorn[standard]>=0.18.3->chromadb==0.4.21) (12.0)\n",
      "Requirement already satisfied: zipp>=3.1.0 in e:\\anaconda3\\envs\\llm\\lib\\site-packages (from importlib-resources->chromadb==0.4.21) (3.17.0)\n",
      "Requirement already satisfied: cachetools<6.0,>=2.0.0 in e:\\anaconda3\\envs\\llm\\lib\\site-packages (from google-auth>=1.0.1->kubernetes>=28.1.0->chromadb==0.4.21) (5.3.2)\n",
      "Requirement already satisfied: pyasn1-modules>=0.2.1 in e:\\anaconda3\\envs\\llm\\lib\\site-packages (from google-auth>=1.0.1->kubernetes>=28.1.0->chromadb==0.4.21) (0.3.0)\n",
      "Requirement already satisfied: rsa<5,>=3.1.4 in e:\\anaconda3\\envs\\llm\\lib\\site-packages (from google-auth>=1.0.1->kubernetes>=28.1.0->chromadb==0.4.21) (4.9)\n",
      "Requirement already satisfied: filelock in e:\\anaconda3\\envs\\llm\\lib\\site-packages (from huggingface_hub<1.0,>=0.16.4->tokenizers>=0.13.2->chromadb==0.4.21) (3.13.1)\n",
      "Requirement already satisfied: fsspec>=2023.5.0 in e:\\anaconda3\\envs\\llm\\lib\\site-packages (from huggingface_hub<1.0,>=0.16.4->tokenizers>=0.13.2->chromadb==0.4.21) (2023.12.2)\n",
      "Requirement already satisfied: anyio<5,>=3.4.0 in e:\\anaconda3\\envs\\llm\\lib\\site-packages (from starlette<0.33.0,>=0.29.0->fastapi>=0.95.2->chromadb==0.4.21) (4.2.0)\n",
      "Requirement already satisfied: humanfriendly>=9.1 in e:\\anaconda3\\envs\\llm\\lib\\site-packages (from coloredlogs->onnxruntime>=1.14.1->chromadb==0.4.21) (10.0)\n",
      "Requirement already satisfied: mpmath>=0.19 in e:\\anaconda3\\envs\\llm\\lib\\site-packages (from sympy->onnxruntime>=1.14.1->chromadb==0.4.21) (1.3.0)\n",
      "Requirement already satisfied: sniffio>=1.1 in e:\\anaconda3\\envs\\llm\\lib\\site-packages (from anyio<5,>=3.4.0->starlette<0.33.0,>=0.29.0->fastapi>=0.95.2->chromadb==0.4.21) (1.3.0)\n",
      "Requirement already satisfied: exceptiongroup>=1.0.2 in e:\\anaconda3\\envs\\llm\\lib\\site-packages (from anyio<5,>=3.4.0->starlette<0.33.0,>=0.29.0->fastapi>=0.95.2->chromadb==0.4.21) (1.2.0)\n",
      "Requirement already satisfied: pyreadline3 in e:\\anaconda3\\envs\\llm\\lib\\site-packages (from humanfriendly>=9.1->coloredlogs->onnxruntime>=1.14.1->chromadb==0.4.21) (3.4.1)\n",
      "Requirement already satisfied: pyasn1<0.6.0,>=0.4.6 in e:\\anaconda3\\envs\\llm\\lib\\site-packages (from pyasn1-modules>=0.2.1->google-auth>=1.0.1->kubernetes>=28.1.0->chromadb==0.4.21) (0.5.1)\n",
      "Using cached tokenizers-0.15.0-cp38-none-win_amd64.whl (2.2 MB)\n",
      "Installing collected packages: tokenizers\n",
      "  Attempting uninstall: tokenizers\n",
      "    Found existing installation: tokenizers 0.10.3\n",
      "    Uninstalling tokenizers-0.10.3:\n",
      "      Successfully uninstalled tokenizers-0.10.3\n",
      "Successfully installed tokenizers-0.15.0\n"
     ]
    },
    {
     "name": "stderr",
     "output_type": "stream",
     "text": [
      "WARNING: Ignoring invalid distribution -pype1 (c:\\users\\jyseo\\appdata\\roaming\\python\\python38\\site-packages)\n",
      "WARNING: Ignoring invalid distribution -pype1 (c:\\users\\jyseo\\appdata\\roaming\\python\\python38\\site-packages)\n",
      "WARNING: Ignoring invalid distribution -pype1 (c:\\users\\jyseo\\appdata\\roaming\\python\\python38\\site-packages)\n",
      "    WARNING: Ignoring invalid distribution -pype1 (c:\\users\\jyseo\\appdata\\roaming\\python\\python38\\site-packages)\n",
      "ERROR: pip's dependency resolver does not currently take into account all the packages that are installed. This behaviour is the source of the following dependency conflicts.\n",
      "transformers 4.12.5 requires tokenizers<0.11,>=0.10.1, but you have tokenizers 0.15.0 which is incompatible.\n",
      "WARNING: Ignoring invalid distribution -pype1 (c:\\users\\jyseo\\appdata\\roaming\\python\\python38\\site-packages)\n",
      "WARNING: Ignoring invalid distribution -pype1 (c:\\users\\jyseo\\appdata\\roaming\\python\\python38\\site-packages)\n",
      "WARNING: Ignoring invalid distribution -pype1 (c:\\users\\jyseo\\appdata\\roaming\\python\\python38\\site-packages)\n"
     ]
    }
   ],
   "source": [
    "#!pip install chromadb==0.4.21"
   ]
  },
  {
   "cell_type": "code",
   "execution_count": 4,
   "id": "e55467e4",
   "metadata": {},
   "outputs": [
    {
     "name": "stdout",
     "output_type": "stream",
     "text": [
      "Collecting openai==1.4.0\n",
      "  Using cached openai-1.4.0-py3-none-any.whl.metadata (17 kB)\n",
      "Requirement already satisfied: anyio<5,>=3.5.0 in e:\\anaconda3\\envs\\llm\\lib\\site-packages (from openai==1.4.0) (4.2.0)\n",
      "Requirement already satisfied: distro<2,>=1.7.0 in e:\\anaconda3\\envs\\llm\\lib\\site-packages (from openai==1.4.0) (1.9.0)\n",
      "Requirement already satisfied: httpx<1,>=0.23.0 in e:\\anaconda3\\envs\\llm\\lib\\site-packages (from openai==1.4.0) (0.26.0)\n",
      "Requirement already satisfied: pydantic<3,>=1.9.0 in e:\\anaconda3\\envs\\llm\\lib\\site-packages (from openai==1.4.0) (2.5.3)\n",
      "Requirement already satisfied: sniffio in e:\\anaconda3\\envs\\llm\\lib\\site-packages (from openai==1.4.0) (1.3.0)\n",
      "Requirement already satisfied: tqdm>4 in e:\\anaconda3\\envs\\llm\\lib\\site-packages (from openai==1.4.0) (4.66.1)\n",
      "Requirement already satisfied: typing-extensions<5,>=4.5 in e:\\anaconda3\\envs\\llm\\lib\\site-packages (from openai==1.4.0) (4.9.0)\n",
      "Requirement already satisfied: idna>=2.8 in e:\\anaconda3\\envs\\llm\\lib\\site-packages (from anyio<5,>=3.5.0->openai==1.4.0) (3.6)\n",
      "Requirement already satisfied: exceptiongroup>=1.0.2 in e:\\anaconda3\\envs\\llm\\lib\\site-packages (from anyio<5,>=3.5.0->openai==1.4.0) (1.2.0)\n",
      "Requirement already satisfied: certifi in e:\\anaconda3\\envs\\llm\\lib\\site-packages (from httpx<1,>=0.23.0->openai==1.4.0) (2023.11.17)\n",
      "Requirement already satisfied: httpcore==1.* in e:\\anaconda3\\envs\\llm\\lib\\site-packages (from httpx<1,>=0.23.0->openai==1.4.0) (1.0.2)\n",
      "Requirement already satisfied: h11<0.15,>=0.13 in e:\\anaconda3\\envs\\llm\\lib\\site-packages (from httpcore==1.*->httpx<1,>=0.23.0->openai==1.4.0) (0.14.0)\n",
      "Requirement already satisfied: annotated-types>=0.4.0 in e:\\anaconda3\\envs\\llm\\lib\\site-packages (from pydantic<3,>=1.9.0->openai==1.4.0) (0.6.0)\n",
      "Requirement already satisfied: pydantic-core==2.14.6 in e:\\anaconda3\\envs\\llm\\lib\\site-packages (from pydantic<3,>=1.9.0->openai==1.4.0) (2.14.6)\n",
      "Requirement already satisfied: colorama in e:\\anaconda3\\envs\\llm\\lib\\site-packages (from tqdm>4->openai==1.4.0) (0.4.6)\n",
      "Using cached openai-1.4.0-py3-none-any.whl (221 kB)\n",
      "Installing collected packages: openai\n",
      "  Attempting uninstall: openai\n",
      "    Found existing installation: openai 0.28.1\n",
      "    Uninstalling openai-0.28.1:\n",
      "      Successfully uninstalled openai-0.28.1\n",
      "Successfully installed openai-1.4.0\n"
     ]
    },
    {
     "name": "stderr",
     "output_type": "stream",
     "text": [
      "WARNING: Ignoring invalid distribution -pype1 (c:\\users\\jyseo\\appdata\\roaming\\python\\python38\\site-packages)\n",
      "WARNING: Ignoring invalid distribution -pype1 (c:\\users\\jyseo\\appdata\\roaming\\python\\python38\\site-packages)\n",
      "WARNING: Ignoring invalid distribution -pype1 (c:\\users\\jyseo\\appdata\\roaming\\python\\python38\\site-packages)\n",
      "    WARNING: Ignoring invalid distribution -pype1 (c:\\users\\jyseo\\appdata\\roaming\\python\\python38\\site-packages)\n",
      "WARNING: Ignoring invalid distribution -pype1 (c:\\users\\jyseo\\appdata\\roaming\\python\\python38\\site-packages)\n",
      "WARNING: Ignoring invalid distribution -pype1 (c:\\users\\jyseo\\appdata\\roaming\\python\\python38\\site-packages)\n",
      "WARNING: Ignoring invalid distribution -pype1 (c:\\users\\jyseo\\appdata\\roaming\\python\\python38\\site-packages)\n"
     ]
    }
   ],
   "source": [
    "#!pip install openai==1.4.0 "
   ]
  },
  {
   "cell_type": "code",
   "execution_count": 15,
   "id": "cbb7e080",
   "metadata": {},
   "outputs": [
    {
     "name": "stdout",
     "output_type": "stream",
     "text": [
      "Requirement already satisfied: sentence-transformers==2.2.2 in e:\\anaconda3\\envs\\llm\\lib\\site-packages (2.2.2)Note: you may need to restart the kernel to use updated packages.\n",
      "\n",
      "Requirement already satisfied: transformers<5.0.0,>=4.6.0 in c:\\users\\jyseo\\appdata\\roaming\\python\\python38\\site-packages (from sentence-transformers==2.2.2) (4.12.5)\n",
      "Requirement already satisfied: tqdm in e:\\anaconda3\\envs\\llm\\lib\\site-packages (from sentence-transformers==2.2.2) (4.66.1)\n",
      "Requirement already satisfied: torch>=1.6.0 in e:\\anaconda3\\envs\\llm\\lib\\site-packages (from sentence-transformers==2.2.2) (2.1.2)\n",
      "Requirement already satisfied: torchvision in e:\\anaconda3\\envs\\llm\\lib\\site-packages (from sentence-transformers==2.2.2) (0.16.2)\n",
      "Requirement already satisfied: numpy in e:\\anaconda3\\envs\\llm\\lib\\site-packages (from sentence-transformers==2.2.2) (1.24.4)\n",
      "Requirement already satisfied: scikit-learn in e:\\anaconda3\\envs\\llm\\lib\\site-packages (from sentence-transformers==2.2.2) (1.3.2)\n",
      "Requirement already satisfied: scipy in e:\\anaconda3\\envs\\llm\\lib\\site-packages (from sentence-transformers==2.2.2) (1.10.1)\n",
      "Requirement already satisfied: nltk in e:\\anaconda3\\envs\\llm\\lib\\site-packages (from sentence-transformers==2.2.2) (3.8.1)\n",
      "Requirement already satisfied: sentencepiece in e:\\anaconda3\\envs\\llm\\lib\\site-packages (from sentence-transformers==2.2.2) (0.1.99)\n",
      "Requirement already satisfied: huggingface-hub>=0.4.0 in e:\\anaconda3\\envs\\llm\\lib\\site-packages (from sentence-transformers==2.2.2) (0.19.4)\n",
      "Requirement already satisfied: filelock in e:\\anaconda3\\envs\\llm\\lib\\site-packages (from huggingface-hub>=0.4.0->sentence-transformers==2.2.2) (3.13.1)\n",
      "Requirement already satisfied: fsspec>=2023.5.0 in e:\\anaconda3\\envs\\llm\\lib\\site-packages (from huggingface-hub>=0.4.0->sentence-transformers==2.2.2) (2023.12.2)\n",
      "Requirement already satisfied: requests in e:\\anaconda3\\envs\\llm\\lib\\site-packages (from huggingface-hub>=0.4.0->sentence-transformers==2.2.2) (2.31.0)\n",
      "Requirement already satisfied: pyyaml>=5.1 in e:\\anaconda3\\envs\\llm\\lib\\site-packages (from huggingface-hub>=0.4.0->sentence-transformers==2.2.2) (6.0.1)\n",
      "Requirement already satisfied: typing-extensions>=3.7.4.3 in e:\\anaconda3\\envs\\llm\\lib\\site-packages (from huggingface-hub>=0.4.0->sentence-transformers==2.2.2) (4.9.0)\n",
      "Requirement already satisfied: packaging>=20.9 in e:\\anaconda3\\envs\\llm\\lib\\site-packages (from huggingface-hub>=0.4.0->sentence-transformers==2.2.2) (23.2)\n",
      "Requirement already satisfied: sympy in e:\\anaconda3\\envs\\llm\\lib\\site-packages (from torch>=1.6.0->sentence-transformers==2.2.2) (1.12)\n",
      "Requirement already satisfied: networkx in e:\\anaconda3\\envs\\llm\\lib\\site-packages (from torch>=1.6.0->sentence-transformers==2.2.2) (3.1)\n",
      "Requirement already satisfied: jinja2 in e:\\anaconda3\\envs\\llm\\lib\\site-packages (from torch>=1.6.0->sentence-transformers==2.2.2) (3.1.2)\n",
      "Requirement already satisfied: colorama in e:\\anaconda3\\envs\\llm\\lib\\site-packages (from tqdm->sentence-transformers==2.2.2) (0.4.6)\n",
      "Requirement already satisfied: regex!=2019.12.17 in e:\\anaconda3\\envs\\llm\\lib\\site-packages (from transformers<5.0.0,>=4.6.0->sentence-transformers==2.2.2) (2023.12.25)\n",
      "Requirement already satisfied: sacremoses in e:\\anaconda3\\envs\\llm\\lib\\site-packages (from transformers<5.0.0,>=4.6.0->sentence-transformers==2.2.2) (0.1.1)\n",
      "Collecting tokenizers<0.11,>=0.10.1 (from transformers<5.0.0,>=4.6.0->sentence-transformers==2.2.2)\n",
      "  Using cached tokenizers-0.10.3-cp38-cp38-win_amd64.whl (2.0 MB)\n",
      "Requirement already satisfied: click in e:\\anaconda3\\envs\\llm\\lib\\site-packages (from nltk->sentence-transformers==2.2.2) (8.1.7)\n",
      "Requirement already satisfied: joblib in e:\\anaconda3\\envs\\llm\\lib\\site-packages (from nltk->sentence-transformers==2.2.2) (1.3.2)\n",
      "Requirement already satisfied: threadpoolctl>=2.0.0 in e:\\anaconda3\\envs\\llm\\lib\\site-packages (from scikit-learn->sentence-transformers==2.2.2) (3.2.0)\n",
      "Requirement already satisfied: pillow!=8.3.*,>=5.3.0 in e:\\anaconda3\\envs\\llm\\lib\\site-packages (from torchvision->sentence-transformers==2.2.2) (10.1.0)\n",
      "Requirement already satisfied: MarkupSafe>=2.0 in e:\\anaconda3\\envs\\llm\\lib\\site-packages (from jinja2->torch>=1.6.0->sentence-transformers==2.2.2) (2.1.3)\n",
      "Requirement already satisfied: charset-normalizer<4,>=2 in e:\\anaconda3\\envs\\llm\\lib\\site-packages (from requests->huggingface-hub>=0.4.0->sentence-transformers==2.2.2) (3.3.2)\n",
      "Requirement already satisfied: idna<4,>=2.5 in e:\\anaconda3\\envs\\llm\\lib\\site-packages (from requests->huggingface-hub>=0.4.0->sentence-transformers==2.2.2) (3.6)\n",
      "Requirement already satisfied: urllib3<3,>=1.21.1 in e:\\anaconda3\\envs\\llm\\lib\\site-packages (from requests->huggingface-hub>=0.4.0->sentence-transformers==2.2.2) (1.26.18)\n",
      "Requirement already satisfied: certifi>=2017.4.17 in e:\\anaconda3\\envs\\llm\\lib\\site-packages (from requests->huggingface-hub>=0.4.0->sentence-transformers==2.2.2) (2023.11.17)\n",
      "Requirement already satisfied: mpmath>=0.19 in e:\\anaconda3\\envs\\llm\\lib\\site-packages (from sympy->torch>=1.6.0->sentence-transformers==2.2.2) (1.3.0)\n",
      "Installing collected packages: tokenizers\n",
      "  Attempting uninstall: tokenizers\n",
      "    Found existing installation: tokenizers 0.15.0\n",
      "    Uninstalling tokenizers-0.15.0:\n",
      "      Successfully uninstalled tokenizers-0.15.0\n",
      "Successfully installed tokenizers-0.10.3\n"
     ]
    },
    {
     "name": "stderr",
     "output_type": "stream",
     "text": [
      "WARNING: Ignoring invalid distribution -pype1 (c:\\users\\jyseo\\appdata\\roaming\\python\\python38\\site-packages)\n",
      "WARNING: Ignoring invalid distribution -pype1 (c:\\users\\jyseo\\appdata\\roaming\\python\\python38\\site-packages)\n",
      "WARNING: Ignoring invalid distribution -pype1 (c:\\users\\jyseo\\appdata\\roaming\\python\\python38\\site-packages)\n",
      "    WARNING: Ignoring invalid distribution -pype1 (c:\\users\\jyseo\\appdata\\roaming\\python\\python38\\site-packages)\n",
      "ERROR: pip's dependency resolver does not currently take into account all the packages that are installed. This behaviour is the source of the following dependency conflicts.\n",
      "chromadb 0.4.21 requires tokenizers>=0.13.2, but you have tokenizers 0.10.3 which is incompatible.\n",
      "WARNING: Ignoring invalid distribution -pype1 (c:\\users\\jyseo\\appdata\\roaming\\python\\python38\\site-packages)\n",
      "WARNING: Ignoring invalid distribution -pype1 (c:\\users\\jyseo\\appdata\\roaming\\python\\python38\\site-packages)\n",
      "WARNING: Ignoring invalid distribution -pype1 (c:\\users\\jyseo\\appdata\\roaming\\python\\python38\\site-packages)\n"
     ]
    }
   ],
   "source": [
    "#pip install sentence-transformers==2.2.2"
   ]
  },
  {
   "cell_type": "code",
   "execution_count": 16,
   "id": "1be69cf2",
   "metadata": {},
   "outputs": [],
   "source": [
    "from langchain.document_loaders import TextLoader\n",
    "documents = TextLoader(\"e:/data/AI.txt\").load()"
   ]
  },
  {
   "cell_type": "code",
   "execution_count": 17,
   "id": "124a3fe4",
   "metadata": {},
   "outputs": [],
   "source": [
    "from langchain.text_splitter import RecursiveCharacterTextSplitter\n",
    "\n",
    "# 문서를 청크로 분할\n",
    "def split_docs(documents,chunk_size=1000,chunk_overlap=20):\n",
    "  text_splitter = RecursiveCharacterTextSplitter(chunk_size=chunk_size, chunk_overlap=chunk_overlap)\n",
    "  docs = text_splitter.split_documents(documents)\n",
    "  return docs\n",
    "\n",
    "# docs 변수에 분할 문서를 저장\n",
    "docs = split_docs(documents)\n"
   ]
  },
  {
   "cell_type": "code",
   "execution_count": 18,
   "id": "6434e36c",
   "metadata": {},
   "outputs": [],
   "source": [
    "from langchain.embeddings import SentenceTransformerEmbeddings\n",
    "embeddings = SentenceTransformerEmbeddings(model_name=\"all-MiniLM-L6-v2\")\n",
    "\n",
    "# Chromdb에 벡터 저장\n",
    "from langchain.vectorstores import Chroma\n",
    "db = Chroma.from_documents(docs, embeddings)\n"
   ]
  },
  {
   "cell_type": "code",
   "execution_count": 20,
   "id": "8ea8ff78",
   "metadata": {},
   "outputs": [
    {
     "name": "stderr",
     "output_type": "stream",
     "text": [
      "Number of requested results 4 is greater than number of elements in index 3, updating n_results = 3\n"
     ]
    },
    {
     "name": "stdout",
     "output_type": "stream",
     "text": [
      "\n",
      "\n",
      "\u001b[1m> Entering new StuffDocumentsChain chain...\u001b[0m\n",
      "\n",
      "\n",
      "\u001b[1m> Entering new LLMChain chain...\u001b[0m\n",
      "Prompt after formatting:\n",
      "\u001b[32;1m\u001b[1;3mSystem: Use the following pieces of context to answer the user's question. \n",
      "If you don't know the answer, just say that you don't know, don't try to make up an answer.\n",
      "----------------\n",
      "Artificial intelligence (AI) is the intelligence of machines or software, as opposed to the intelligence of humans or animals. It is a field of study in computer science that develops and studies intelligent machines. Such machines may be called AIs.\n",
      "\n",
      "AI technology is widely used throughout industry, government, and science. Some high-profile applications are: advanced web search engines (e.g., Google Search), recommendation systems (used by YouTube, Amazon, and Netflix), understanding human speech (such as Google Assistant, Siri, and Alexa), self-driving cars (e.g., Waymo), generative and creative tools (ChatGPT and AI art), and superhuman play and analysis in strategy games (such as chess and Go).[1]\n",
      "\n",
      "The various sub-fields of AI research are centered around particular goals and the use of particular tools. The traditional goals of AI research include reasoning, knowledge representation, planning, learning, natural language processing, perception, and support for robotics.[a] General intelligence (the ability to complete any task performable by a human) is among the field's long-term goals.[11]\n",
      "\n",
      "To solve these problems, AI researchers have adapted and integrated a wide range of problem-solving techniques, including search and mathematical optimization, formal logic, artificial neural networks, and methods based on statistics, operations research, and economics.[b] AI also draws upon psychology, linguistics, philosophy, neuroscience and other fields.[12]\n",
      "\n",
      "Alan Turing was the first person to carry out substantial research in the field that he called Machine Intelligence.[2] Artificial intelligence was founded as an academic discipline in 1956.[3] The field went through multiple cycles of optimism[4][5] followed by disappointment and loss of funding.[6][7] Funding and interest vastly increased after 2012 when deep learning surpassed all previous AI techniques,[8] and after 2017 with the transformer architecture.[9] This led to the AI spring of the 2020s, with companies, universities, and laboratories overwhelmingly based in the United States pioneering significant advances in artificial intelligence.[10]\n",
      "Human: AI란?\u001b[0m\n",
      "\n",
      "\u001b[1m> Finished chain.\u001b[0m\n",
      "\n",
      "\u001b[1m> Finished chain.\u001b[0m\n"
     ]
    },
    {
     "data": {
      "text/plain": [
       "'AI는 인간이나 동물의 지능과 달리 기계나 소프트웨어의 지능을 말합니다. 이는 컴퓨터 과학에서 개발하고 연구하는 지능적인 기계에 대한 연구 분야입니다. AI 기술은 산업, 정부, 과학 분야에서 널리 사용됩니다. 일부 주요 응용 분야에는 고급 웹 검색 엔진(예: Google 검색), 추천 시스템(YouTube, Amazon, Netflix에서 사용), 인간의 음성 이해(예: Google 어시스턴트, Siri, Alexa), 자율 주행 자동차(Waymo 등), 창의적인 도구(ChatGPT 및 AI 예술) 및 전략 게임에서 초인적인 플레이와 분석(체스 및 바둑 등)이 있습니다. AI 연구의 다양한 하위 분야는 특정 목표와 특정 도구를 중심으로 합니다. AI 연구의 전통적인 목표에는 추론, 지식 표현, 계획, 학습, 자연 언어 처리, 인지, 로봇 지원 등이 포함됩니다. 일반 인공지능(인간이 수행할 수 있는 모든 작업을 완료할 수 있는 능력)은 이 분야의 장기 목표 중 하나입니다. 이러한 문제를 해결하기 위해 AI 연구자들은 탐색 및 수학적 최적화, 형식적 논리, 인공 신경망, 통계 및 운영 연구, 경제에 기반한 방법 등 다양한 문제 해결 기술을 적용하고 통합했습니다. AI는 심리학, 언어학, 철학, 신경과학 등 다른 분야도 참고하고 있습니다. AI는 앨런 튜링이 기계 지능이라고 부르며 첫 번째로 상당한 연구를 수행한 사람입니다. 인공 지능은 1956년 학문적인 학문으로 설립되었습니다. 이 분야는 낙관주의와 실망 및 자금 부족의 여러 사이클을 거쳤습니다. 2012년에 딥러닝이 이전의 모든 AI 기술을 뛰어넘었고, 2017년에는 변형기 아키텍처가 등장한 이후로 자금과 관심이 크게 증가했습니다. 이로 인해 2020년대 AI 산업의 봄이 왔으며, 미국을 중심으로 기업, 대학 및 연구소가 인공 지능 분야에서 중요한 발전을 이끌고 있습니다.'"
      ]
     },
     "execution_count": 20,
     "metadata": {},
     "output_type": "execute_result"
    }
   ],
   "source": [
    "import os #운영체제(os) 모듈을 가져올 때 사용되는 라이브러리\n",
    "os.environ[\"OPENAI_API_KEY\"] = \"sk-\" #openai 키 입력\n",
    "\n",
    "from langchain.chat_models import ChatOpenAI\n",
    "model_name = \"gpt-3.5-turbo\"  #GPT-3.5 turbo 모델 사용\n",
    "llm = ChatOpenAI(model_name=model_name)\n",
    "\n",
    "# Q&A 체인을 사용하여 쿼리에 대한 답변 얻기\n",
    "from langchain.chains.question_answering import load_qa_chain\n",
    "chain = load_qa_chain(llm, chain_type=\"stuff\",verbose=True)\n",
    "\n",
    "# 쿼리를 작성하고 유사성 검색을 수행하여 답변을 생성,따라서 txt에 있는 내용을 질의해야 합니다\n",
    "query = \"AI란?\"\n",
    "matching_docs = db.similarity_search(query)\n",
    "answer =  chain.run(input_documents=matching_docs, question=query)\n",
    "answer\n"
   ]
  },
  {
   "cell_type": "code",
   "execution_count": null,
   "id": "27a686a4",
   "metadata": {},
   "outputs": [],
   "source": []
  }
 ],
 "metadata": {
  "kernelspec": {
   "display_name": "llm38",
   "language": "python",
   "name": "llm38"
  },
  "language_info": {
   "codemirror_mode": {
    "name": "ipython",
    "version": 3
   },
   "file_extension": ".py",
   "mimetype": "text/x-python",
   "name": "python",
   "nbconvert_exporter": "python",
   "pygments_lexer": "ipython3",
   "version": "3.8.18"
  }
 },
 "nbformat": 4,
 "nbformat_minor": 5
}
