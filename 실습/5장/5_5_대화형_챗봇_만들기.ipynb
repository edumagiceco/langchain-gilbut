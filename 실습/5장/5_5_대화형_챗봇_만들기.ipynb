{
 "cells": [
  {
   "cell_type": "code",
   "execution_count": 1,
   "id": "f751bf78",
   "metadata": {},
   "outputs": [
    {
     "name": "stdout",
     "output_type": "stream",
     "text": [
      "Requirement already satisfied: streamlit-chat==0.1.1 in e:\\anaconda3\\envs\\llm\\lib\\site-packages (0.1.1)\n",
      "Requirement already satisfied: streamlit>=0.63 in e:\\anaconda3\\envs\\llm\\lib\\site-packages (from streamlit-chat==0.1.1) (1.29.0)\n",
      "Requirement already satisfied: altair<6,>=4.0 in e:\\anaconda3\\envs\\llm\\lib\\site-packages (from streamlit>=0.63->streamlit-chat==0.1.1) (5.2.0)\n",
      "Requirement already satisfied: blinker<2,>=1.0.0 in e:\\anaconda3\\envs\\llm\\lib\\site-packages (from streamlit>=0.63->streamlit-chat==0.1.1) (1.7.0)\n",
      "Requirement already satisfied: cachetools<6,>=4.0 in e:\\anaconda3\\envs\\llm\\lib\\site-packages (from streamlit>=0.63->streamlit-chat==0.1.1) (5.3.2)\n",
      "Requirement already satisfied: click<9,>=7.0 in e:\\anaconda3\\envs\\llm\\lib\\site-packages (from streamlit>=0.63->streamlit-chat==0.1.1) (8.1.7)\n",
      "Requirement already satisfied: importlib-metadata<7,>=1.4 in e:\\anaconda3\\envs\\llm\\lib\\site-packages (from streamlit>=0.63->streamlit-chat==0.1.1) (6.11.0)\n",
      "Requirement already satisfied: numpy<2,>=1.19.3 in e:\\anaconda3\\envs\\llm\\lib\\site-packages (from streamlit>=0.63->streamlit-chat==0.1.1) (1.24.4)\n",
      "Requirement already satisfied: packaging<24,>=16.8 in e:\\anaconda3\\envs\\llm\\lib\\site-packages (from streamlit>=0.63->streamlit-chat==0.1.1) (23.2)\n",
      "Requirement already satisfied: pandas<3,>=1.3.0 in e:\\anaconda3\\envs\\llm\\lib\\site-packages (from streamlit>=0.63->streamlit-chat==0.1.1) (2.0.3)\n",
      "Requirement already satisfied: pillow<11,>=7.1.0 in e:\\anaconda3\\envs\\llm\\lib\\site-packages (from streamlit>=0.63->streamlit-chat==0.1.1) (10.1.0)\n",
      "Requirement already satisfied: protobuf<5,>=3.20 in e:\\anaconda3\\envs\\llm\\lib\\site-packages (from streamlit>=0.63->streamlit-chat==0.1.1) (4.25.1)\n",
      "Requirement already satisfied: pyarrow>=6.0 in e:\\anaconda3\\envs\\llm\\lib\\site-packages (from streamlit>=0.63->streamlit-chat==0.1.1) (14.0.2)\n",
      "Requirement already satisfied: python-dateutil<3,>=2.7.3 in e:\\anaconda3\\envs\\llm\\lib\\site-packages (from streamlit>=0.63->streamlit-chat==0.1.1) (2.8.2)\n",
      "Requirement already satisfied: requests<3,>=2.27 in e:\\anaconda3\\envs\\llm\\lib\\site-packages (from streamlit>=0.63->streamlit-chat==0.1.1) (2.31.0)\n",
      "Requirement already satisfied: rich<14,>=10.14.0 in e:\\anaconda3\\envs\\llm\\lib\\site-packages (from streamlit>=0.63->streamlit-chat==0.1.1) (13.7.0)\n",
      "Requirement already satisfied: tenacity<9,>=8.1.0 in e:\\anaconda3\\envs\\llm\\lib\\site-packages (from streamlit>=0.63->streamlit-chat==0.1.1) (8.2.3)\n",
      "Requirement already satisfied: toml<2,>=0.10.1 in e:\\anaconda3\\envs\\llm\\lib\\site-packages (from streamlit>=0.63->streamlit-chat==0.1.1) (0.10.2)\n",
      "Requirement already satisfied: typing-extensions<5,>=4.3.0 in e:\\anaconda3\\envs\\llm\\lib\\site-packages (from streamlit>=0.63->streamlit-chat==0.1.1) (4.9.0)\n",
      "Requirement already satisfied: tzlocal<6,>=1.1 in e:\\anaconda3\\envs\\llm\\lib\\site-packages (from streamlit>=0.63->streamlit-chat==0.1.1) (5.2)\n",
      "Requirement already satisfied: validators<1,>=0.2 in e:\\anaconda3\\envs\\llm\\lib\\site-packages (from streamlit>=0.63->streamlit-chat==0.1.1) (0.22.0)\n",
      "Requirement already satisfied: gitpython!=3.1.19,<4,>=3.0.7 in e:\\anaconda3\\envs\\llm\\lib\\site-packages (from streamlit>=0.63->streamlit-chat==0.1.1) (3.1.40)\n",
      "Requirement already satisfied: pydeck<1,>=0.8.0b4 in e:\\anaconda3\\envs\\llm\\lib\\site-packages (from streamlit>=0.63->streamlit-chat==0.1.1) (0.8.1b0)\n",
      "Requirement already satisfied: tornado<7,>=6.0.3 in e:\\anaconda3\\envs\\llm\\lib\\site-packages (from streamlit>=0.63->streamlit-chat==0.1.1) (6.4)\n",
      "Requirement already satisfied: watchdog>=2.1.5 in e:\\anaconda3\\envs\\llm\\lib\\site-packages (from streamlit>=0.63->streamlit-chat==0.1.1) (3.0.0)\n",
      "Requirement already satisfied: jinja2 in e:\\anaconda3\\envs\\llm\\lib\\site-packages (from altair<6,>=4.0->streamlit>=0.63->streamlit-chat==0.1.1) (3.1.2)\n",
      "Requirement already satisfied: jsonschema>=3.0 in e:\\anaconda3\\envs\\llm\\lib\\site-packages (from altair<6,>=4.0->streamlit>=0.63->streamlit-chat==0.1.1) (4.20.0)\n",
      "Requirement already satisfied: toolz in e:\\anaconda3\\envs\\llm\\lib\\site-packages (from altair<6,>=4.0->streamlit>=0.63->streamlit-chat==0.1.1) (0.12.0)\n",
      "Requirement already satisfied: colorama in e:\\anaconda3\\envs\\llm\\lib\\site-packages (from click<9,>=7.0->streamlit>=0.63->streamlit-chat==0.1.1) (0.4.6)\n",
      "Requirement already satisfied: gitdb<5,>=4.0.1 in e:\\anaconda3\\envs\\llm\\lib\\site-packages (from gitpython!=3.1.19,<4,>=3.0.7->streamlit>=0.63->streamlit-chat==0.1.1) (4.0.11)\n",
      "Requirement already satisfied: zipp>=0.5 in e:\\anaconda3\\envs\\llm\\lib\\site-packages (from importlib-metadata<7,>=1.4->streamlit>=0.63->streamlit-chat==0.1.1) (3.17.0)\n",
      "Requirement already satisfied: pytz>=2020.1 in e:\\anaconda3\\envs\\llm\\lib\\site-packages (from pandas<3,>=1.3.0->streamlit>=0.63->streamlit-chat==0.1.1) (2023.3.post1)\n",
      "Requirement already satisfied: tzdata>=2022.1 in e:\\anaconda3\\envs\\llm\\lib\\site-packages (from pandas<3,>=1.3.0->streamlit>=0.63->streamlit-chat==0.1.1) (2023.3)\n",
      "Requirement already satisfied: six>=1.5 in e:\\anaconda3\\envs\\llm\\lib\\site-packages (from python-dateutil<3,>=2.7.3->streamlit>=0.63->streamlit-chat==0.1.1) (1.16.0)\n",
      "Requirement already satisfied: charset-normalizer<4,>=2 in e:\\anaconda3\\envs\\llm\\lib\\site-packages (from requests<3,>=2.27->streamlit>=0.63->streamlit-chat==0.1.1) (3.3.2)\n",
      "Requirement already satisfied: idna<4,>=2.5 in e:\\anaconda3\\envs\\llm\\lib\\site-packages (from requests<3,>=2.27->streamlit>=0.63->streamlit-chat==0.1.1) (3.6)\n",
      "Requirement already satisfied: urllib3<3,>=1.21.1 in e:\\anaconda3\\envs\\llm\\lib\\site-packages (from requests<3,>=2.27->streamlit>=0.63->streamlit-chat==0.1.1) (1.26.18)\n",
      "Requirement already satisfied: certifi>=2017.4.17 in e:\\anaconda3\\envs\\llm\\lib\\site-packages (from requests<3,>=2.27->streamlit>=0.63->streamlit-chat==0.1.1) (2023.11.17)\n",
      "Requirement already satisfied: markdown-it-py>=2.2.0 in e:\\anaconda3\\envs\\llm\\lib\\site-packages (from rich<14,>=10.14.0->streamlit>=0.63->streamlit-chat==0.1.1) (3.0.0)\n",
      "Requirement already satisfied: pygments<3.0.0,>=2.13.0 in e:\\anaconda3\\envs\\llm\\lib\\site-packages (from rich<14,>=10.14.0->streamlit>=0.63->streamlit-chat==0.1.1) (2.17.2)\n",
      "Requirement already satisfied: backports.zoneinfo in e:\\anaconda3\\envs\\llm\\lib\\site-packages (from tzlocal<6,>=1.1->streamlit>=0.63->streamlit-chat==0.1.1) (0.2.1)\n",
      "Requirement already satisfied: smmap<6,>=3.0.1 in e:\\anaconda3\\envs\\llm\\lib\\site-packages (from gitdb<5,>=4.0.1->gitpython!=3.1.19,<4,>=3.0.7->streamlit>=0.63->streamlit-chat==0.1.1) (5.0.1)\n",
      "Requirement already satisfied: MarkupSafe>=2.0 in e:\\anaconda3\\envs\\llm\\lib\\site-packages (from jinja2->altair<6,>=4.0->streamlit>=0.63->streamlit-chat==0.1.1) (2.1.3)\n",
      "Requirement already satisfied: attrs>=22.2.0 in e:\\anaconda3\\envs\\llm\\lib\\site-packages (from jsonschema>=3.0->altair<6,>=4.0->streamlit>=0.63->streamlit-chat==0.1.1) (23.1.0)\n",
      "Requirement already satisfied: importlib-resources>=1.4.0 in e:\\anaconda3\\envs\\llm\\lib\\site-packages (from jsonschema>=3.0->altair<6,>=4.0->streamlit>=0.63->streamlit-chat==0.1.1) (6.1.1)\n",
      "Requirement already satisfied: jsonschema-specifications>=2023.03.6 in e:\\anaconda3\\envs\\llm\\lib\\site-packages (from jsonschema>=3.0->altair<6,>=4.0->streamlit>=0.63->streamlit-chat==0.1.1) (2023.12.1)\n",
      "Requirement already satisfied: pkgutil-resolve-name>=1.3.10 in e:\\anaconda3\\envs\\llm\\lib\\site-packages (from jsonschema>=3.0->altair<6,>=4.0->streamlit>=0.63->streamlit-chat==0.1.1) (1.3.10)\n",
      "Requirement already satisfied: referencing>=0.28.4 in e:\\anaconda3\\envs\\llm\\lib\\site-packages (from jsonschema>=3.0->altair<6,>=4.0->streamlit>=0.63->streamlit-chat==0.1.1) (0.32.0)\n",
      "Requirement already satisfied: rpds-py>=0.7.1 in e:\\anaconda3\\envs\\llm\\lib\\site-packages (from jsonschema>=3.0->altair<6,>=4.0->streamlit>=0.63->streamlit-chat==0.1.1) (0.16.2)\n",
      "Requirement already satisfied: mdurl~=0.1 in e:\\anaconda3\\envs\\llm\\lib\\site-packages (from markdown-it-py>=2.2.0->rich<14,>=10.14.0->streamlit>=0.63->streamlit-chat==0.1.1) (0.1.2)\n"
     ]
    },
    {
     "name": "stderr",
     "output_type": "stream",
     "text": [
      "WARNING: Ignoring invalid distribution -pype1 (c:\\users\\jyseo\\appdata\\roaming\\python\\python38\\site-packages)\n",
      "WARNING: Ignoring invalid distribution -pype1 (c:\\users\\jyseo\\appdata\\roaming\\python\\python38\\site-packages)\n",
      "WARNING: Ignoring invalid distribution -pype1 (c:\\users\\jyseo\\appdata\\roaming\\python\\python38\\site-packages)\n",
      "WARNING: Ignoring invalid distribution -pype1 (c:\\users\\jyseo\\appdata\\roaming\\python\\python38\\site-packages)\n",
      "WARNING: Ignoring invalid distribution -pype1 (c:\\users\\jyseo\\appdata\\roaming\\python\\python38\\site-packages)\n",
      "WARNING: Ignoring invalid distribution -pype1 (c:\\users\\jyseo\\appdata\\roaming\\python\\python38\\site-packages)\n"
     ]
    }
   ],
   "source": [
    "#!pip install streamlit-chat==0.1.1"
   ]
  },
  {
   "cell_type": "code",
   "execution_count": 2,
   "id": "4a800a29",
   "metadata": {},
   "outputs": [
    {
     "name": "stdout",
     "output_type": "stream",
     "text": [
      "Requirement already satisfied: streamlit==1.29.0 in e:\\anaconda3\\envs\\llm\\lib\\site-packages (1.29.0)\n",
      "Requirement already satisfied: altair<6,>=4.0 in e:\\anaconda3\\envs\\llm\\lib\\site-packages (from streamlit==1.29.0) (5.2.0)\n",
      "Requirement already satisfied: blinker<2,>=1.0.0 in e:\\anaconda3\\envs\\llm\\lib\\site-packages (from streamlit==1.29.0) (1.7.0)\n",
      "Requirement already satisfied: cachetools<6,>=4.0 in e:\\anaconda3\\envs\\llm\\lib\\site-packages (from streamlit==1.29.0) (5.3.2)\n",
      "Requirement already satisfied: click<9,>=7.0 in e:\\anaconda3\\envs\\llm\\lib\\site-packages (from streamlit==1.29.0) (8.1.7)\n",
      "Requirement already satisfied: importlib-metadata<7,>=1.4 in e:\\anaconda3\\envs\\llm\\lib\\site-packages (from streamlit==1.29.0) (6.11.0)\n",
      "Requirement already satisfied: numpy<2,>=1.19.3 in e:\\anaconda3\\envs\\llm\\lib\\site-packages (from streamlit==1.29.0) (1.24.4)\n",
      "Requirement already satisfied: packaging<24,>=16.8 in e:\\anaconda3\\envs\\llm\\lib\\site-packages (from streamlit==1.29.0) (23.2)\n",
      "Requirement already satisfied: pandas<3,>=1.3.0 in e:\\anaconda3\\envs\\llm\\lib\\site-packages (from streamlit==1.29.0) (2.0.3)\n",
      "Requirement already satisfied: pillow<11,>=7.1.0 in e:\\anaconda3\\envs\\llm\\lib\\site-packages (from streamlit==1.29.0) (10.1.0)\n",
      "Requirement already satisfied: protobuf<5,>=3.20 in e:\\anaconda3\\envs\\llm\\lib\\site-packages (from streamlit==1.29.0) (4.25.1)\n",
      "Requirement already satisfied: pyarrow>=6.0 in e:\\anaconda3\\envs\\llm\\lib\\site-packages (from streamlit==1.29.0) (14.0.2)\n",
      "Requirement already satisfied: python-dateutil<3,>=2.7.3 in e:\\anaconda3\\envs\\llm\\lib\\site-packages (from streamlit==1.29.0) (2.8.2)\n",
      "Requirement already satisfied: requests<3,>=2.27 in e:\\anaconda3\\envs\\llm\\lib\\site-packages (from streamlit==1.29.0) (2.31.0)\n",
      "Requirement already satisfied: rich<14,>=10.14.0 in e:\\anaconda3\\envs\\llm\\lib\\site-packages (from streamlit==1.29.0) (13.7.0)\n",
      "Requirement already satisfied: tenacity<9,>=8.1.0 in e:\\anaconda3\\envs\\llm\\lib\\site-packages (from streamlit==1.29.0) (8.2.3)\n",
      "Requirement already satisfied: toml<2,>=0.10.1 in e:\\anaconda3\\envs\\llm\\lib\\site-packages (from streamlit==1.29.0) (0.10.2)\n",
      "Requirement already satisfied: typing-extensions<5,>=4.3.0 in e:\\anaconda3\\envs\\llm\\lib\\site-packages (from streamlit==1.29.0) (4.9.0)\n",
      "Requirement already satisfied: tzlocal<6,>=1.1 in e:\\anaconda3\\envs\\llm\\lib\\site-packages (from streamlit==1.29.0) (5.2)\n",
      "Requirement already satisfied: validators<1,>=0.2 in e:\\anaconda3\\envs\\llm\\lib\\site-packages (from streamlit==1.29.0) (0.22.0)\n",
      "Requirement already satisfied: gitpython!=3.1.19,<4,>=3.0.7 in e:\\anaconda3\\envs\\llm\\lib\\site-packages (from streamlit==1.29.0) (3.1.40)\n",
      "Requirement already satisfied: pydeck<1,>=0.8.0b4 in e:\\anaconda3\\envs\\llm\\lib\\site-packages (from streamlit==1.29.0) (0.8.1b0)\n",
      "Requirement already satisfied: tornado<7,>=6.0.3 in e:\\anaconda3\\envs\\llm\\lib\\site-packages (from streamlit==1.29.0) (6.4)\n",
      "Requirement already satisfied: watchdog>=2.1.5 in e:\\anaconda3\\envs\\llm\\lib\\site-packages (from streamlit==1.29.0) (3.0.0)\n",
      "Requirement already satisfied: jinja2 in e:\\anaconda3\\envs\\llm\\lib\\site-packages (from altair<6,>=4.0->streamlit==1.29.0) (3.1.2)\n",
      "Requirement already satisfied: jsonschema>=3.0 in e:\\anaconda3\\envs\\llm\\lib\\site-packages (from altair<6,>=4.0->streamlit==1.29.0) (4.20.0)\n",
      "Requirement already satisfied: toolz in e:\\anaconda3\\envs\\llm\\lib\\site-packages (from altair<6,>=4.0->streamlit==1.29.0) (0.12.0)\n",
      "Requirement already satisfied: colorama in e:\\anaconda3\\envs\\llm\\lib\\site-packages (from click<9,>=7.0->streamlit==1.29.0) (0.4.6)\n",
      "Requirement already satisfied: gitdb<5,>=4.0.1 in e:\\anaconda3\\envs\\llm\\lib\\site-packages (from gitpython!=3.1.19,<4,>=3.0.7->streamlit==1.29.0) (4.0.11)\n",
      "Requirement already satisfied: zipp>=0.5 in e:\\anaconda3\\envs\\llm\\lib\\site-packages (from importlib-metadata<7,>=1.4->streamlit==1.29.0) (3.17.0)\n",
      "Requirement already satisfied: pytz>=2020.1 in e:\\anaconda3\\envs\\llm\\lib\\site-packages (from pandas<3,>=1.3.0->streamlit==1.29.0) (2023.3.post1)\n",
      "Requirement already satisfied: tzdata>=2022.1 in e:\\anaconda3\\envs\\llm\\lib\\site-packages (from pandas<3,>=1.3.0->streamlit==1.29.0) (2023.3)\n",
      "Requirement already satisfied: six>=1.5 in e:\\anaconda3\\envs\\llm\\lib\\site-packages (from python-dateutil<3,>=2.7.3->streamlit==1.29.0) (1.16.0)\n",
      "Requirement already satisfied: charset-normalizer<4,>=2 in e:\\anaconda3\\envs\\llm\\lib\\site-packages (from requests<3,>=2.27->streamlit==1.29.0) (3.3.2)\n",
      "Requirement already satisfied: idna<4,>=2.5 in e:\\anaconda3\\envs\\llm\\lib\\site-packages (from requests<3,>=2.27->streamlit==1.29.0) (3.6)\n",
      "Requirement already satisfied: urllib3<3,>=1.21.1 in e:\\anaconda3\\envs\\llm\\lib\\site-packages (from requests<3,>=2.27->streamlit==1.29.0) (1.26.18)\n",
      "Requirement already satisfied: certifi>=2017.4.17 in e:\\anaconda3\\envs\\llm\\lib\\site-packages (from requests<3,>=2.27->streamlit==1.29.0) (2023.11.17)\n",
      "Requirement already satisfied: markdown-it-py>=2.2.0 in e:\\anaconda3\\envs\\llm\\lib\\site-packages (from rich<14,>=10.14.0->streamlit==1.29.0) (3.0.0)\n",
      "Requirement already satisfied: pygments<3.0.0,>=2.13.0 in e:\\anaconda3\\envs\\llm\\lib\\site-packages (from rich<14,>=10.14.0->streamlit==1.29.0) (2.17.2)\n",
      "Requirement already satisfied: backports.zoneinfo in e:\\anaconda3\\envs\\llm\\lib\\site-packages (from tzlocal<6,>=1.1->streamlit==1.29.0) (0.2.1)\n",
      "Requirement already satisfied: smmap<6,>=3.0.1 in e:\\anaconda3\\envs\\llm\\lib\\site-packages (from gitdb<5,>=4.0.1->gitpython!=3.1.19,<4,>=3.0.7->streamlit==1.29.0) (5.0.1)\n",
      "Requirement already satisfied: MarkupSafe>=2.0 in e:\\anaconda3\\envs\\llm\\lib\\site-packages (from jinja2->altair<6,>=4.0->streamlit==1.29.0) (2.1.3)\n",
      "Requirement already satisfied: attrs>=22.2.0 in e:\\anaconda3\\envs\\llm\\lib\\site-packages (from jsonschema>=3.0->altair<6,>=4.0->streamlit==1.29.0) (23.1.0)\n",
      "Requirement already satisfied: importlib-resources>=1.4.0 in e:\\anaconda3\\envs\\llm\\lib\\site-packages (from jsonschema>=3.0->altair<6,>=4.0->streamlit==1.29.0) (6.1.1)\n",
      "Requirement already satisfied: jsonschema-specifications>=2023.03.6 in e:\\anaconda3\\envs\\llm\\lib\\site-packages (from jsonschema>=3.0->altair<6,>=4.0->streamlit==1.29.0) (2023.12.1)\n",
      "Requirement already satisfied: pkgutil-resolve-name>=1.3.10 in e:\\anaconda3\\envs\\llm\\lib\\site-packages (from jsonschema>=3.0->altair<6,>=4.0->streamlit==1.29.0) (1.3.10)\n",
      "Requirement already satisfied: referencing>=0.28.4 in e:\\anaconda3\\envs\\llm\\lib\\site-packages (from jsonschema>=3.0->altair<6,>=4.0->streamlit==1.29.0) (0.32.0)\n",
      "Requirement already satisfied: rpds-py>=0.7.1 in e:\\anaconda3\\envs\\llm\\lib\\site-packages (from jsonschema>=3.0->altair<6,>=4.0->streamlit==1.29.0) (0.16.2)\n",
      "Requirement already satisfied: mdurl~=0.1 in e:\\anaconda3\\envs\\llm\\lib\\site-packages (from markdown-it-py>=2.2.0->rich<14,>=10.14.0->streamlit==1.29.0) (0.1.2)\n"
     ]
    },
    {
     "name": "stderr",
     "output_type": "stream",
     "text": [
      "WARNING: Ignoring invalid distribution -pype1 (c:\\users\\jyseo\\appdata\\roaming\\python\\python38\\site-packages)\n",
      "WARNING: Ignoring invalid distribution -pype1 (c:\\users\\jyseo\\appdata\\roaming\\python\\python38\\site-packages)\n",
      "WARNING: Ignoring invalid distribution -pype1 (c:\\users\\jyseo\\appdata\\roaming\\python\\python38\\site-packages)\n",
      "WARNING: Ignoring invalid distribution -pype1 (c:\\users\\jyseo\\appdata\\roaming\\python\\python38\\site-packages)\n",
      "WARNING: Ignoring invalid distribution -pype1 (c:\\users\\jyseo\\appdata\\roaming\\python\\python38\\site-packages)\n",
      "WARNING: Ignoring invalid distribution -pype1 (c:\\users\\jyseo\\appdata\\roaming\\python\\python38\\site-packages)\n"
     ]
    }
   ],
   "source": [
    "#!pip install streamlit==1.29.0"
   ]
  },
  {
   "cell_type": "code",
   "execution_count": 3,
   "id": "d138c52c",
   "metadata": {},
   "outputs": [
    {
     "name": "stdout",
     "output_type": "stream",
     "text": [
      "Requirement already satisfied: langchain==0.0.350 in e:\\anaconda3\\envs\\llm\\lib\\site-packages (0.0.350)\n",
      "Requirement already satisfied: PyYAML>=5.3 in e:\\anaconda3\\envs\\llm\\lib\\site-packages (from langchain==0.0.350) (6.0.1)\n",
      "Requirement already satisfied: SQLAlchemy<3,>=1.4 in e:\\anaconda3\\envs\\llm\\lib\\site-packages (from langchain==0.0.350) (2.0.24)\n",
      "Requirement already satisfied: aiohttp<4.0.0,>=3.8.3 in e:\\anaconda3\\envs\\llm\\lib\\site-packages (from langchain==0.0.350) (3.9.1)\n",
      "Requirement already satisfied: async-timeout<5.0.0,>=4.0.0 in e:\\anaconda3\\envs\\llm\\lib\\site-packages (from langchain==0.0.350) (4.0.3)\n",
      "Requirement already satisfied: dataclasses-json<0.7,>=0.5.7 in e:\\anaconda3\\envs\\llm\\lib\\site-packages (from langchain==0.0.350) (0.6.3)\n",
      "Requirement already satisfied: jsonpatch<2.0,>=1.33 in e:\\anaconda3\\envs\\llm\\lib\\site-packages (from langchain==0.0.350) (1.33)\n",
      "Requirement already satisfied: langchain-community<0.1,>=0.0.2 in e:\\anaconda3\\envs\\llm\\lib\\site-packages (from langchain==0.0.350) (0.0.6)\n",
      "Requirement already satisfied: langchain-core<0.2,>=0.1 in e:\\anaconda3\\envs\\llm\\lib\\site-packages (from langchain==0.0.350) (0.1.3)\n",
      "Requirement already satisfied: langsmith<0.1.0,>=0.0.63 in e:\\anaconda3\\envs\\llm\\lib\\site-packages (from langchain==0.0.350) (0.0.75)\n",
      "Requirement already satisfied: numpy<2,>=1 in e:\\anaconda3\\envs\\llm\\lib\\site-packages (from langchain==0.0.350) (1.24.4)\n",
      "Requirement already satisfied: pydantic<3,>=1 in e:\\anaconda3\\envs\\llm\\lib\\site-packages (from langchain==0.0.350) (2.5.3)\n",
      "Requirement already satisfied: requests<3,>=2 in e:\\anaconda3\\envs\\llm\\lib\\site-packages (from langchain==0.0.350) (2.31.0)\n",
      "Requirement already satisfied: tenacity<9.0.0,>=8.1.0 in e:\\anaconda3\\envs\\llm\\lib\\site-packages (from langchain==0.0.350) (8.2.3)\n",
      "Requirement already satisfied: attrs>=17.3.0 in e:\\anaconda3\\envs\\llm\\lib\\site-packages (from aiohttp<4.0.0,>=3.8.3->langchain==0.0.350) (23.1.0)\n",
      "Requirement already satisfied: multidict<7.0,>=4.5 in e:\\anaconda3\\envs\\llm\\lib\\site-packages (from aiohttp<4.0.0,>=3.8.3->langchain==0.0.350) (6.0.4)\n",
      "Requirement already satisfied: yarl<2.0,>=1.0 in e:\\anaconda3\\envs\\llm\\lib\\site-packages (from aiohttp<4.0.0,>=3.8.3->langchain==0.0.350) (1.9.4)\n",
      "Requirement already satisfied: frozenlist>=1.1.1 in e:\\anaconda3\\envs\\llm\\lib\\site-packages (from aiohttp<4.0.0,>=3.8.3->langchain==0.0.350) (1.4.1)\n",
      "Requirement already satisfied: aiosignal>=1.1.2 in e:\\anaconda3\\envs\\llm\\lib\\site-packages (from aiohttp<4.0.0,>=3.8.3->langchain==0.0.350) (1.3.1)\n",
      "Requirement already satisfied: marshmallow<4.0.0,>=3.18.0 in e:\\anaconda3\\envs\\llm\\lib\\site-packages (from dataclasses-json<0.7,>=0.5.7->langchain==0.0.350) (3.20.1)\n",
      "Requirement already satisfied: typing-inspect<1,>=0.4.0 in e:\\anaconda3\\envs\\llm\\lib\\site-packages (from dataclasses-json<0.7,>=0.5.7->langchain==0.0.350) (0.9.0)\n",
      "Requirement already satisfied: jsonpointer>=1.9 in e:\\anaconda3\\envs\\llm\\lib\\site-packages (from jsonpatch<2.0,>=1.33->langchain==0.0.350) (2.4)\n",
      "Requirement already satisfied: anyio<5,>=3 in e:\\anaconda3\\envs\\llm\\lib\\site-packages (from langchain-core<0.2,>=0.1->langchain==0.0.350) (4.2.0)\n",
      "Requirement already satisfied: packaging<24.0,>=23.2 in e:\\anaconda3\\envs\\llm\\lib\\site-packages (from langchain-core<0.2,>=0.1->langchain==0.0.350) (23.2)\n",
      "Requirement already satisfied: annotated-types>=0.4.0 in e:\\anaconda3\\envs\\llm\\lib\\site-packages (from pydantic<3,>=1->langchain==0.0.350) (0.6.0)\n",
      "Requirement already satisfied: pydantic-core==2.14.6 in e:\\anaconda3\\envs\\llm\\lib\\site-packages (from pydantic<3,>=1->langchain==0.0.350) (2.14.6)\n",
      "Requirement already satisfied: typing-extensions>=4.6.1 in e:\\anaconda3\\envs\\llm\\lib\\site-packages (from pydantic<3,>=1->langchain==0.0.350) (4.9.0)\n",
      "Requirement already satisfied: charset-normalizer<4,>=2 in e:\\anaconda3\\envs\\llm\\lib\\site-packages (from requests<3,>=2->langchain==0.0.350) (3.3.2)\n",
      "Requirement already satisfied: idna<4,>=2.5 in e:\\anaconda3\\envs\\llm\\lib\\site-packages (from requests<3,>=2->langchain==0.0.350) (3.6)\n",
      "Requirement already satisfied: urllib3<3,>=1.21.1 in e:\\anaconda3\\envs\\llm\\lib\\site-packages (from requests<3,>=2->langchain==0.0.350) (1.26.18)\n",
      "Requirement already satisfied: certifi>=2017.4.17 in e:\\anaconda3\\envs\\llm\\lib\\site-packages (from requests<3,>=2->langchain==0.0.350) (2023.11.17)\n",
      "Requirement already satisfied: greenlet!=0.4.17 in e:\\anaconda3\\envs\\llm\\lib\\site-packages (from SQLAlchemy<3,>=1.4->langchain==0.0.350) (3.0.3)\n",
      "Requirement already satisfied: sniffio>=1.1 in e:\\anaconda3\\envs\\llm\\lib\\site-packages (from anyio<5,>=3->langchain-core<0.2,>=0.1->langchain==0.0.350) (1.3.0)\n",
      "Requirement already satisfied: exceptiongroup>=1.0.2 in e:\\anaconda3\\envs\\llm\\lib\\site-packages (from anyio<5,>=3->langchain-core<0.2,>=0.1->langchain==0.0.350) (1.2.0)\n",
      "Requirement already satisfied: mypy-extensions>=0.3.0 in e:\\anaconda3\\envs\\llm\\lib\\site-packages (from typing-inspect<1,>=0.4.0->dataclasses-json<0.7,>=0.5.7->langchain==0.0.350) (1.0.0)\n"
     ]
    },
    {
     "name": "stderr",
     "output_type": "stream",
     "text": [
      "WARNING: Ignoring invalid distribution -pype1 (c:\\users\\jyseo\\appdata\\roaming\\python\\python38\\site-packages)\n",
      "WARNING: Ignoring invalid distribution -pype1 (c:\\users\\jyseo\\appdata\\roaming\\python\\python38\\site-packages)\n",
      "WARNING: Ignoring invalid distribution -pype1 (c:\\users\\jyseo\\appdata\\roaming\\python\\python38\\site-packages)\n",
      "WARNING: Ignoring invalid distribution -pype1 (c:\\users\\jyseo\\appdata\\roaming\\python\\python38\\site-packages)\n",
      "WARNING: Ignoring invalid distribution -pype1 (c:\\users\\jyseo\\appdata\\roaming\\python\\python38\\site-packages)\n",
      "WARNING: Ignoring invalid distribution -pype1 (c:\\users\\jyseo\\appdata\\roaming\\python\\python38\\site-packages)\n"
     ]
    }
   ],
   "source": [
    "#!pip install langchain==0.0.350"
   ]
  },
  {
   "cell_type": "code",
   "execution_count": 4,
   "id": "93f4d57e",
   "metadata": {},
   "outputs": [
    {
     "name": "stdout",
     "output_type": "stream",
     "text": [
      "Requirement already satisfied: faiss-cpu==1.7.4 in e:\\anaconda3\\envs\\llm\\lib\\site-packages (1.7.4)\n"
     ]
    },
    {
     "name": "stderr",
     "output_type": "stream",
     "text": [
      "WARNING: Ignoring invalid distribution -pype1 (c:\\users\\jyseo\\appdata\\roaming\\python\\python38\\site-packages)\n",
      "WARNING: Ignoring invalid distribution -pype1 (c:\\users\\jyseo\\appdata\\roaming\\python\\python38\\site-packages)\n",
      "WARNING: Ignoring invalid distribution -pype1 (c:\\users\\jyseo\\appdata\\roaming\\python\\python38\\site-packages)\n",
      "WARNING: Ignoring invalid distribution -pype1 (c:\\users\\jyseo\\appdata\\roaming\\python\\python38\\site-packages)\n",
      "WARNING: Ignoring invalid distribution -pype1 (c:\\users\\jyseo\\appdata\\roaming\\python\\python38\\site-packages)\n",
      "WARNING: Ignoring invalid distribution -pype1 (c:\\users\\jyseo\\appdata\\roaming\\python\\python38\\site-packages)\n"
     ]
    }
   ],
   "source": [
    "#!pip install faiss-cpu==1.7.4"
   ]
  },
  {
   "cell_type": "code",
   "execution_count": 1,
   "id": "dea38a28",
   "metadata": {},
   "outputs": [
    {
     "name": "stderr",
     "output_type": "stream",
     "text": [
      "2023-12-30 16:09:17.593 \n",
      "  \u001b[33m\u001b[1mWarning:\u001b[0m to view this Streamlit app on a browser, run it with the following\n",
      "  command:\n",
      "\n",
      "    streamlit run e:\\anaconda3\\envs\\llm\\lib\\site-packages\\ipykernel_launcher.py [ARGUMENTS]\n"
     ]
    }
   ],
   "source": [
    "import streamlit as st\n",
    "from streamlit_chat import message\n",
    "from langchain.embeddings.openai import OpenAIEmbeddings\n",
    "from langchain.chat_models import ChatOpenAI\n",
    "from langchain.chains import ConversationalRetrievalChain\n",
    "from langchain.vectorstores import FAISS\n",
    "import tempfile\n",
    "from langchain.document_loaders import PyPDFLoader\n",
    "\n",
    "import os\n",
    "os.environ[\"OPENAI_API_KEY\"] = \"sk-\" #openai 키 입력\n",
    "\n",
    "uploaded_file = st.sidebar.file_uploader(\"upload\", type=\"pdf\")\n"
   ]
  },
  {
   "cell_type": "code",
   "execution_count": 2,
   "id": "d18aaa04",
   "metadata": {},
   "outputs": [],
   "source": [
    "if uploaded_file :\n",
    "    with tempfile.NamedTemporaryFile(delete=False) as tmp_file:\n",
    "        tmp_file.write(uploaded_file.getvalue())\n",
    "        tmp_file_path = tmp_file.name\n",
    "    \n",
    "    loader = PyPDFLoader(tmp_file_path)\n",
    "    data = loader.load()\n",
    "\n",
    "    embeddings = OpenAIEmbeddings()\n",
    "    vectors = FAISS.from_documents(data, embeddings)\n",
    "\n",
    "    chain = ConversationalRetrievalChain.from_llm(llm = ChatOpenAI(temperature=0.0,model_name='gpt-4'), retriever=vectors.as_retriever())\n",
    "\n",
    "    def conversational_chat(query):  #문맥 유지를 위해 과거 대화 저장 이력에 대한 처리      \n",
    "        result = chain({\"question\": query, \"chat_history\": st.session_state['history']})\n",
    "        st.session_state['history'].append((query, result[\"answer\"]))        \n",
    "        return result[\"answer\"]\n",
    "    \n",
    "    if 'history' not in st.session_state:\n",
    "        st.session_state['history'] = []\n",
    "\n",
    "    if 'generated' not in st.session_state:\n",
    "        st.session_state['generated'] = [\"안녕하세요! \" + uploaded_file.name + \"에 관해 질문주세요.\"]\n",
    "\n",
    "    if 'past' not in st.session_state:\n",
    "        st.session_state['past'] = [\"안녕하세요!\"]\n",
    "        \n",
    "    #챗봇 이력에 대한 컨테이너\n",
    "    response_container = st.container()\n",
    "    #사용자가 입력한 문장에 대한 컨테이너\n",
    "    container = st.container()\n",
    "\n",
    "    with container: #대화 내용 저장(기억)\n",
    "        with st.form(key='Conv_Question', clear_on_submit=True):           \n",
    "            user_input = st.text_input(\"Query:\", placeholder=\"PDF파일에 대해 얘기해볼까요? (:\", key='input')\n",
    "            submit_button = st.form_submit_button(label='Send')\n",
    "            \n",
    "        if submit_button and user_input:\n",
    "            output = conversational_chat(user_input)\n",
    "            \n",
    "            st.session_state['past'].append(user_input)\n",
    "            st.session_state['generated'].append(output)\n",
    "\n",
    "    if st.session_state['generated']:\n",
    "        with response_container:\n",
    "            for i in range(len(st.session_state['generated'])):\n",
    "                message(st.session_state[\"past\"][i], is_user=True, key=str(i) + '_user', avatar_style = \"fun-emoji\", seed = \"Nala\")\n",
    "                message(st.session_state[\"generated\"][i], key=str(i), avatar_style = \"bottts\", seed = \"Fluffy\")\n"
   ]
  },
  {
   "cell_type": "code",
   "execution_count": null,
   "id": "16712997",
   "metadata": {},
   "outputs": [],
   "source": []
  }
 ],
 "metadata": {
  "kernelspec": {
   "display_name": "llm38",
   "language": "python",
   "name": "llm38"
  },
  "language_info": {
   "codemirror_mode": {
    "name": "ipython",
    "version": 3
   },
   "file_extension": ".py",
   "mimetype": "text/x-python",
   "name": "python",
   "nbconvert_exporter": "python",
   "pygments_lexer": "ipython3",
   "version": "3.8.18"
  }
 },
 "nbformat": 4,
 "nbformat_minor": 5
}
