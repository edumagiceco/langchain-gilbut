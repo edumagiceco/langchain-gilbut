{
 "cells": [
  {
   "cell_type": "code",
   "execution_count": 2,
   "id": "42a0da3f",
   "metadata": {},
   "outputs": [
    {
     "name": "stdout",
     "output_type": "stream",
     "text": [
      "Requirement already satisfied: langchain==0.0.350 in e:\\anaconda3\\envs\\llm\\lib\\site-packages (0.0.350)\n",
      "Requirement already satisfied: PyYAML>=5.3 in e:\\anaconda3\\envs\\llm\\lib\\site-packages (from langchain==0.0.350) (6.0.1)\n",
      "Requirement already satisfied: SQLAlchemy<3,>=1.4 in e:\\anaconda3\\envs\\llm\\lib\\site-packages (from langchain==0.0.350) (2.0.24)\n",
      "Requirement already satisfied: aiohttp<4.0.0,>=3.8.3 in e:\\anaconda3\\envs\\llm\\lib\\site-packages (from langchain==0.0.350) (3.9.1)\n",
      "Requirement already satisfied: async-timeout<5.0.0,>=4.0.0 in e:\\anaconda3\\envs\\llm\\lib\\site-packages (from langchain==0.0.350) (4.0.3)\n",
      "Requirement already satisfied: dataclasses-json<0.7,>=0.5.7 in e:\\anaconda3\\envs\\llm\\lib\\site-packages (from langchain==0.0.350) (0.6.3)\n",
      "Requirement already satisfied: jsonpatch<2.0,>=1.33 in e:\\anaconda3\\envs\\llm\\lib\\site-packages (from langchain==0.0.350) (1.33)\n",
      "Requirement already satisfied: langchain-community<0.1,>=0.0.2 in e:\\anaconda3\\envs\\llm\\lib\\site-packages (from langchain==0.0.350) (0.0.6)\n",
      "Requirement already satisfied: langchain-core<0.2,>=0.1 in e:\\anaconda3\\envs\\llm\\lib\\site-packages (from langchain==0.0.350) (0.1.3)\n",
      "Requirement already satisfied: langsmith<0.1.0,>=0.0.63 in e:\\anaconda3\\envs\\llm\\lib\\site-packages (from langchain==0.0.350) (0.0.75)\n",
      "Requirement already satisfied: numpy<2,>=1 in e:\\anaconda3\\envs\\llm\\lib\\site-packages (from langchain==0.0.350) (1.24.4)\n",
      "Requirement already satisfied: pydantic<3,>=1 in e:\\anaconda3\\envs\\llm\\lib\\site-packages (from langchain==0.0.350) (2.5.3)\n",
      "Requirement already satisfied: requests<3,>=2 in e:\\anaconda3\\envs\\llm\\lib\\site-packages (from langchain==0.0.350) (2.31.0)\n",
      "Requirement already satisfied: tenacity<9.0.0,>=8.1.0 in e:\\anaconda3\\envs\\llm\\lib\\site-packages (from langchain==0.0.350) (8.2.3)\n",
      "Requirement already satisfied: attrs>=17.3.0 in e:\\anaconda3\\envs\\llm\\lib\\site-packages (from aiohttp<4.0.0,>=3.8.3->langchain==0.0.350) (23.1.0)\n",
      "Requirement already satisfied: multidict<7.0,>=4.5 in e:\\anaconda3\\envs\\llm\\lib\\site-packages (from aiohttp<4.0.0,>=3.8.3->langchain==0.0.350) (6.0.4)\n",
      "Requirement already satisfied: yarl<2.0,>=1.0 in e:\\anaconda3\\envs\\llm\\lib\\site-packages (from aiohttp<4.0.0,>=3.8.3->langchain==0.0.350) (1.9.4)\n",
      "Requirement already satisfied: frozenlist>=1.1.1 in e:\\anaconda3\\envs\\llm\\lib\\site-packages (from aiohttp<4.0.0,>=3.8.3->langchain==0.0.350) (1.4.1)\n",
      "Requirement already satisfied: aiosignal>=1.1.2 in e:\\anaconda3\\envs\\llm\\lib\\site-packages (from aiohttp<4.0.0,>=3.8.3->langchain==0.0.350) (1.3.1)\n",
      "Requirement already satisfied: marshmallow<4.0.0,>=3.18.0 in e:\\anaconda3\\envs\\llm\\lib\\site-packages (from dataclasses-json<0.7,>=0.5.7->langchain==0.0.350) (3.20.1)\n",
      "Requirement already satisfied: typing-inspect<1,>=0.4.0 in e:\\anaconda3\\envs\\llm\\lib\\site-packages (from dataclasses-json<0.7,>=0.5.7->langchain==0.0.350) (0.9.0)\n",
      "Requirement already satisfied: jsonpointer>=1.9 in e:\\anaconda3\\envs\\llm\\lib\\site-packages (from jsonpatch<2.0,>=1.33->langchain==0.0.350) (2.4)\n",
      "Requirement already satisfied: anyio<5,>=3 in e:\\anaconda3\\envs\\llm\\lib\\site-packages (from langchain-core<0.2,>=0.1->langchain==0.0.350) (4.2.0)\n",
      "Requirement already satisfied: packaging<24.0,>=23.2 in e:\\anaconda3\\envs\\llm\\lib\\site-packages (from langchain-core<0.2,>=0.1->langchain==0.0.350) (23.2)\n",
      "Requirement already satisfied: annotated-types>=0.4.0 in e:\\anaconda3\\envs\\llm\\lib\\site-packages (from pydantic<3,>=1->langchain==0.0.350) (0.6.0)\n",
      "Requirement already satisfied: pydantic-core==2.14.6 in e:\\anaconda3\\envs\\llm\\lib\\site-packages (from pydantic<3,>=1->langchain==0.0.350) (2.14.6)\n",
      "Requirement already satisfied: typing-extensions>=4.6.1 in e:\\anaconda3\\envs\\llm\\lib\\site-packages (from pydantic<3,>=1->langchain==0.0.350) (4.9.0)\n",
      "Requirement already satisfied: charset-normalizer<4,>=2 in e:\\anaconda3\\envs\\llm\\lib\\site-packages (from requests<3,>=2->langchain==0.0.350) (3.3.2)\n",
      "Requirement already satisfied: idna<4,>=2.5 in e:\\anaconda3\\envs\\llm\\lib\\site-packages (from requests<3,>=2->langchain==0.0.350) (3.6)\n",
      "Requirement already satisfied: urllib3<3,>=1.21.1 in e:\\anaconda3\\envs\\llm\\lib\\site-packages (from requests<3,>=2->langchain==0.0.350) (1.26.18)\n",
      "Requirement already satisfied: certifi>=2017.4.17 in e:\\anaconda3\\envs\\llm\\lib\\site-packages (from requests<3,>=2->langchain==0.0.350) (2023.11.17)\n",
      "Requirement already satisfied: greenlet!=0.4.17 in e:\\anaconda3\\envs\\llm\\lib\\site-packages (from SQLAlchemy<3,>=1.4->langchain==0.0.350) (3.0.3)\n",
      "Requirement already satisfied: sniffio>=1.1 in e:\\anaconda3\\envs\\llm\\lib\\site-packages (from anyio<5,>=3->langchain-core<0.2,>=0.1->langchain==0.0.350) (1.3.0)\n",
      "Requirement already satisfied: exceptiongroup>=1.0.2 in e:\\anaconda3\\envs\\llm\\lib\\site-packages (from anyio<5,>=3->langchain-core<0.2,>=0.1->langchain==0.0.350) (1.2.0)\n",
      "Requirement already satisfied: mypy-extensions>=0.3.0 in e:\\anaconda3\\envs\\llm\\lib\\site-packages (from typing-inspect<1,>=0.4.0->dataclasses-json<0.7,>=0.5.7->langchain==0.0.350) (1.0.0)\n"
     ]
    },
    {
     "name": "stderr",
     "output_type": "stream",
     "text": [
      "WARNING: Ignoring invalid distribution -pype1 (c:\\users\\jyseo\\appdata\\roaming\\python\\python38\\site-packages)\n",
      "WARNING: Ignoring invalid distribution -pype1 (c:\\users\\jyseo\\appdata\\roaming\\python\\python38\\site-packages)\n",
      "WARNING: Ignoring invalid distribution -pype1 (c:\\users\\jyseo\\appdata\\roaming\\python\\python38\\site-packages)\n",
      "WARNING: Ignoring invalid distribution -pype1 (c:\\users\\jyseo\\appdata\\roaming\\python\\python38\\site-packages)\n",
      "WARNING: Ignoring invalid distribution -pype1 (c:\\users\\jyseo\\appdata\\roaming\\python\\python38\\site-packages)\n",
      "WARNING: Ignoring invalid distribution -pype1 (c:\\users\\jyseo\\appdata\\roaming\\python\\python38\\site-packages)\n"
     ]
    }
   ],
   "source": [
    "#!pip install langchain==0.0.350"
   ]
  },
  {
   "cell_type": "code",
   "execution_count": 3,
   "id": "9d79deef",
   "metadata": {},
   "outputs": [
    {
     "name": "stdout",
     "output_type": "stream",
     "text": [
      "Requirement already satisfied: streamlit==1.29.0 in e:\\anaconda3\\envs\\llm\\lib\\site-packages (1.29.0)\n",
      "Requirement already satisfied: altair<6,>=4.0 in e:\\anaconda3\\envs\\llm\\lib\\site-packages (from streamlit==1.29.0) (5.2.0)\n",
      "Requirement already satisfied: blinker<2,>=1.0.0 in e:\\anaconda3\\envs\\llm\\lib\\site-packages (from streamlit==1.29.0) (1.7.0)\n",
      "Requirement already satisfied: cachetools<6,>=4.0 in e:\\anaconda3\\envs\\llm\\lib\\site-packages (from streamlit==1.29.0) (5.3.2)\n",
      "Requirement already satisfied: click<9,>=7.0 in e:\\anaconda3\\envs\\llm\\lib\\site-packages (from streamlit==1.29.0) (8.1.7)\n",
      "Requirement already satisfied: importlib-metadata<7,>=1.4 in e:\\anaconda3\\envs\\llm\\lib\\site-packages (from streamlit==1.29.0) (6.11.0)\n",
      "Requirement already satisfied: numpy<2,>=1.19.3 in e:\\anaconda3\\envs\\llm\\lib\\site-packages (from streamlit==1.29.0) (1.24.4)\n",
      "Requirement already satisfied: packaging<24,>=16.8 in e:\\anaconda3\\envs\\llm\\lib\\site-packages (from streamlit==1.29.0) (23.2)\n",
      "Requirement already satisfied: pandas<3,>=1.3.0 in e:\\anaconda3\\envs\\llm\\lib\\site-packages (from streamlit==1.29.0) (2.0.3)\n",
      "Requirement already satisfied: pillow<11,>=7.1.0 in e:\\anaconda3\\envs\\llm\\lib\\site-packages (from streamlit==1.29.0) (10.1.0)\n",
      "Requirement already satisfied: protobuf<5,>=3.20 in e:\\anaconda3\\envs\\llm\\lib\\site-packages (from streamlit==1.29.0) (4.25.1)\n",
      "Requirement already satisfied: pyarrow>=6.0 in e:\\anaconda3\\envs\\llm\\lib\\site-packages (from streamlit==1.29.0) (14.0.2)\n",
      "Requirement already satisfied: python-dateutil<3,>=2.7.3 in e:\\anaconda3\\envs\\llm\\lib\\site-packages (from streamlit==1.29.0) (2.8.2)\n",
      "Requirement already satisfied: requests<3,>=2.27 in e:\\anaconda3\\envs\\llm\\lib\\site-packages (from streamlit==1.29.0) (2.31.0)\n",
      "Requirement already satisfied: rich<14,>=10.14.0 in e:\\anaconda3\\envs\\llm\\lib\\site-packages (from streamlit==1.29.0) (13.7.0)\n",
      "Requirement already satisfied: tenacity<9,>=8.1.0 in e:\\anaconda3\\envs\\llm\\lib\\site-packages (from streamlit==1.29.0) (8.2.3)\n",
      "Requirement already satisfied: toml<2,>=0.10.1 in e:\\anaconda3\\envs\\llm\\lib\\site-packages (from streamlit==1.29.0) (0.10.2)\n",
      "Requirement already satisfied: typing-extensions<5,>=4.3.0 in e:\\anaconda3\\envs\\llm\\lib\\site-packages (from streamlit==1.29.0) (4.9.0)\n",
      "Requirement already satisfied: tzlocal<6,>=1.1 in e:\\anaconda3\\envs\\llm\\lib\\site-packages (from streamlit==1.29.0) (5.2)\n",
      "Requirement already satisfied: validators<1,>=0.2 in e:\\anaconda3\\envs\\llm\\lib\\site-packages (from streamlit==1.29.0) (0.22.0)\n",
      "Requirement already satisfied: gitpython!=3.1.19,<4,>=3.0.7 in e:\\anaconda3\\envs\\llm\\lib\\site-packages (from streamlit==1.29.0) (3.1.40)\n",
      "Requirement already satisfied: pydeck<1,>=0.8.0b4 in e:\\anaconda3\\envs\\llm\\lib\\site-packages (from streamlit==1.29.0) (0.8.1b0)\n",
      "Requirement already satisfied: tornado<7,>=6.0.3 in e:\\anaconda3\\envs\\llm\\lib\\site-packages (from streamlit==1.29.0) (6.4)\n",
      "Requirement already satisfied: watchdog>=2.1.5 in e:\\anaconda3\\envs\\llm\\lib\\site-packages (from streamlit==1.29.0) (3.0.0)\n",
      "Requirement already satisfied: jinja2 in e:\\anaconda3\\envs\\llm\\lib\\site-packages (from altair<6,>=4.0->streamlit==1.29.0) (3.1.2)\n",
      "Requirement already satisfied: jsonschema>=3.0 in e:\\anaconda3\\envs\\llm\\lib\\site-packages (from altair<6,>=4.0->streamlit==1.29.0) (4.20.0)\n",
      "Requirement already satisfied: toolz in e:\\anaconda3\\envs\\llm\\lib\\site-packages (from altair<6,>=4.0->streamlit==1.29.0) (0.12.0)\n",
      "Requirement already satisfied: colorama in e:\\anaconda3\\envs\\llm\\lib\\site-packages (from click<9,>=7.0->streamlit==1.29.0) (0.4.6)\n",
      "Requirement already satisfied: gitdb<5,>=4.0.1 in e:\\anaconda3\\envs\\llm\\lib\\site-packages (from gitpython!=3.1.19,<4,>=3.0.7->streamlit==1.29.0) (4.0.11)\n",
      "Requirement already satisfied: zipp>=0.5 in e:\\anaconda3\\envs\\llm\\lib\\site-packages (from importlib-metadata<7,>=1.4->streamlit==1.29.0) (3.17.0)\n",
      "Requirement already satisfied: pytz>=2020.1 in e:\\anaconda3\\envs\\llm\\lib\\site-packages (from pandas<3,>=1.3.0->streamlit==1.29.0) (2023.3.post1)\n",
      "Requirement already satisfied: tzdata>=2022.1 in e:\\anaconda3\\envs\\llm\\lib\\site-packages (from pandas<3,>=1.3.0->streamlit==1.29.0) (2023.3)\n",
      "Requirement already satisfied: six>=1.5 in e:\\anaconda3\\envs\\llm\\lib\\site-packages (from python-dateutil<3,>=2.7.3->streamlit==1.29.0) (1.16.0)\n",
      "Requirement already satisfied: charset-normalizer<4,>=2 in e:\\anaconda3\\envs\\llm\\lib\\site-packages (from requests<3,>=2.27->streamlit==1.29.0) (3.3.2)\n",
      "Requirement already satisfied: idna<4,>=2.5 in e:\\anaconda3\\envs\\llm\\lib\\site-packages (from requests<3,>=2.27->streamlit==1.29.0) (3.6)\n",
      "Requirement already satisfied: urllib3<3,>=1.21.1 in e:\\anaconda3\\envs\\llm\\lib\\site-packages (from requests<3,>=2.27->streamlit==1.29.0) (1.26.18)\n",
      "Requirement already satisfied: certifi>=2017.4.17 in e:\\anaconda3\\envs\\llm\\lib\\site-packages (from requests<3,>=2.27->streamlit==1.29.0) (2023.11.17)\n",
      "Requirement already satisfied: markdown-it-py>=2.2.0 in e:\\anaconda3\\envs\\llm\\lib\\site-packages (from rich<14,>=10.14.0->streamlit==1.29.0) (3.0.0)\n",
      "Requirement already satisfied: pygments<3.0.0,>=2.13.0 in e:\\anaconda3\\envs\\llm\\lib\\site-packages (from rich<14,>=10.14.0->streamlit==1.29.0) (2.17.2)\n",
      "Requirement already satisfied: backports.zoneinfo in e:\\anaconda3\\envs\\llm\\lib\\site-packages (from tzlocal<6,>=1.1->streamlit==1.29.0) (0.2.1)\n",
      "Requirement already satisfied: smmap<6,>=3.0.1 in e:\\anaconda3\\envs\\llm\\lib\\site-packages (from gitdb<5,>=4.0.1->gitpython!=3.1.19,<4,>=3.0.7->streamlit==1.29.0) (5.0.1)\n",
      "Requirement already satisfied: MarkupSafe>=2.0 in e:\\anaconda3\\envs\\llm\\lib\\site-packages (from jinja2->altair<6,>=4.0->streamlit==1.29.0) (2.1.3)\n",
      "Requirement already satisfied: attrs>=22.2.0 in e:\\anaconda3\\envs\\llm\\lib\\site-packages (from jsonschema>=3.0->altair<6,>=4.0->streamlit==1.29.0) (23.1.0)\n",
      "Requirement already satisfied: importlib-resources>=1.4.0 in e:\\anaconda3\\envs\\llm\\lib\\site-packages (from jsonschema>=3.0->altair<6,>=4.0->streamlit==1.29.0) (6.1.1)\n",
      "Requirement already satisfied: jsonschema-specifications>=2023.03.6 in e:\\anaconda3\\envs\\llm\\lib\\site-packages (from jsonschema>=3.0->altair<6,>=4.0->streamlit==1.29.0) (2023.12.1)\n",
      "Requirement already satisfied: pkgutil-resolve-name>=1.3.10 in e:\\anaconda3\\envs\\llm\\lib\\site-packages (from jsonschema>=3.0->altair<6,>=4.0->streamlit==1.29.0) (1.3.10)\n",
      "Requirement already satisfied: referencing>=0.28.4 in e:\\anaconda3\\envs\\llm\\lib\\site-packages (from jsonschema>=3.0->altair<6,>=4.0->streamlit==1.29.0) (0.32.0)\n",
      "Requirement already satisfied: rpds-py>=0.7.1 in e:\\anaconda3\\envs\\llm\\lib\\site-packages (from jsonschema>=3.0->altair<6,>=4.0->streamlit==1.29.0) (0.16.2)\n",
      "Requirement already satisfied: mdurl~=0.1 in e:\\anaconda3\\envs\\llm\\lib\\site-packages (from markdown-it-py>=2.2.0->rich<14,>=10.14.0->streamlit==1.29.0) (0.1.2)\n"
     ]
    },
    {
     "name": "stderr",
     "output_type": "stream",
     "text": [
      "WARNING: Ignoring invalid distribution -pype1 (c:\\users\\jyseo\\appdata\\roaming\\python\\python38\\site-packages)\n",
      "WARNING: Ignoring invalid distribution -pype1 (c:\\users\\jyseo\\appdata\\roaming\\python\\python38\\site-packages)\n",
      "WARNING: Ignoring invalid distribution -pype1 (c:\\users\\jyseo\\appdata\\roaming\\python\\python38\\site-packages)\n",
      "WARNING: Ignoring invalid distribution -pype1 (c:\\users\\jyseo\\appdata\\roaming\\python\\python38\\site-packages)\n",
      "WARNING: Ignoring invalid distribution -pype1 (c:\\users\\jyseo\\appdata\\roaming\\python\\python38\\site-packages)\n",
      "WARNING: Ignoring invalid distribution -pype1 (c:\\users\\jyseo\\appdata\\roaming\\python\\python38\\site-packages)\n"
     ]
    }
   ],
   "source": [
    "#!pip install streamlit==1.29.0"
   ]
  },
  {
   "cell_type": "code",
   "execution_count": 4,
   "id": "6236c6a7",
   "metadata": {},
   "outputs": [
    {
     "name": "stdout",
     "output_type": "stream",
     "text": [
      "Requirement already satisfied: PyPDF2==3.0.1 in e:\\anaconda3\\envs\\llm\\lib\\site-packages (3.0.1)\n",
      "Requirement already satisfied: typing_extensions>=3.10.0.0 in e:\\anaconda3\\envs\\llm\\lib\\site-packages (from PyPDF2==3.0.1) (4.9.0)\n"
     ]
    },
    {
     "name": "stderr",
     "output_type": "stream",
     "text": [
      "WARNING: Ignoring invalid distribution -pype1 (c:\\users\\jyseo\\appdata\\roaming\\python\\python38\\site-packages)\n",
      "WARNING: Ignoring invalid distribution -pype1 (c:\\users\\jyseo\\appdata\\roaming\\python\\python38\\site-packages)\n",
      "WARNING: Ignoring invalid distribution -pype1 (c:\\users\\jyseo\\appdata\\roaming\\python\\python38\\site-packages)\n",
      "WARNING: Ignoring invalid distribution -pype1 (c:\\users\\jyseo\\appdata\\roaming\\python\\python38\\site-packages)\n",
      "WARNING: Ignoring invalid distribution -pype1 (c:\\users\\jyseo\\appdata\\roaming\\python\\python38\\site-packages)\n",
      "WARNING: Ignoring invalid distribution -pype1 (c:\\users\\jyseo\\appdata\\roaming\\python\\python38\\site-packages)\n"
     ]
    }
   ],
   "source": [
    "#!pip install PyPDF2==3.0.1"
   ]
  },
  {
   "cell_type": "code",
   "execution_count": 5,
   "id": "443519ed",
   "metadata": {},
   "outputs": [
    {
     "name": "stdout",
     "output_type": "stream",
     "text": [
      "Requirement already satisfied: sentence-transformers==2.2.2 in e:\\anaconda3\\envs\\llm\\lib\\site-packages (2.2.2)\n",
      "Requirement already satisfied: transformers<5.0.0,>=4.6.0 in c:\\users\\jyseo\\appdata\\roaming\\python\\python38\\site-packages (from sentence-transformers==2.2.2) (4.12.5)\n",
      "Requirement already satisfied: tqdm in e:\\anaconda3\\envs\\llm\\lib\\site-packages (from sentence-transformers==2.2.2) (4.66.1)\n",
      "Requirement already satisfied: torch>=1.6.0 in e:\\anaconda3\\envs\\llm\\lib\\site-packages (from sentence-transformers==2.2.2) (2.1.2)\n",
      "Requirement already satisfied: torchvision in e:\\anaconda3\\envs\\llm\\lib\\site-packages (from sentence-transformers==2.2.2) (0.16.2)\n",
      "Requirement already satisfied: numpy in e:\\anaconda3\\envs\\llm\\lib\\site-packages (from sentence-transformers==2.2.2) (1.24.4)\n",
      "Requirement already satisfied: scikit-learn in e:\\anaconda3\\envs\\llm\\lib\\site-packages (from sentence-transformers==2.2.2) (1.3.2)\n",
      "Requirement already satisfied: scipy in e:\\anaconda3\\envs\\llm\\lib\\site-packages (from sentence-transformers==2.2.2) (1.10.1)\n",
      "Requirement already satisfied: nltk in e:\\anaconda3\\envs\\llm\\lib\\site-packages (from sentence-transformers==2.2.2) (3.8.1)\n",
      "Requirement already satisfied: sentencepiece in e:\\anaconda3\\envs\\llm\\lib\\site-packages (from sentence-transformers==2.2.2) (0.1.99)\n",
      "Requirement already satisfied: huggingface-hub>=0.4.0 in e:\\anaconda3\\envs\\llm\\lib\\site-packages (from sentence-transformers==2.2.2) (0.19.4)\n",
      "Requirement already satisfied: filelock in e:\\anaconda3\\envs\\llm\\lib\\site-packages (from huggingface-hub>=0.4.0->sentence-transformers==2.2.2) (3.13.1)\n",
      "Requirement already satisfied: fsspec>=2023.5.0 in e:\\anaconda3\\envs\\llm\\lib\\site-packages (from huggingface-hub>=0.4.0->sentence-transformers==2.2.2) (2023.12.2)\n",
      "Requirement already satisfied: requests in e:\\anaconda3\\envs\\llm\\lib\\site-packages (from huggingface-hub>=0.4.0->sentence-transformers==2.2.2) (2.31.0)\n",
      "Requirement already satisfied: pyyaml>=5.1 in e:\\anaconda3\\envs\\llm\\lib\\site-packages (from huggingface-hub>=0.4.0->sentence-transformers==2.2.2) (6.0.1)\n",
      "Requirement already satisfied: typing-extensions>=3.7.4.3 in e:\\anaconda3\\envs\\llm\\lib\\site-packages (from huggingface-hub>=0.4.0->sentence-transformers==2.2.2) (4.9.0)\n",
      "Requirement already satisfied: packaging>=20.9 in e:\\anaconda3\\envs\\llm\\lib\\site-packages (from huggingface-hub>=0.4.0->sentence-transformers==2.2.2) (23.2)\n",
      "Requirement already satisfied: sympy in e:\\anaconda3\\envs\\llm\\lib\\site-packages (from torch>=1.6.0->sentence-transformers==2.2.2) (1.12)\n",
      "Requirement already satisfied: networkx in e:\\anaconda3\\envs\\llm\\lib\\site-packages (from torch>=1.6.0->sentence-transformers==2.2.2) (3.1)\n",
      "Requirement already satisfied: jinja2 in e:\\anaconda3\\envs\\llm\\lib\\site-packages (from torch>=1.6.0->sentence-transformers==2.2.2) (3.1.2)\n",
      "Requirement already satisfied: colorama in e:\\anaconda3\\envs\\llm\\lib\\site-packages (from tqdm->sentence-transformers==2.2.2) (0.4.6)\n",
      "Requirement already satisfied: regex!=2019.12.17 in e:\\anaconda3\\envs\\llm\\lib\\site-packages (from transformers<5.0.0,>=4.6.0->sentence-transformers==2.2.2) (2023.12.25)\n",
      "Requirement already satisfied: sacremoses in e:\\anaconda3\\envs\\llm\\lib\\site-packages (from transformers<5.0.0,>=4.6.0->sentence-transformers==2.2.2) (0.1.1)\n",
      "Requirement already satisfied: tokenizers<0.11,>=0.10.1 in e:\\anaconda3\\envs\\llm\\lib\\site-packages (from transformers<5.0.0,>=4.6.0->sentence-transformers==2.2.2) (0.10.3)\n",
      "Requirement already satisfied: click in e:\\anaconda3\\envs\\llm\\lib\\site-packages (from nltk->sentence-transformers==2.2.2) (8.1.7)\n",
      "Requirement already satisfied: joblib in e:\\anaconda3\\envs\\llm\\lib\\site-packages (from nltk->sentence-transformers==2.2.2) (1.3.2)\n",
      "Requirement already satisfied: threadpoolctl>=2.0.0 in e:\\anaconda3\\envs\\llm\\lib\\site-packages (from scikit-learn->sentence-transformers==2.2.2) (3.2.0)\n",
      "Requirement already satisfied: pillow!=8.3.*,>=5.3.0 in e:\\anaconda3\\envs\\llm\\lib\\site-packages (from torchvision->sentence-transformers==2.2.2) (10.1.0)\n",
      "Requirement already satisfied: MarkupSafe>=2.0 in e:\\anaconda3\\envs\\llm\\lib\\site-packages (from jinja2->torch>=1.6.0->sentence-transformers==2.2.2) (2.1.3)\n",
      "Requirement already satisfied: charset-normalizer<4,>=2 in e:\\anaconda3\\envs\\llm\\lib\\site-packages (from requests->huggingface-hub>=0.4.0->sentence-transformers==2.2.2) (3.3.2)\n",
      "Requirement already satisfied: idna<4,>=2.5 in e:\\anaconda3\\envs\\llm\\lib\\site-packages (from requests->huggingface-hub>=0.4.0->sentence-transformers==2.2.2) (3.6)\n",
      "Requirement already satisfied: urllib3<3,>=1.21.1 in e:\\anaconda3\\envs\\llm\\lib\\site-packages (from requests->huggingface-hub>=0.4.0->sentence-transformers==2.2.2) (1.26.18)\n",
      "Requirement already satisfied: certifi>=2017.4.17 in e:\\anaconda3\\envs\\llm\\lib\\site-packages (from requests->huggingface-hub>=0.4.0->sentence-transformers==2.2.2) (2023.11.17)\n",
      "Requirement already satisfied: mpmath>=0.19 in e:\\anaconda3\\envs\\llm\\lib\\site-packages (from sympy->torch>=1.6.0->sentence-transformers==2.2.2) (1.3.0)\n"
     ]
    },
    {
     "name": "stderr",
     "output_type": "stream",
     "text": [
      "WARNING: Ignoring invalid distribution -pype1 (c:\\users\\jyseo\\appdata\\roaming\\python\\python38\\site-packages)\n",
      "WARNING: Ignoring invalid distribution -pype1 (c:\\users\\jyseo\\appdata\\roaming\\python\\python38\\site-packages)\n",
      "WARNING: Ignoring invalid distribution -pype1 (c:\\users\\jyseo\\appdata\\roaming\\python\\python38\\site-packages)\n",
      "WARNING: Ignoring invalid distribution -pype1 (c:\\users\\jyseo\\appdata\\roaming\\python\\python38\\site-packages)\n",
      "WARNING: Ignoring invalid distribution -pype1 (c:\\users\\jyseo\\appdata\\roaming\\python\\python38\\site-packages)\n",
      "WARNING: Ignoring invalid distribution -pype1 (c:\\users\\jyseo\\appdata\\roaming\\python\\python38\\site-packages)\n"
     ]
    }
   ],
   "source": [
    "#!pip install sentence-transformers==2.2.2"
   ]
  },
  {
   "cell_type": "code",
   "execution_count": 1,
   "id": "0bbcf433",
   "metadata": {},
   "outputs": [
    {
     "name": "stderr",
     "output_type": "stream",
     "text": [
      "2024-01-19 23:35:55.296 \n",
      "  \u001b[33m\u001b[1mWarning:\u001b[0m to view this Streamlit app on a browser, run it with the following\n",
      "  command:\n",
      "\n",
      "    streamlit run e:\\anaconda3\\envs\\llm\\lib\\site-packages\\ipykernel_launcher.py [ARGUMENTS]\n"
     ]
    }
   ],
   "source": [
    "import os\n",
    "from PyPDF2 import PdfReader\n",
    "import streamlit as st\n",
    "from langchain.text_splitter import CharacterTextSplitter\n",
    "from langchain.embeddings import HuggingFaceEmbeddings\n",
    "from langchain import FAISS\n",
    "from langchain.chains.question_answering import load_qa_chain\n",
    "from langchain.chat_models import ChatOpenAI\n",
    "from langchain.callbacks import get_openai_callback\n",
    "\n",
    "def process_text(text): \n",
    "#CharacterTextSplitter를 사용하여 텍스트를 청크로 분할\n",
    "    text_splitter = CharacterTextSplitter(\n",
    "        separator=\"\\n\",\n",
    "        chunk_size=1000,\n",
    "        chunk_overlap=200,\n",
    "        length_function=len\n",
    "    )\n",
    "    chunks = text_splitter.split_text(text)\n",
    "\n",
    "    #임베딩 처리(벡터 변환), 임베딩은 HuggingFaceEmbeddings 모델을 사용합니다.\n",
    "    embeddings = HuggingFaceEmbeddings(model_name='sentence-transformers/all-MiniLM-L6-v2')\n",
    "    documents = FAISS.from_texts(chunks, embeddings)\n",
    "    return documents\n",
    "\n",
    "def main():  #streamlit을 이용한 웹사이트 생성\n",
    "    st.title(\"📄PDF 요약하기\")\n",
    "    st.divider()\n",
    "    try:\n",
    "        os.environ[\"OPENAI_API_KEY\"] = \"sk-\" #openai api 키 입력\n",
    "    except ValueError as e:\n",
    "        st.error(str(e))\n",
    "        return\n",
    "\n",
    "    pdf = st.file_uploader('PDF파일을 업로드해주세요', type='pdf')\n",
    "\n",
    "    if pdf is not None:\n",
    "        pdf_reader = PdfReader(pdf)\n",
    "        text = \"\"   # 텍스트 변수에 PDF 내용을 저장\n",
    "        for page in pdf_reader.pages:\n",
    "            text += page.extract_text()\n",
    "\n",
    "        documents = process_text(text)\n",
    "        query = \"업로드된 PDF 파일의 내용을 약 3~5문장으로 요약해주세요.\"  # LLM에 PDF파일 요약 요청\n",
    "\n",
    "        if query:\n",
    "            docs = documents.similarity_search(query)\n",
    "            llm = ChatOpenAI(model=\"gpt-3.5-turbo-16k\", temperature=0.1)\n",
    "            chain = load_qa_chain(llm, chain_type='stuff')\n",
    "\n",
    "            with get_openai_callback() as cost:\n",
    "                response = chain.run(input_documents=docs, question=query)\n",
    "                print(cost)\n",
    "\n",
    "            st.subheader('--요약 결과--:')\n",
    "            st.write(response)\n",
    "\n",
    "if __name__ == '__main__':\n",
    "    main()\n"
   ]
  },
  {
   "cell_type": "code",
   "execution_count": null,
   "id": "1c06f1df",
   "metadata": {},
   "outputs": [],
   "source": []
  }
 ],
 "metadata": {
  "kernelspec": {
   "display_name": "llm38",
   "language": "python",
   "name": "llm38"
  },
  "language_info": {
   "codemirror_mode": {
    "name": "ipython",
    "version": 3
   },
   "file_extension": ".py",
   "mimetype": "text/x-python",
   "name": "python",
   "nbconvert_exporter": "python",
   "pygments_lexer": "ipython3",
   "version": "3.8.18"
  }
 },
 "nbformat": 4,
 "nbformat_minor": 5
}
