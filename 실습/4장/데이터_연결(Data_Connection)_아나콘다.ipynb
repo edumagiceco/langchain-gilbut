{
 "cells": [
  {
   "cell_type": "code",
   "execution_count": 1,
   "id": "13415685",
   "metadata": {},
   "outputs": [
    {
     "name": "stdout",
     "output_type": "stream",
     "text": [
      "Requirement already satisfied: langchain==0.0.350 in e:\\anaconda3\\envs\\llm\\lib\\site-packages (0.0.350)\n",
      "Requirement already satisfied: PyYAML>=5.3 in e:\\anaconda3\\envs\\llm\\lib\\site-packages (from langchain==0.0.350) (6.0.1)\n",
      "Requirement already satisfied: SQLAlchemy<3,>=1.4 in e:\\anaconda3\\envs\\llm\\lib\\site-packages (from langchain==0.0.350) (2.0.24)\n",
      "Requirement already satisfied: aiohttp<4.0.0,>=3.8.3 in e:\\anaconda3\\envs\\llm\\lib\\site-packages (from langchain==0.0.350) (3.9.1)\n",
      "Requirement already satisfied: async-timeout<5.0.0,>=4.0.0 in e:\\anaconda3\\envs\\llm\\lib\\site-packages (from langchain==0.0.350) (4.0.3)\n",
      "Requirement already satisfied: dataclasses-json<0.7,>=0.5.7 in e:\\anaconda3\\envs\\llm\\lib\\site-packages (from langchain==0.0.350) (0.6.3)\n",
      "Requirement already satisfied: jsonpatch<2.0,>=1.33 in e:\\anaconda3\\envs\\llm\\lib\\site-packages (from langchain==0.0.350) (1.33)\n",
      "Requirement already satisfied: langchain-community<0.1,>=0.0.2 in e:\\anaconda3\\envs\\llm\\lib\\site-packages (from langchain==0.0.350) (0.0.6)\n",
      "Requirement already satisfied: langchain-core<0.2,>=0.1 in e:\\anaconda3\\envs\\llm\\lib\\site-packages (from langchain==0.0.350) (0.1.3)\n",
      "Requirement already satisfied: langsmith<0.1.0,>=0.0.63 in e:\\anaconda3\\envs\\llm\\lib\\site-packages (from langchain==0.0.350) (0.0.75)\n",
      "Requirement already satisfied: numpy<2,>=1 in e:\\anaconda3\\envs\\llm\\lib\\site-packages (from langchain==0.0.350) (1.24.4)\n",
      "Requirement already satisfied: pydantic<3,>=1 in e:\\anaconda3\\envs\\llm\\lib\\site-packages (from langchain==0.0.350) (2.5.3)\n",
      "Requirement already satisfied: requests<3,>=2 in e:\\anaconda3\\envs\\llm\\lib\\site-packages (from langchain==0.0.350) (2.31.0)\n",
      "Requirement already satisfied: tenacity<9.0.0,>=8.1.0 in e:\\anaconda3\\envs\\llm\\lib\\site-packages (from langchain==0.0.350) (8.2.3)\n",
      "Requirement already satisfied: attrs>=17.3.0 in e:\\anaconda3\\envs\\llm\\lib\\site-packages (from aiohttp<4.0.0,>=3.8.3->langchain==0.0.350) (23.1.0)\n",
      "Requirement already satisfied: multidict<7.0,>=4.5 in e:\\anaconda3\\envs\\llm\\lib\\site-packages (from aiohttp<4.0.0,>=3.8.3->langchain==0.0.350) (6.0.4)\n",
      "Requirement already satisfied: yarl<2.0,>=1.0 in e:\\anaconda3\\envs\\llm\\lib\\site-packages (from aiohttp<4.0.0,>=3.8.3->langchain==0.0.350) (1.9.4)\n",
      "Requirement already satisfied: frozenlist>=1.1.1 in e:\\anaconda3\\envs\\llm\\lib\\site-packages (from aiohttp<4.0.0,>=3.8.3->langchain==0.0.350) (1.4.1)\n",
      "Requirement already satisfied: aiosignal>=1.1.2 in e:\\anaconda3\\envs\\llm\\lib\\site-packages (from aiohttp<4.0.0,>=3.8.3->langchain==0.0.350) (1.3.1)\n",
      "Requirement already satisfied: marshmallow<4.0.0,>=3.18.0 in e:\\anaconda3\\envs\\llm\\lib\\site-packages (from dataclasses-json<0.7,>=0.5.7->langchain==0.0.350) (3.20.1)\n",
      "Requirement already satisfied: typing-inspect<1,>=0.4.0 in e:\\anaconda3\\envs\\llm\\lib\\site-packages (from dataclasses-json<0.7,>=0.5.7->langchain==0.0.350) (0.9.0)\n",
      "Requirement already satisfied: jsonpointer>=1.9 in e:\\anaconda3\\envs\\llm\\lib\\site-packages (from jsonpatch<2.0,>=1.33->langchain==0.0.350) (2.4)\n",
      "Requirement already satisfied: anyio<5,>=3 in e:\\anaconda3\\envs\\llm\\lib\\site-packages (from langchain-core<0.2,>=0.1->langchain==0.0.350) (4.2.0)\n",
      "Requirement already satisfied: packaging<24.0,>=23.2 in e:\\anaconda3\\envs\\llm\\lib\\site-packages (from langchain-core<0.2,>=0.1->langchain==0.0.350) (23.2)\n",
      "Requirement already satisfied: annotated-types>=0.4.0 in e:\\anaconda3\\envs\\llm\\lib\\site-packages (from pydantic<3,>=1->langchain==0.0.350) (0.6.0)\n",
      "Requirement already satisfied: pydantic-core==2.14.6 in e:\\anaconda3\\envs\\llm\\lib\\site-packages (from pydantic<3,>=1->langchain==0.0.350) (2.14.6)\n",
      "Requirement already satisfied: typing-extensions>=4.6.1 in e:\\anaconda3\\envs\\llm\\lib\\site-packages (from pydantic<3,>=1->langchain==0.0.350) (4.9.0)\n",
      "Requirement already satisfied: charset-normalizer<4,>=2 in e:\\anaconda3\\envs\\llm\\lib\\site-packages (from requests<3,>=2->langchain==0.0.350) (3.3.2)\n",
      "Requirement already satisfied: idna<4,>=2.5 in e:\\anaconda3\\envs\\llm\\lib\\site-packages (from requests<3,>=2->langchain==0.0.350) (3.6)\n",
      "Requirement already satisfied: urllib3<3,>=1.21.1 in e:\\anaconda3\\envs\\llm\\lib\\site-packages (from requests<3,>=2->langchain==0.0.350) (1.26.18)\n",
      "Requirement already satisfied: certifi>=2017.4.17 in e:\\anaconda3\\envs\\llm\\lib\\site-packages (from requests<3,>=2->langchain==0.0.350) (2023.11.17)\n",
      "Requirement already satisfied: greenlet!=0.4.17 in e:\\anaconda3\\envs\\llm\\lib\\site-packages (from SQLAlchemy<3,>=1.4->langchain==0.0.350) (3.0.3)\n",
      "Requirement already satisfied: sniffio>=1.1 in e:\\anaconda3\\envs\\llm\\lib\\site-packages (from anyio<5,>=3->langchain-core<0.2,>=0.1->langchain==0.0.350) (1.3.0)\n",
      "Requirement already satisfied: exceptiongroup>=1.0.2 in e:\\anaconda3\\envs\\llm\\lib\\site-packages (from anyio<5,>=3->langchain-core<0.2,>=0.1->langchain==0.0.350) (1.2.0)\n",
      "Requirement already satisfied: mypy-extensions>=0.3.0 in e:\\anaconda3\\envs\\llm\\lib\\site-packages (from typing-inspect<1,>=0.4.0->dataclasses-json<0.7,>=0.5.7->langchain==0.0.350) (1.0.0)\n"
     ]
    },
    {
     "name": "stderr",
     "output_type": "stream",
     "text": [
      "WARNING: Ignoring invalid distribution -pype1 (c:\\users\\jyseo\\appdata\\roaming\\python\\python38\\site-packages)\n",
      "WARNING: Ignoring invalid distribution -pype1 (c:\\users\\jyseo\\appdata\\roaming\\python\\python38\\site-packages)\n",
      "WARNING: Ignoring invalid distribution -pype1 (c:\\users\\jyseo\\appdata\\roaming\\python\\python38\\site-packages)\n",
      "WARNING: Ignoring invalid distribution -pype1 (c:\\users\\jyseo\\appdata\\roaming\\python\\python38\\site-packages)\n",
      "WARNING: Ignoring invalid distribution -pype1 (c:\\users\\jyseo\\appdata\\roaming\\python\\python38\\site-packages)\n",
      "WARNING: Ignoring invalid distribution -pype1 (c:\\users\\jyseo\\appdata\\roaming\\python\\python38\\site-packages)\n"
     ]
    }
   ],
   "source": [
    "!pip install langchain==0.0.350"
   ]
  },
  {
   "cell_type": "code",
   "execution_count": 2,
   "id": "f14419d8",
   "metadata": {},
   "outputs": [
    {
     "name": "stdout",
     "output_type": "stream",
     "text": [
      "Requirement already satisfied: openai==0.28.1 in e:\\anaconda3\\envs\\llm\\lib\\site-packages (0.28.1)\n",
      "Requirement already satisfied: requests>=2.20 in e:\\anaconda3\\envs\\llm\\lib\\site-packages (from openai==0.28.1) (2.31.0)\n",
      "Requirement already satisfied: tqdm in e:\\anaconda3\\envs\\llm\\lib\\site-packages (from openai==0.28.1) (4.66.1)\n",
      "Requirement already satisfied: aiohttp in e:\\anaconda3\\envs\\llm\\lib\\site-packages (from openai==0.28.1) (3.9.1)\n",
      "Requirement already satisfied: charset-normalizer<4,>=2 in e:\\anaconda3\\envs\\llm\\lib\\site-packages (from requests>=2.20->openai==0.28.1) (3.3.2)\n",
      "Requirement already satisfied: idna<4,>=2.5 in e:\\anaconda3\\envs\\llm\\lib\\site-packages (from requests>=2.20->openai==0.28.1) (3.6)\n",
      "Requirement already satisfied: urllib3<3,>=1.21.1 in e:\\anaconda3\\envs\\llm\\lib\\site-packages (from requests>=2.20->openai==0.28.1) (1.26.18)\n",
      "Requirement already satisfied: certifi>=2017.4.17 in e:\\anaconda3\\envs\\llm\\lib\\site-packages (from requests>=2.20->openai==0.28.1) (2023.11.17)\n",
      "Requirement already satisfied: attrs>=17.3.0 in e:\\anaconda3\\envs\\llm\\lib\\site-packages (from aiohttp->openai==0.28.1) (23.1.0)\n",
      "Requirement already satisfied: multidict<7.0,>=4.5 in e:\\anaconda3\\envs\\llm\\lib\\site-packages (from aiohttp->openai==0.28.1) (6.0.4)\n",
      "Requirement already satisfied: yarl<2.0,>=1.0 in e:\\anaconda3\\envs\\llm\\lib\\site-packages (from aiohttp->openai==0.28.1) (1.9.4)\n",
      "Requirement already satisfied: frozenlist>=1.1.1 in e:\\anaconda3\\envs\\llm\\lib\\site-packages (from aiohttp->openai==0.28.1) (1.4.1)\n",
      "Requirement already satisfied: aiosignal>=1.1.2 in e:\\anaconda3\\envs\\llm\\lib\\site-packages (from aiohttp->openai==0.28.1) (1.3.1)\n",
      "Requirement already satisfied: async-timeout<5.0,>=4.0 in e:\\anaconda3\\envs\\llm\\lib\\site-packages (from aiohttp->openai==0.28.1) (4.0.3)\n",
      "Requirement already satisfied: colorama in e:\\anaconda3\\envs\\llm\\lib\\site-packages (from tqdm->openai==0.28.1) (0.4.6)\n",
      "Note: you may need to restart the kernel to use updated packages.\n"
     ]
    },
    {
     "name": "stderr",
     "output_type": "stream",
     "text": [
      "WARNING: Ignoring invalid distribution -pype1 (c:\\users\\jyseo\\appdata\\roaming\\python\\python38\\site-packages)\n",
      "WARNING: Ignoring invalid distribution -pype1 (c:\\users\\jyseo\\appdata\\roaming\\python\\python38\\site-packages)\n",
      "WARNING: Ignoring invalid distribution -pype1 (c:\\users\\jyseo\\appdata\\roaming\\python\\python38\\site-packages)\n",
      "WARNING: Ignoring invalid distribution -pype1 (c:\\users\\jyseo\\appdata\\roaming\\python\\python38\\site-packages)\n",
      "WARNING: Ignoring invalid distribution -pype1 (c:\\users\\jyseo\\appdata\\roaming\\python\\python38\\site-packages)\n",
      "WARNING: Ignoring invalid distribution -pype1 (c:\\users\\jyseo\\appdata\\roaming\\python\\python38\\site-packages)\n"
     ]
    }
   ],
   "source": [
    "pip install openai==0.28.1"
   ]
  },
  {
   "cell_type": "code",
   "execution_count": 3,
   "id": "978b96e9",
   "metadata": {},
   "outputs": [
    {
     "name": "stdout",
     "output_type": "stream",
     "text": [
      "Requirement already satisfied: pypdf==3.17.4 in e:\\anaconda3\\envs\\llm\\lib\\site-packages (3.17.4)\n",
      "Requirement already satisfied: typing_extensions>=3.7.4.3 in e:\\anaconda3\\envs\\llm\\lib\\site-packages (from pypdf==3.17.4) (4.9.0)\n"
     ]
    },
    {
     "name": "stderr",
     "output_type": "stream",
     "text": [
      "WARNING: Ignoring invalid distribution -pype1 (c:\\users\\jyseo\\appdata\\roaming\\python\\python38\\site-packages)\n",
      "WARNING: Ignoring invalid distribution -pype1 (c:\\users\\jyseo\\appdata\\roaming\\python\\python38\\site-packages)\n",
      "WARNING: Ignoring invalid distribution -pype1 (c:\\users\\jyseo\\appdata\\roaming\\python\\python38\\site-packages)\n",
      "WARNING: Ignoring invalid distribution -pype1 (c:\\users\\jyseo\\appdata\\roaming\\python\\python38\\site-packages)\n",
      "WARNING: Ignoring invalid distribution -pype1 (c:\\users\\jyseo\\appdata\\roaming\\python\\python38\\site-packages)\n",
      "WARNING: Ignoring invalid distribution -pype1 (c:\\users\\jyseo\\appdata\\roaming\\python\\python38\\site-packages)\n"
     ]
    }
   ],
   "source": [
    "!pip install pypdf==3.17.4"
   ]
  },
  {
   "cell_type": "code",
   "execution_count": 4,
   "id": "0c26110e",
   "metadata": {},
   "outputs": [
    {
     "name": "stdout",
     "output_type": "stream",
     "text": [
      "Requirement already satisfied: tiktoken==0.5.2 in e:\\anaconda3\\envs\\llm\\lib\\site-packages (0.5.2)\n",
      "Requirement already satisfied: regex>=2022.1.18 in e:\\anaconda3\\envs\\llm\\lib\\site-packages (from tiktoken==0.5.2) (2023.12.25)\n",
      "Requirement already satisfied: requests>=2.26.0 in e:\\anaconda3\\envs\\llm\\lib\\site-packages (from tiktoken==0.5.2) (2.31.0)\n",
      "Requirement already satisfied: charset-normalizer<4,>=2 in e:\\anaconda3\\envs\\llm\\lib\\site-packages (from requests>=2.26.0->tiktoken==0.5.2) (3.3.2)\n",
      "Requirement already satisfied: idna<4,>=2.5 in e:\\anaconda3\\envs\\llm\\lib\\site-packages (from requests>=2.26.0->tiktoken==0.5.2) (3.6)\n",
      "Requirement already satisfied: urllib3<3,>=1.21.1 in e:\\anaconda3\\envs\\llm\\lib\\site-packages (from requests>=2.26.0->tiktoken==0.5.2) (1.26.18)\n",
      "Requirement already satisfied: certifi>=2017.4.17 in e:\\anaconda3\\envs\\llm\\lib\\site-packages (from requests>=2.26.0->tiktoken==0.5.2) (2023.11.17)\n"
     ]
    },
    {
     "name": "stderr",
     "output_type": "stream",
     "text": [
      "WARNING: Ignoring invalid distribution -pype1 (c:\\users\\jyseo\\appdata\\roaming\\python\\python38\\site-packages)\n",
      "WARNING: Ignoring invalid distribution -pype1 (c:\\users\\jyseo\\appdata\\roaming\\python\\python38\\site-packages)\n",
      "WARNING: Ignoring invalid distribution -pype1 (c:\\users\\jyseo\\appdata\\roaming\\python\\python38\\site-packages)\n",
      "WARNING: Ignoring invalid distribution -pype1 (c:\\users\\jyseo\\appdata\\roaming\\python\\python38\\site-packages)\n",
      "WARNING: Ignoring invalid distribution -pype1 (c:\\users\\jyseo\\appdata\\roaming\\python\\python38\\site-packages)\n",
      "WARNING: Ignoring invalid distribution -pype1 (c:\\users\\jyseo\\appdata\\roaming\\python\\python38\\site-packages)\n"
     ]
    }
   ],
   "source": [
    "!pip install tiktoken==0.5.2"
   ]
  },
  {
   "cell_type": "code",
   "execution_count": 5,
   "id": "0b2be409",
   "metadata": {},
   "outputs": [
    {
     "name": "stdout",
     "output_type": "stream",
     "text": [
      "Requirement already satisfied: faiss-cpu==1.7.4 in e:\\anaconda3\\envs\\llm\\lib\\site-packages (1.7.4)\n"
     ]
    },
    {
     "name": "stderr",
     "output_type": "stream",
     "text": [
      "WARNING: Ignoring invalid distribution -pype1 (c:\\users\\jyseo\\appdata\\roaming\\python\\python38\\site-packages)\n",
      "WARNING: Ignoring invalid distribution -pype1 (c:\\users\\jyseo\\appdata\\roaming\\python\\python38\\site-packages)\n",
      "WARNING: Ignoring invalid distribution -pype1 (c:\\users\\jyseo\\appdata\\roaming\\python\\python38\\site-packages)\n",
      "WARNING: Ignoring invalid distribution -pype1 (c:\\users\\jyseo\\appdata\\roaming\\python\\python38\\site-packages)\n",
      "WARNING: Ignoring invalid distribution -pype1 (c:\\users\\jyseo\\appdata\\roaming\\python\\python38\\site-packages)\n",
      "WARNING: Ignoring invalid distribution -pype1 (c:\\users\\jyseo\\appdata\\roaming\\python\\python38\\site-packages)\n"
     ]
    }
   ],
   "source": [
    "!pip install faiss-cpu==1.7.4"
   ]
  },
  {
   "cell_type": "code",
   "execution_count": 6,
   "id": "cc926628",
   "metadata": {},
   "outputs": [
    {
     "name": "stdout",
     "output_type": "stream",
     "text": [
      "Requirement already satisfied: sentence-transformers==2.2.2 in e:\\anaconda3\\envs\\llm\\lib\\site-packages (2.2.2)\n",
      "Requirement already satisfied: transformers<5.0.0,>=4.6.0 in c:\\users\\jyseo\\appdata\\roaming\\python\\python38\\site-packages (from sentence-transformers==2.2.2) (4.12.5)\n",
      "Requirement already satisfied: tqdm in e:\\anaconda3\\envs\\llm\\lib\\site-packages (from sentence-transformers==2.2.2) (4.66.1)\n",
      "Requirement already satisfied: torch>=1.6.0 in e:\\anaconda3\\envs\\llm\\lib\\site-packages (from sentence-transformers==2.2.2) (2.1.2)\n",
      "Requirement already satisfied: torchvision in e:\\anaconda3\\envs\\llm\\lib\\site-packages (from sentence-transformers==2.2.2) (0.16.2)\n",
      "Requirement already satisfied: numpy in e:\\anaconda3\\envs\\llm\\lib\\site-packages (from sentence-transformers==2.2.2) (1.24.4)\n",
      "Requirement already satisfied: scikit-learn in e:\\anaconda3\\envs\\llm\\lib\\site-packages (from sentence-transformers==2.2.2) (1.3.2)\n",
      "Requirement already satisfied: scipy in e:\\anaconda3\\envs\\llm\\lib\\site-packages (from sentence-transformers==2.2.2) (1.10.1)\n",
      "Requirement already satisfied: nltk in e:\\anaconda3\\envs\\llm\\lib\\site-packages (from sentence-transformers==2.2.2) (3.8.1)\n",
      "Requirement already satisfied: sentencepiece in e:\\anaconda3\\envs\\llm\\lib\\site-packages (from sentence-transformers==2.2.2) (0.1.99)\n",
      "Requirement already satisfied: huggingface-hub>=0.4.0 in e:\\anaconda3\\envs\\llm\\lib\\site-packages (from sentence-transformers==2.2.2) (0.19.4)\n",
      "Requirement already satisfied: filelock in e:\\anaconda3\\envs\\llm\\lib\\site-packages (from huggingface-hub>=0.4.0->sentence-transformers==2.2.2) (3.13.1)\n",
      "Requirement already satisfied: fsspec>=2023.5.0 in e:\\anaconda3\\envs\\llm\\lib\\site-packages (from huggingface-hub>=0.4.0->sentence-transformers==2.2.2) (2023.12.2)\n",
      "Requirement already satisfied: requests in e:\\anaconda3\\envs\\llm\\lib\\site-packages (from huggingface-hub>=0.4.0->sentence-transformers==2.2.2) (2.31.0)\n",
      "Requirement already satisfied: pyyaml>=5.1 in e:\\anaconda3\\envs\\llm\\lib\\site-packages (from huggingface-hub>=0.4.0->sentence-transformers==2.2.2) (6.0.1)\n",
      "Requirement already satisfied: typing-extensions>=3.7.4.3 in e:\\anaconda3\\envs\\llm\\lib\\site-packages (from huggingface-hub>=0.4.0->sentence-transformers==2.2.2) (4.9.0)\n",
      "Requirement already satisfied: packaging>=20.9 in e:\\anaconda3\\envs\\llm\\lib\\site-packages (from huggingface-hub>=0.4.0->sentence-transformers==2.2.2) (23.2)\n",
      "Requirement already satisfied: sympy in e:\\anaconda3\\envs\\llm\\lib\\site-packages (from torch>=1.6.0->sentence-transformers==2.2.2) (1.12)\n",
      "Requirement already satisfied: networkx in e:\\anaconda3\\envs\\llm\\lib\\site-packages (from torch>=1.6.0->sentence-transformers==2.2.2) (3.1)\n",
      "Requirement already satisfied: jinja2 in e:\\anaconda3\\envs\\llm\\lib\\site-packages (from torch>=1.6.0->sentence-transformers==2.2.2) (3.1.2)\n",
      "Requirement already satisfied: colorama in e:\\anaconda3\\envs\\llm\\lib\\site-packages (from tqdm->sentence-transformers==2.2.2) (0.4.6)\n",
      "Requirement already satisfied: regex!=2019.12.17 in e:\\anaconda3\\envs\\llm\\lib\\site-packages (from transformers<5.0.0,>=4.6.0->sentence-transformers==2.2.2) (2023.12.25)\n",
      "Requirement already satisfied: sacremoses in e:\\anaconda3\\envs\\llm\\lib\\site-packages (from transformers<5.0.0,>=4.6.0->sentence-transformers==2.2.2) (0.1.1)\n",
      "Requirement already satisfied: tokenizers<0.11,>=0.10.1 in e:\\anaconda3\\envs\\llm\\lib\\site-packages (from transformers<5.0.0,>=4.6.0->sentence-transformers==2.2.2) (0.10.3)\n",
      "Requirement already satisfied: click in e:\\anaconda3\\envs\\llm\\lib\\site-packages (from nltk->sentence-transformers==2.2.2) (8.1.7)\n",
      "Requirement already satisfied: joblib in e:\\anaconda3\\envs\\llm\\lib\\site-packages (from nltk->sentence-transformers==2.2.2) (1.3.2)\n",
      "Requirement already satisfied: threadpoolctl>=2.0.0 in e:\\anaconda3\\envs\\llm\\lib\\site-packages (from scikit-learn->sentence-transformers==2.2.2) (3.2.0)\n",
      "Requirement already satisfied: pillow!=8.3.*,>=5.3.0 in e:\\anaconda3\\envs\\llm\\lib\\site-packages (from torchvision->sentence-transformers==2.2.2) (10.1.0)\n",
      "Requirement already satisfied: MarkupSafe>=2.0 in e:\\anaconda3\\envs\\llm\\lib\\site-packages (from jinja2->torch>=1.6.0->sentence-transformers==2.2.2) (2.1.3)\n",
      "Requirement already satisfied: charset-normalizer<4,>=2 in e:\\anaconda3\\envs\\llm\\lib\\site-packages (from requests->huggingface-hub>=0.4.0->sentence-transformers==2.2.2) (3.3.2)\n",
      "Requirement already satisfied: idna<4,>=2.5 in e:\\anaconda3\\envs\\llm\\lib\\site-packages (from requests->huggingface-hub>=0.4.0->sentence-transformers==2.2.2) (3.6)\n",
      "Requirement already satisfied: urllib3<3,>=1.21.1 in e:\\anaconda3\\envs\\llm\\lib\\site-packages (from requests->huggingface-hub>=0.4.0->sentence-transformers==2.2.2) (1.26.18)\n",
      "Requirement already satisfied: certifi>=2017.4.17 in e:\\anaconda3\\envs\\llm\\lib\\site-packages (from requests->huggingface-hub>=0.4.0->sentence-transformers==2.2.2) (2023.11.17)\n",
      "Requirement already satisfied: mpmath>=0.19 in e:\\anaconda3\\envs\\llm\\lib\\site-packages (from sympy->torch>=1.6.0->sentence-transformers==2.2.2) (1.3.0)\n"
     ]
    },
    {
     "name": "stderr",
     "output_type": "stream",
     "text": [
      "WARNING: Ignoring invalid distribution -pype1 (c:\\users\\jyseo\\appdata\\roaming\\python\\python38\\site-packages)\n",
      "WARNING: Ignoring invalid distribution -pype1 (c:\\users\\jyseo\\appdata\\roaming\\python\\python38\\site-packages)\n",
      "WARNING: Ignoring invalid distribution -pype1 (c:\\users\\jyseo\\appdata\\roaming\\python\\python38\\site-packages)\n",
      "WARNING: Ignoring invalid distribution -pype1 (c:\\users\\jyseo\\appdata\\roaming\\python\\python38\\site-packages)\n",
      "WARNING: Ignoring invalid distribution -pype1 (c:\\users\\jyseo\\appdata\\roaming\\python\\python38\\site-packages)\n",
      "WARNING: Ignoring invalid distribution -pype1 (c:\\users\\jyseo\\appdata\\roaming\\python\\python38\\site-packages)\n"
     ]
    }
   ],
   "source": [
    "!pip install sentence-transformers==2.2.2"
   ]
  },
  {
   "cell_type": "code",
   "execution_count": 7,
   "id": "e1aa131f",
   "metadata": {},
   "outputs": [
    {
     "data": {
      "text/plain": [
       "'Chapter 1    The Fence \\n \\nTom Sawyer lived with his aunt because his mother and \\nfather were dead. Tom didn’t like going to school, and he didn’t like working. He liked playing and having adventures. One Friday, he didn’t go to school—he went to the river. \\nAunt Polly was angry. “You’re a bad boy!” she said. \\n“Tomorrow you can’t play with your friends because you didn’t go to school today. Tomorrow you’re going to work for me. You can paint the fence.” \\nSaturday morning, Tom was not happy, but he started to \\npaint the fence. His friend Jim was in the street. \\nTom asked him, “Do you want to paint?” \\nJim said, “No, I can’t. I’m going to get water.” \\nThen Ben came to Tom’s house. He watched Tom and \\nsaid, “I’m going to swim today. You can’t swim because you’re working.” \\nTom said, “This isn’t work. I like painting.” \\n“Can I paint, too?” Ben asked. \\n“No, you can’t,” Tom answered. “Aunt Polly asked me \\nbecause I’m a very good painter.” \\nBen said, “I’m a good painter, too. Please, can I paint? I \\nhave some fruit. Do you want it?” \\nOK,” Tom said. “Give me the fruit. Then you can paint.” \\nBen started to paint the fence. Later, many boys came to \\nTom’s house. They watched Ben, and they wanted to paint, too. \\nTom said, “Give me some food and you can paint.” \\n \\n1 '"
      ]
     },
     "execution_count": 7,
     "metadata": {},
     "output_type": "execute_result"
    }
   ],
   "source": [
    "from langchain.document_loaders import PyPDFLoader\n",
    "\n",
    "loader = PyPDFLoader(\"e:/data/The_Adventures_of_Tom_Sawyer.pdf\")\n",
    "document = loader.load()\n",
    "document[5].page_content[:5000]"
   ]
  },
  {
   "cell_type": "code",
   "execution_count": 8,
   "id": "3075e30d",
   "metadata": {},
   "outputs": [],
   "source": [
    "import os\n",
    "os.environ[\"OPENAI_API_KEY\"] = \"sk-\" #openai 키 입력\n",
    "\n",
    "from langchain.vectorstores import FAISS\n",
    "from langchain.embeddings import OpenAIEmbeddings\n",
    "\n",
    "embeddings = OpenAIEmbeddings() #임베딩 처리\n",
    "db = FAISS.from_documents(document, embeddings)"
   ]
  },
  {
   "cell_type": "code",
   "execution_count": 9,
   "id": "48495c19",
   "metadata": {},
   "outputs": [
    {
     "name": "stdout",
     "output_type": "stream",
     "text": [
      "[-0.002423861287745986, -0.020224092452283546, -0.012838890727828784, -0.016638798576700427, -0.022395469164200977, 0.02858136397298829, -0.027697665512866593, 0.006665618599509122, -0.012018312654964636, 0.009891121611111348, -0.015540486143290204, 0.014177063426785413, 0.0070317224335383404, -0.033277597153400854, 0.0006174060958537399, 0.02807639342434732, 0.022471213628910035, -0.005131768974763804, 0.023809388190511805, -0.02711694863687142, -0.00036215895534477265, 0.003743098336186635, 0.014151815271882393, -0.021044671456470265, -0.004926624223717124, 0.018254704704880564, 0.024339606894055798, -0.020703814846021497, -0.003982959765886253, -0.01870917894371549, 0.0012466474389412525, -0.001340540470178376, -0.03534797565777078, -0.005166485420586099, 0.001095156064801383, -0.017875976793399834, 0.010888439562264351, 0.007075907635941197, 0.009417710790437867, 0.003509549178043415, -0.0006300303479282321, 0.003335965319117439, 0.005393722540003564, -0.007618751348259268, 0.01572985009903057, 0.0048161619162019114, -0.01218874002886645, -0.021183537239759447, -0.019277272673581727, 0.014820901621360707, 0.009670196996080923, 0.01222661319254355, -0.011601710648484236, -0.011368161956002302, -0.01903741054539018, 0.004213352671835953, -0.0020940520256358237, -0.012845202300893253, 0.003272844000537317, -0.026864463362550935, 0.0016001271955189604, 0.011046242858714654, -0.01497239334474654, -0.00010868714121104233, -0.016373688293605863, -0.014366428313848347, -0.011538589329904115, 0.0012079855614617354, -0.008458266002961966, -0.0021650635090384603, 0.02951556060556117, 0.02906108636672624, -0.013911954075013418, -0.007423075353793149, 0.017913849957076934, -0.0163863114397348, -0.0064478497710109325, -0.0013460635622710721, -0.012718959663733011, 0.004039769045740619, 0.01763611652785343, -0.023354913951676878, -0.003126086655441764, -0.009581826591275211, 0.0037052254053401767, -0.0014991329460923807, -0.04410922510750441, 0.029667051397624433, 0.0029130519724032116, -0.0036484161254858104, 0.006791861236669365, 0.021032046447696184, 0.002930410428145002, 0.043553758249057405, -0.0030598093174987653, 0.004219664710561708, -0.002681080940356752, 0.01177213895370862, -0.021423399367950992, -0.013482728922404078, -0.012914636123860415, -0.015527861134516123, -0.01453054318336312, -0.003468520227834079, -0.012832578223441743, -0.007744994451080796, 0.0006939407295567334, -0.024364855048958817, 0.024617342185924446, -0.026914959672356974, -0.002677924920993874, 0.026107005676944336, 0.013899329997561907, -0.03378256770204183, 0.010566520464976704, -0.013836208678981787, 0.02401137529238111, -0.01311662415705229, 0.013470103913629997, -0.0006888121689882271, 0.012207676610705, 0.012624277685862828, 0.018519814987975128, -0.0012837311903240096, 0.009127352352440282, 0.00812372282822281, -0.005027618705974346, -0.021019421438922103, 0.001116459602954431, -0.013028254683569149, 0.05393091568961631, 0.014063444867076681, 0.034237041940876754, 0.00037537500470554986, -0.0163863114397348, -0.017068022797987196, 0.015666728780450445, 0.002158751470312705, 0.013318613121566734, -0.02090580381053594, -0.0029667052328947005, 0.003364369959044622, -0.008066913082707157, -0.024440601376313018, 0.027849156304929856, 0.022938312876519047, 0.053476441450781384, 0.0026747689016309965, 0.005314820891778412, 0.015048138740778172, 0.007606127270807758, -0.0009460318215989928, 0.04549789784155737, -0.00997317951153002, 0.019163653182550422, 0.0007424653130643945, -0.022016739390075105, 0.02043870456292693, 0.011456532360808014, -0.002463312111858562, 0.006394196743350087, 0.015010266508423641, 0.028758104782599717, -0.013015630606117637, 0.012592717026572768, 0.033681571357139464, 0.0034969248677612624, 0.01809058890404322, -0.00118431506699419, -0.0009294624289055824, -0.005854508817564249, 0.01761086651030527, -0.0033485896293995914, 0.03166168916257558, -0.03504499407364425, 0.008736000363508044, 0.011690081053289949, -0.002097208044998701, -0.011519653679388136, 0.019239399509904626, -0.015616231539321835, 0.0044532138687049284, 0.013520601154758609, 0.013003005597343556, -0.014959769267295031, -0.007044346976651136, -0.0008229450873863063, -0.01805271760301126, -0.0021729536738609753, 0.013709965110498972, 0.011033618781263145, 0.013217618639309512, -0.012327606743478202, -0.003679977017606514, -0.6257601952897675, 0.003708381424703054, 0.021044671456470265, -0.006545688001074634, 0.01984536454080282, 0.0009689133112258189, -0.00520120233206968, 0.011267167473745078, -0.012081433973544758, 0.02762191918551239, 0.0023181328928597684, -0.0022408093707313773, 0.004393248802318327, -0.0012261329638365845, -0.012472785962476996, -0.027445180238546106, 0.0020719596572650384, -0.008849618923216776, -0.005807167828629159, -0.017585618355402247, -0.0027047514348242973, -0.005248543321004771, -0.014454797787331488, 0.002573774652204417, 0.01766136468275645, 0.018848046589649815, 0.01222661319254355, 0.006968601114958219, -0.0026258497865991456, 0.05923311017563679, -0.04484143463820799, 0.03698913366614422, -0.003509549178043415, -0.001631687854809021, 0.03209091338386235, -0.013697341033047462, -0.02439010506650698, 0.01762349151907935, -0.006924416378216648, 0.046406842593936945, -0.017434127563338984, -0.0190626587002932, 0.021095167766276304, -0.0010186213728907286, -0.008818058263926716, 0.0012166647893326306, 0.004396404588850562, -0.005592554786663203, 0.016941780160826952, 0.007789179187822367, -0.03671139837427557, 0.005147549304408834, 0.02439010506650698, 0.008029040850352628, -0.03118196490619249, 0.020186219288606446, 0.016121203019285376, -0.008313086783963173, -0.005999688036563043, 0.01094524837645743, 0.0352469830381587, -0.004027144502627824, -0.004693075065573904, 7.2145776086598e-05, -0.041306637072430916, 0.027546172858158188, -0.016638798576700427, -0.00019074494704226562, -0.008805433255152635, -0.027950150787187076, 0.022950936022647986, -0.019239399509904626, -0.003821999984411787, 0.008218404806092991, 0.019693873748739557, 0.026864463362550935, 0.04519491253214056, 0.010724323761427007, -0.008552947980832148, 0.0016135404524341718, -0.02132240488569377, -0.00905160695640865, -0.022862566549164846, 0.013722590119273053, -0.008332023365801725, -0.010995745617586043, -0.020691191699892558, -0.01936564214706487, 0.004936092514636399, -0.016121203019285376, 0.025235930362951575, 0.0353227293655129, -0.0010462369497695318, -0.017535122045596208, -0.015856092736190812, 0.03446427719764908, 0.003085057938063071, -0.003856716895895368, 0.00038484320831333414, -0.0057377340056619965, 0.016878658842246833, -0.0031986762649411607, 0.008237341387931542, -0.003585294806905689, 0.011128300759133326, 0.026637226243133468, -0.04602811468245621, -0.0011858930766756287, 0.013482728922404078, -0.019656000585062453, 0.011645896316548377, -0.010743260343265558, 0.00945558395411497, 0.011437595778969464, -0.007107468295231257, -0.011576462493581215, 0.004330127018076921, 0.026107005676944336, 0.009758566469564066, -0.009001109715280039, 0.018305202877331745, 0.004118670693965771, 0.031787931799735825, 0.012182427524479409, 0.01537637034245286, 0.011671144471451398, -0.04289729504570803, -0.030247768273619607, -0.021019421438922103, -0.013722590119273053, -0.029616555087818394, -0.010528647301299602, 0.014669410829297444, -0.012965133364989027, 0.007101156256505502, 0.012876762960183315, 0.02168850965104556, -0.003957711145321947, 0.02264795443852146, -0.009177849593568892, -0.004904531855346338, 0.0077828671490966115, -0.00910210419753726, -0.0007578511693928955, -0.003995583843337763, -0.011620647230322786, -0.023897757663994948, -0.004368000181754022, -0.013406982595049875, 0.002403346812641318, -0.004235445040206738, -0.024629965332053385, -0.0028641330902020035, -0.0023796763181737723, 0.02536217300011182, 0.014732532147877566, -0.010572832038041173, -0.006327919172576445, 0.011904694095255903, -0.007719745830516491, 0.02623324831410458, 0.0009925838056933645, -0.028227884216410582, -0.015666728780450445, 0.006671930638234878, -0.033151354516240614, 0.00011095556650789846, 0.018848046589649815, -0.006943352494393913, -0.02094367697421304, -0.014820901621360707, -0.007492508711099025, -0.009247283416536054, 0.014656785820523363, 0.014858774785037809, -0.015149133223035394, 0.008906427737409857, -0.01898691423558414, -0.01997160717796306, 0.002567462380648019, 0.01891116790822994, 0.009613387250565273, -0.001690075144344826, -0.012333919247865243, 0.011393410110905321, 0.014328555150171247, 0.0095313293501466, 0.034590519834809326, -0.006886543214539547, 0.006312138842931414, -0.021057294602599204, 0.023380162106579897, -0.0030487631333133724, 0.013520601154758609, 0.003364369959044622, -0.03557521463983339, 0.018898542899455858, 0.03653465942730929, 0.030172023808910545, 0.03161119285276954, -0.009057919460795691, -0.003932462524757642, 0.003209722681957196, -0.007107468295231257, 0.014669410829297444, -0.010137295312367364, -0.009171538020504423, -0.01590658904599685, 0.007397826733228844, -0.005453688072051451, -0.008029040850352628, -0.02941456612330395, 0.00957551408688817, -0.01941613845687091, 0.015641480625547426, 0.02178950227065764, -0.027041202309517218, 0.010983121540134533, -0.01540161849735588, 0.011437595778969464, 0.030550751720391275, 0.009417710790437867, -0.006533063457961839, -0.01992111086815702, 0.003821999984411787, 0.03350483241017318, -0.0023623178624319822, 0.032671630259857525, 0.00374941037491239, 0.007580878650243452, -0.02209248571742931, -0.02358215107109434, -0.007561942068404902, 0.02500869324353411, 0.004254381622045289, -0.022736323912004603, 0.019681248739965476, -0.022357596000523873, -0.004756196384154024, 0.020186219288606446, 0.011967815413836024, 0.01809058890404322, -0.020628070381312435, -0.03378256770204183, 0.02946506429575513, 0.04027144595760081, 0.009411399217373398, 0.010061548985013161, -0.04082691281604782, 0.01175951487625711, -0.02353165289864316, -0.017358381235984783, 0.018873294744552835, -0.0019788555726609736, -0.004936092514636399, -0.03481775881687193, -0.004033456541353579, -0.001341329533226756, 0.019327768983387766, 0.012030936732416146, 0.0009689133112258189, 0.011361849451615261, 0.0038377803140568173, 0.010901063639715861, 0.02999528299929912, 0.007763930567258061, -0.0053747859581650135, -0.02171375780594858, -0.003351745648762469, -0.015957087218448032, -0.03562571094963943, -0.02261008127484436, 0.019264647664807646, -0.019832739532028736, 0.027748161822672632, 0.022521711801361217, 0.007277896134794356, -0.001389459585210227, 0.019656000585062453, 0.017472000727016088, -0.012617965181475788, -0.039640232771799594, -0.0007953295105075032, 0.02941456612330395, 0.015187006386712497, -0.0028420404890005754, -0.030525503565488256, 0.01082531824368423, -0.013192370484406492, 0.05670825370714165, -0.003727318006541605, 0.006665618599509122, -0.0034779885187533545, -0.013798335515304684, -0.028859099264856938, -0.018444068660620927, 0.020047353505317264, -0.01816633523139742, 0.02676346888029371, -0.018860671598423896, -0.010061548985013161, -0.001672716805018357, -0.006293202261092864, -0.013949826307367947, 0.010541271378751112, 0.015818219572513708, 0.001928358447947684, -0.01772448600133657, 0.022004116243946166, -0.009411399217373398, -0.03095472778677502, -0.0029256762826853646, -0.023317040787999774, -0.03751935423233335, -0.021436022514079934, -0.0037999076160410016, -0.022054612553752205, -0.02209248571742931, 0.01620957249276852, 0.014846150707586298, -0.007176901652537133, -0.0181032139128173, -0.018254704704880564, 0.010130982807980323, 0.051229320274154895, -0.017068022797987196, -0.006533063457961839, -0.011828947767901702, 0.005431595238019379, 0.0081110987507713, -0.006305826804205659, -0.02941456612330395, -0.01039609215975232, -0.007347329492100232, -0.004513179400752815, -0.011431283274582423, 0.0015772456476844735, -0.0018825953522787103, 0.027015954154614198, 0.009139977361214363, -0.004011364172982794, -0.03542372198512498, 0.005014994162861551, 0.00040279334492608827, 0.000246567912638072, -0.010800069157458639, 0.022041989407623266, 0.0217390059608516, -0.006608809319654756, 0.007738681946693755, -1.5718704103258998e-05, 0.0141265661856568, 0.023998752146252172, -0.03297461184398404, -0.007322080871535927, -0.005624115445953264, -0.0074609480518089645, -0.02045132957170101, -0.00478144500471833, 0.02356952606232026, -0.02085530563808476, 0.019794866368351635, 0.015780346408836608, 0.0020861618608133087, 0.02951556060556117, 0.041533872329203234, 0.009569202513823701, -0.010257225445140567, 0.011690081053289949, 0.0017642427635256614, 0.005024462453780826, 0.01945401162054801, -0.0036105434274699946, 0.011084116022391755, 0.026611976225585306, -0.009790127128854126, -0.0299700348443961, -0.010774821002555618, 0.01494714425852095, -0.0025406358668175963, -0.009411399217373398, -0.007972231104836976, 0.004910843894072093, -0.0034180232195361107, -0.0007803381857031923, -0.0282531323713136, -0.02317817314206545, -0.006589872737816205, -0.006829734400346466, -0.014833525698812217, -0.023923005818897967, -0.010718011257039967, -0.02536217300011182, -0.0074041387719545985, -0.03353008242772134, -0.019113156872744383, -0.021335029894467852, -0.03176268178218766, -0.014416924623654388, 0.019529757947902213, 0.02981854405233284, 0.0037588786658316656, -0.004525803478204325, -0.0054095028696485945, -0.011538589329904115, -0.018305202877331745, 0.003796751596678124, -0.02411236977463833, -0.028808601092405756, 0.001272685006138617, 0.002218716769529949, 0.00948714461340503, -0.014101318030753781, 0.002089317880176186, 0.024996070097405173, -0.0007345751482418794, 0.019517132939128132, -0.0031434451111835545, -0.001251381467985569, -0.026460485433522044, -0.000713271668296492, 0.005355849841987748, -0.014139191194430882, -0.004355375638641226, 0.02719269310158048, -0.02951556060556117, -0.0005420549403079951, 0.0010020519801973184, -0.0022392312446346168, -0.0037999076160410016, 0.01631056697502574, 0.006091213762239704, -0.001693231280123025, 0.010351907423010748, 0.026864463362550935, -0.02398612713747809, 0.013571098395887219, -0.023923005818897967, 0.012838890727828784, 0.010358219927397789, -0.006665618599509122, 0.009177849593568892, -0.00045210693327446874, -0.014808277543909197, -0.008552947980832148, -0.004405872879769838, 0.03355532871997922, 0.025059191415985293, -0.005011838376329316, 0.011115676681681817, -0.007372578112664538, -0.0068107978185079155, 0.002980907436442971, 0.00544737556766441, 0.00011716907421601219, 0.006716115840637734, -0.007303144755358661, -0.01228342200673663, 0.002273947923287555, -0.01094524837645743, -0.02896009188446902, 0.02802589711454128, -0.01536374626500135, -0.01998423218673714, -0.007271584096068601, -0.032722126569663564, -0.009121040779375813, -0.015540486143290204, -0.028303630543764786, -0.027445180238546106, -0.01264952584076585, 0.02402400030115519, -0.0031039942870709786, 0.007170589613811378, -0.02046395458047509, -0.010112046226141773, -0.01451791910591161, -0.018355699187137784, 0.008660254036153841, -0.03749410421478519, -0.004907688107539858, 0.020564949062732315, 0.03655990944485745, 0.011014682199424593, 0.0021761099260544955, -0.005674612687081875, 0.01628531882012272, 0.008773872595862573, 0.0018936416528794243, 0.008464578507349007, -0.012965133364989027, 0.021966243080269066, -0.028657110300342493, 0.019542381094031152, -0.005690393016726906, -0.0022518555549167697, 0.02716744494667746, 0.023190798150839534, -0.011046242858714654, 0.020539699045184153, 0.007631375891372064, -0.012599028599637237, -0.030096277481556345, -0.009209410252858954, 0.008275213620286073, -0.0061353989646425605, 0.010389780586687849, -0.02038820825312089, -0.006854982555249486, -0.024882450606373868, 0.019517132939128132, -0.01405082078962517, 0.01997160717796306, 0.009727005810274005, 0.019592879266482333, -0.038201063727940604, 0.003645260106122933, 0.008306774279576132, -0.003591607078462087, -0.016462057767089002, 0.017004901479407076, 0.027899652614735895, 0.010762196925104108, 0.007561942068404902, 0.00863500588125082, 0.030878983322065963, -0.0048508788276854925, 0.02221872835458955, -0.0081110987507713, 0.02158751516878834, -0.011904694095255903, -0.03330284344565874, 0.017358381235984783, -0.008698127199830942, -0.0372416189404647, -0.02954080876046419, -0.005245387534472536, -0.03130820754335273, 0.02435223190282988, 0.002163485615772343, -0.024516347703667223, 0.0181410870764944, 0.009834311865595696, -0.006873919137088037, 0.00239861266718168, 0.04216508551500445, 0.03661040575466349, -0.0046993871042996585, 0.03565096096718759, 0.042392324497067056, -0.00479722533436336, -0.03135870385315877, 0.010516023223848092, -0.0045194914394785695, -0.009828000292531227, 0.0015149132757374109, 0.021776879124528702, -0.008666566540540882, -0.017055399651858257, 0.02683921334500277, -0.0015598873083580045, -0.0217390059608516, -0.02084268249195582, 0.024768832977987706, -0.006378416413705056, 0.011620647230322786, 0.009689132646596904, -0.008950612474151427, -0.0038945895939111836, 0.019441386611773928, -0.0051538613431345885, 0.005586242747937448, -0.04335176928454296, -0.02576615092914071, -0.01843144551449199, -0.0314092038882551, -0.008256277969770093, 0.027015954154614198, -0.004595236835510201, 0.005343225298874953, -0.00283572845027482, 0.0006106994091884735, -0.013369110362695346, 0.0061764279148518965, -0.022458590482781097, 0.02538742301765998, -0.017105895961664296, -0.011387098537840852, 0.004263849912964564, -0.011999376073126086, -0.006589872737816205, 0.00153306067811226, -0.02033771194331485, 0.035120740400998454, -0.009815376215079717, 0.007568254572791942, -0.028884347419759957, 0.016575677258120307, 0.012359167402768262, 0.007277896134794356, 0.010604393628653805, 0.00563673998906606, -0.0033769942693267748, -0.009846936874369779, 0.02042608141679799, 0.006981225658071014, -0.016373688293605863, -0.006520439380510329, -0.019075283709067282, 0.0054252831992936245, -0.03360582875507554, -0.009367213549309257, 0.01773710914746551, 0.0406754238866297, -0.016436809612185983, -0.0064636301006559625, -0.02946506429575513, -0.008515074817155048, 0.006495190759946023, -0.036231677843182764, -0.00428909853352887, 0.03249489131289124, -0.052113018734276595, 0.009632323832403823, -0.024756207969213625, 0.008451953498574926, 0.008029040850352628, -0.01129241655997067, 0.022786820221810642, -0.02315292498716243, 0.01668929488650647, -0.021953618071494985, -0.021486520686531115, -0.01849456683307211, -0.005936566717982921, 0.010774821002555618, -0.012920947696924884, -0.017838103629722733, 0.005488404517873746, 0.012561156367282708, 0.016348440138702843, -0.00544737556766441, -0.012744207818636031, 0.009165225516117382, -7.707712910066998e-05, -0.00035801663627525043, 0.029717549570075618, -0.026586728070682287, -0.030146775654007526, 0.005750358548774792, 0.00657093662163894, -0.009323028812567686, 0.0019678091556449384, -0.036307424170536964, -0.01081269416623272, -0.00810478624638426, -0.018267329713654645, -0.015717225090256488, 0.001328705222944603, -0.01617169932909142, -0.025652531438109406, 0.006526751419236084, -0.01045290190526797, -0.015527861134516123, 0.001898375798339062, 0.039993710665732166, -0.01179738710861164, 0.018368324195911865, -0.0005282470936609329, -0.027369433911191905, 0.01088212705787731, -0.04097840547075623, -0.02946506429575513, -0.015300624015098657, -0.018557688151652228, 0.068726569156074, 0.000675793385389545, -0.015187006386712497, -0.01774973415623959, 0.01536374626500135, -0.03229290234837679, 0.008988485637828529, 0.027520924703255168, 0.001631687854809021, -0.004112358655240016, 0.0068107978185079155, 0.0018620809935893637, 0.018658682633909452, -0.01667666987773239, 0.03618117780808644, -0.0032949363689081025, -0.018658682633909452, -0.006842358477797976, -0.021953618071494985, -0.03075274068490572, 0.01224554884305953, 0.01081269416623272, -0.016600925413023326, 0.004333283270270441, -0.007871236622579754, 0.007568254572791942, 0.026990705999711175, 0.003790439325121726, -0.006634057940219062, 0.005390566753471329, -0.009310404735116176, -0.009240970912149014, 0.011948878831997474, 0.01448004594223451, -0.0037525666271059103, -0.023304415779225693, 0.017939098111979957, -0.00026175650320447796, -0.0025090752075275355, -0.004592081048977966, 0.01398769947104505, -0.023859884500317848, 0.023784138172963643, 3.289215952845651e-05, -0.012977757442440537, 0.008799121682088164, -0.00153306067811226, 0.011033618781263145, -0.0030550751720391273, -0.00021875505544525874, 0.028177387906604543, -0.021928369916591965, -0.020287213770863666, -0.0036831330369693914, 0.011626959734709827, 0.0002887803410046567, 0.020186219288606446, 0.0047909132956376055, -0.005207514370795435, 0.015818219572513708, 0.005472624188228715, 0.023784138172963643, -0.019201526346227526, -0.01773710914746551, 0.019113156872744383, 0.014429549632428469, -0.0362064278256346, 0.039160508515416505, -0.00565567657090461, -0.011961502909448984, 0.0009334075113168399, -0.020539699045184153, 0.00016934284876774593, 0.00045013439206883994, -0.024427976367538937, 0.0007862558093200786, 0.013040878761020658, -0.01363421971446734, 0.0498658975576501, -0.014164439349333903, -0.019756995067319677, 0.006166959623932621, 0.005620959659421029, 0.0007546950918223573, 0.021511768841434135, 0.2516776015844891, -0.0025942891273090848, -0.005709329598565456, 0.014618913588168834, 0.005078115481441672, 0.027520924703255168, 0.027899652614735895, -0.004522647226010805, -0.00824365296099601, -0.002056179327620008, -0.0061038383053525, 0.013040878761020658, -0.003803063635403879, 0.002786809335242969, -0.003272844000537317, -0.03408554928616835, -0.010124670303593283, 0.015426867583581472, 0.01127347997813212, -0.028758104782599717, 0.0037304740259044822, 0.008691814695443901, -0.01403819671217366, -0.0013129248932995728, -0.0008379364121906172, 0.006690867220073428, -0.005819791906080668, -0.0028736011482906358, -0.01080638166184568, -0.00305191915267625, -0.02312767683225941, -0.001631687854809021, 0.016260068802574558, 0.003364369959044622, -0.00036689307170057996, -0.007953294522998425, 0.02855611581808527, 0.014707283061651975, 0.031737435489929786, 0.03650940940976113, 0.009285156580213156, -0.009013733792731548, -0.00011549241710161076, 0.016563052249346226, -0.0066782426769606325, 0.03451477350745512, -0.00432065919281893, 0.00015504191047502203, -0.019226774501130545, 0.03325234713585269, -0.03130820754335273, -0.017307884926178744, 0.011222982737003508, 0.03744360790497915, 0.005194890293343924, -0.0010194104359391087, 0.007277896134794356, -0.00910210419753726, -0.021978868089043146, 0.011898381590868862, 0.016032831683157094, 0.022950936022647986, -0.005996531784369523, 0.029919538534590062, -0.01570460194412755, -0.00814897098312583, -0.040473434922115255, 0.02449109768611906, 0.0031513352760060695, -0.004541583807849355, -0.0037525666271059103, 0.018860671598423896, 0.007643999968823574, -0.007650312007549329, -0.0328483692068238, -0.01995898216918898, 0.04241757451461522, 0.004263849912964564, 0.025980763039784093, 0.023733641863157604, -0.027066450464420237, 3.646739410163748e-05, 0.012220300688156509, 0.018153712085268482, -0.0070317224335383404, -0.011443907352033933, -0.007208462311827194, -0.008186844146802931, -0.026536231760876248, -0.0070317224335383404, 0.01355847431843571, 0.0006260852655169745, 0.005305352600859137, -0.013003005597343556, -0.00012071965420691009, 0.013192370484406492, 0.0004525014356948284, 0.014151815271882393, 0.004134451023610802, -0.004932936262442879, -0.002273947923287555, -0.00905160695640865, 0.009468208031566479, 0.015136509145583885, -0.0018668150226336798, 0.03378256770204183, -0.0014139191427261525, -0.01766136468275645, -0.002046711036700733, -0.022988809186325086, -0.016323190121154678, -0.02777340997757565, -0.002824682033258785, 0.013709965110498972, 0.009903745688562858, -0.007549317990953392, 0.020691191699892558, -0.03221715602102259, -0.0009562890009436661, -0.001065173415192761, -0.017547745191725146, -0.01819158338630044, -0.012321295170413733, 0.019529757947902213, 0.015868717744964893, -0.015098635981906784, -0.011734265790031518, 0.02267320259342448, 0.0050970520632802226, -0.042594313461581504, 0.0053842542490842886, -0.026460485433522044, 0.027419930220997944, 0.006233237194706262, 0.005703017559839701, 0.031030474114129226, -0.0014241762638631651, -0.005160173381860344, 0.011153548914036346, 0.014341179227622756, -0.004364843929560502, -0.019277272673581727, 0.0145052950284601, 0.005589399000130968, 0.01713114411656732, -0.04499292356762611, 0.012763144400474581, 0.003872497225540398, -0.013331237199018244, -0.015237502696518536, -0.03534797565777078, 0.011222982737003508, 0.0020940520256358237, 0.012914636123860415, 0.026637226243133468, -0.01862080947023235, -0.025488415637272062, -0.038100071108328526, 0.006577248660364695, 0.008887491155571307, -0.03676189468408161, 0.005923942174870126, 0.02431435873915278, -0.025425294318691942, -0.01945401162054801, -0.010206728204011955, -0.15694501937108282, 0.004421653209414868, 0.03898376956845022, -0.025639908291980467, -0.005251699573198291, 0.03855454534716345, 0.013760462351627584, -0.023809388190511805, -0.013432231681275468, 0.025198057199274475, 0.02802589711454128, -0.012927260201311925, -0.032823122914565926, 0.0014825635533989702, 0.002778919170420454, 0.010200416630947486, -0.0005933410698620044, -0.011172485495874896, 0.010459214409655011, 0.0034843005574791094, 0.03130820754335273, -0.011159861418423386, -0.010149919389818874, -0.004611017165155232, -0.01175320237187007, 0.018330451032234765, -0.014379052391299859, 0.0005081271500804549, -0.0034527398981890486, -0.012094058050996268, -0.020729063000924516, 0.004279630242609594, 0.01620957249276852, -0.012908323619473375, 0.017396254399661883, -0.006078589684788195, -0.0022234509149895868, 0.00022447544240388042, -0.017118520970438377, 0.03522173302061054, 0.0002313793366235812, 0.03865553796677553, 0.013406982595049875, -0.024768832977987706, 0.0016884971346633874, 0.004642578290106578, -0.021461272531628096, 0.023948253973800987, 0.0181789602401715, -0.016474682775863083, 0.01127347997813212, -0.005056023113070887, 0.009884809106724308, -0.00564936406651757, 0.01624744565644562, 0.013684716955595953, 0.003910370156386856, 0.013621595637015831, -0.013305988112792653, -0.007322080871535927, -0.014366428313848347, -0.026611976225585306, 0.008180531642415891, 0.002723687783832205, 0.00679817327539512, 0.0061764279148518965, -0.028152139751701524, 0.021057294602599204, -0.049158938044494685, 0.0026858150858163894, 0.005441063528938655, 0.00858450864012221, 0.0061922082444969264, -0.009373526053696297, -0.020703814846021497, 0.012744207818636031, -0.0171816422890185, 0.015893965899867912, -0.022875191557938927, 0.005974439415998737, 0.004592081048977966, 0.013937202229916438, -0.03721636892291654, -0.01617169932909142, 0.018822798434746796, -0.008376208102543295, 0.007271584096068601, -0.017434127563338984, 0.011462843933872483, 0.006943352494393913, 0.024693086650633505, -0.043326519266994795, -0.013369110362695346, -0.015780346408836608, 0.03254538762269728, 0.020615445372538354, 0.004415341170689113, 0.009739629887725514, 0.0007314190706713411, 0.0012000953966392204, -0.005964971125079462, -0.021006798292793165, -0.015136509145583885, 0.02165063648736846, 0.015527861134516123, 0.007593503193356248, 0.01675241620508659, 0.023998752146252172, 0.03863028794922737, 0.01945401162054801, 0.0054852487313415115, 0.008003791764127036, 0.011709017635128499, 0.034767258781775605, 0.0040997341121272205, 0.03698913366614422, -0.027849156304929856, -0.009771190547015576, 0.026182752004298537, -0.008685503122379432, 0.052365504008597075, 0.008521387321542088, -0.024604717177150362, 0.009165225516117382, -0.010099422148690263, -0.01314187324327788, -0.0683225912270451, -0.017774982311142613, 0.008060601509642688, 0.004920312184991369, -0.017812855474819714, 0.01355847431843571, 0.010635954287943866, 0.011513341175001095, -0.028657110300342493, -0.002575352545470534, 0.0005223294700440465, -0.015136509145583885, 0.006286890222367109, 0.015287999937647147, 0.012592717026572768, -0.008401457188768885, -0.012939884278763435, -0.02176425411575462, 0.011424970770195381, 0.011879445009030312, 0.0280511452694443, 0.008647629958702331, 0.015086011904455273, -0.03529747934796474, -0.003762034685194543, 0.005838728487919219, -0.010623329279169784, 0.026914959672356974, 0.012977757442440537, -0.008540323903380638, -0.0058134798673549135, -0.01870917894371549, -0.007593503193356248, 0.0032696879811744397, -0.002657410445889206, -0.024768832977987706, -0.03994321435592612, -0.004197572342190922, 0.027823908150026836, -0.003755722646468788, 0.0054600001107772056, 0.02364527238967446, 0.02810164157925034, -0.014303306063945656, 0.0027599825885819035, 0.0010730635800152762, -0.0014407456565565756, 0.010364531500462258, -0.00523591924355326, -0.022408092310329916, -0.023784138172963643, -0.023279167624322673, -0.05685974636185005, 0.0016948092898044637, 0.049083191717140484, -0.00861606929941227, 0.017951723120754038, -0.00020672254244939096, -0.00565252031871109, 0.024718334805536524, -0.013318613121566734, 0.0244532263850871, 0.007176901652537133, 0.0005546791923824872, 0.009758566469564066, 0.0042322892536745035, -0.026738220725390692, 0.00957551408688817, 0.0328483692068238, -0.01537637034245286, 0.01359634655079024, 0.02130977987691969, -0.022344970991749792, 0.03880703062148394, -0.05382991934471395, 0.011879445009030312, -0.017055399651858257, -0.008666566540540882, 0.01627269381134864, -0.04092790916095018, -0.013381734440146856, -0.029843792207235858, 0.007183214156924174, -0.0253369248452088, 0.009998427666433041, -0.0038598729152582454, 0.004014520425176314, -0.023291792633096754, 0.004109202403046496, -0.008805433255152635, -0.0009681243063850995, 0.008344647443253235, -2.596360163152567e-05, -0.045750383115877855, 0.0008261011649568445, 0.013217618639309512, -0.02683921334500277, -0.001808427733097875, 0.006125930673723285, 0.022206103345815468, 0.005939722504515156, -0.037872832126265916, -0.054486382548063324, 0.02090580381053594, -0.00997949108459449, -0.02435223190282988, 0.012939884278763435, -0.0014415347196049557, 0.0190626587002932, -0.022004116243946166, -0.007511445292937576, -0.002275526049384315, 0.012775768477926091, 0.008742311936572513, 0.006359479831866506, 0.0014486358213790906, -0.025513665654820224, -0.02480670614166481, 0.007012786317361075, 0.008672879044927922, 0.009291468153277626, 0.014265433831591125, 0.0003887882907245917, 0.005870289147209279, 0.0030203584933861894, 0.018557688151652228, -0.01776235916501367, 0.011185109573326406, -0.018822798434746796, 0.012561156367282708, -0.010244601367689057, -0.004746728558896035, 0.006053341064223889, -0.04282154871835382, -0.0034653642084712015, 0.03158594283522138, 0.02088055565563292, -0.011469156438259524, 0.012346543325316752, 0.020173596142477507, 0.013659468800692931, 0.049966890177262184, -0.017850728638496814, -0.034843005109129806, 0.004345907347721951, -0.0067539885386535495, -0.012965133364989027, 0.01901216239048716, -0.007050659015376891, 0.009152601438665873, 0.029263075331240687, -0.01719426543514744, 0.022243976509492572, 0.025576786973400347, -0.008748624440959554, 0.0006892066423047564, -0.005106520354199498, -0.04125614076262487, 0.016979653324504056, -0.0011282948501882036, 0.02215560703600943, -0.003945086602209152, 0.005166485420586099, -0.017080647806761277, -0.0027631388407754237, 0.013975075393593538, -0.002141393014570915, 0.012756832827410112, 0.006053341064223889, -0.011507028670614053, 0.01945401162054801, -0.03337858977301294, -0.042543817151775465, 0.0036010751365507195, -0.0033012486404645006, -0.023998752146252172, -0.008786497604636654, 0.010964184958295983, -0.009348277898793276, 0.00013788077870298727, -0.0022234509149895868, 0.031055722269032245, -0.021940994925366046, -0.007075907635941197, -0.0017247919394130856, -0.014884022939940829, 0.00945558395411497, 0.0074609480518089645, -0.017421502554564903, 0.013911954075013418, 0.017913849957076934, -0.01359634655079024, -0.05685974636185005, 0.009234659339084544, 0.014795653466457687, -0.012977757442440537, 0.021297156730790752, 0.008161595060577339, -0.010528647301299602, -0.00042015174246021804, 0.0022692140106585603, 0.009783815555789657, -0.003074011521047035, -0.0017768670738078141, 0.006258485815270568, -0.016449434620960064, -0.007915422290643894, 0.009480832109017989, 0.009411399217373398, -0.023809388190511805, -0.0113302887923252, 0.02777340997757565, 0.010711699683975496, -0.023443283425160017, -0.019277272673581727, 0.005355849841987748, -0.013343861276469755, 0.0019031098273833782, 0.011980439491287534, -0.02635949095126482, -0.03413604559597439, 0.03125771123354669, 0.011911005668320374, 0.012403353070832405, 0.009436647372276417, -0.02994478668949308, 0.02800064709699312, 0.027546172858158188, 0.005630427950340304, -0.01046552598271948, -0.0048919077778948284, 0.015755098253933588, -0.016095953001737214, 0.025905016712429892, -0.029667051397624433, -0.008988485637828529, -0.03751935423233335, 0.026662474398036488, 0.0011038352926722782, 0.00454789584657511, -0.04049868121437313, 0.05302196721194645, 0.001317658922343889, -0.0023323353292386815, 0.002619537515042748, 0.002026196561596065, 0.013003005597343556, 0.025109687725791335, 0.028202636061507563, -0.03984222173631404, 0.005674612687081875, -0.003613699446832872, -0.022079860708655228, -0.003181318042030013, -0.04112989812546463, -0.017901224948302853, -0.005276948193762596, -0.0243774800577329, 0.0022976184177551004, -0.012630589258927299, 0.030146775654007526, 0.025160185898242517, 0.027899652614735895, -0.004847722575491972, 0.0016269538257647047, -0.025930266729978054, -0.001475462451624835, 0.020729063000924516, -0.018658682633909452, 0.023405410261482917, -0.005081271733635193, -0.0006067543267772159, -7.431556850240663e-05, -0.03234339865818284, -0.010004740170820082, -0.002745780385033633, -0.00031008382095004406, -0.007378890151390293, -0.0018762833135529552, 0.010093109644303223, 0.010901063639715861, -0.009177849593568892, 0.007359954035213028, 0.0010691184976040185, 0.01853243999674921, 0.03756985054213939, 0.020135722978800404, -0.017421502554564903, 0.006280578183641354, 0.005510497351905817]\n"
     ]
    }
   ],
   "source": [
    "from langchain.embeddings import OpenAIEmbeddings\n",
    "embeddings = OpenAIEmbeddings()\n",
    "\n",
    "text = \"진희는 강아지를 키우고 있습니다. 진희가 키우고 있는 동물은?\"\n",
    "text_embedding = embeddings.embed_query(text)\n",
    "print(text_embedding)"
   ]
  },
  {
   "cell_type": "code",
   "execution_count": 10,
   "id": "3a9ff65a",
   "metadata": {},
   "outputs": [
    {
     "name": "stderr",
     "output_type": "stream",
     "text": [
      "e:\\anaconda3\\envs\\llm\\lib\\site-packages\\tqdm\\auto.py:21: TqdmWarning: IProgress not found. Please update jupyter and ipywidgets. See https://ipywidgets.readthedocs.io/en/stable/user_install.html\n",
      "  from .autonotebook import tqdm as notebook_tqdm\n"
     ]
    },
    {
     "name": "stdout",
     "output_type": "stream",
     "text": [
      "[0.013278794474899769, 0.07225912064313889, 0.09263106435537338, -0.003979586064815521, 0.0015618231846019626, -0.10306374728679657, 0.10929883271455765, 0.05566197633743286, -0.03116736002266407, -0.050203148275613785, 0.08312956243753433, -0.00892441812902689, 0.0950632244348526, -0.06980788707733154, 0.0395590178668499, -0.10899190604686737, 0.04943860322237015, 0.03736485168337822, -0.12409227341413498, -0.003315392415970564, 0.04840954393148422, -0.031085079535841942, 0.008206992410123348, 0.06326045840978622, -0.06804246455430984, -0.010208209045231342, 0.004927055910229683, -0.014940386638045311, -0.0014765921514481306, -0.006598921958357096, -0.04015950486063957, 0.08289803564548492, 0.014144634827971458, -0.011793497018516064, -0.09415140748023987, 0.0021563589107245207, -0.01905309595167637, -0.03773900121450424, -0.0032710647210478783, 0.04685608670115471, -0.18111620843410492, -0.11718785762786865, 0.03504842147231102, -0.06848111748695374, 0.06553438305854797, 0.03522862493991852, -0.0497485026717186, -0.126129612326622, -0.0784597173333168, 0.0042578368447721004, -0.10124034434556961, -0.025174010545015335, 0.028697706758975983, -0.09642509371042252, 0.004547135438770056, 0.013642474077641964, -0.07578516006469727, 0.0015168000245466828, 0.01264383364468813, 0.03935791179537773, 0.02581173926591873, 0.010000497102737427, 0.0039531574584543705, 0.10661797970533371, 0.07008878141641617, 0.003821378340944648, -0.028669044375419617, -0.04812319576740265, 0.023298727348446846, -0.07286633551120758, 0.10862237960100174, -0.003001969773322344, 0.04572393745183945, 0.028517737984657288, -0.061603106558322906, -0.04397077113389969, -0.043677374720573425, -0.016793953254818916, -0.024261170998215675, -0.008180608972907066, 0.02730540558695793, 0.062305010855197906, -0.026362696662545204, 0.045845724642276764, -0.03654491528868675, -0.011483707465231419, -0.0077908653765916824, -0.011519087478518486, -0.13225167989730835, 0.06266409903764725, 0.08490283787250519, 0.13822099566459656, -0.06200697645545006, 0.011805319227278233, -0.06743832677602768, 0.03455710783600807, -0.027235453948378563, -0.04584905132651329, 0.017875725403428078, 0.01934961788356304, -0.010784823447465897, 0.05677270144224167, -0.0031382297165691853, 0.05946106091141701, -0.0561542771756649, -0.04563065245747566, -0.011725625023245811, -0.07855504751205444, 0.031177101656794548, 0.04450000450015068, -0.05853130295872688, -0.07459670305252075, -0.11164921522140503, -0.08641165494918823, -0.002232331782579422, -0.05567561462521553, -0.029581362381577492, -0.01991325616836548, 0.020892417058348656, 4.4802334741689265e-05, 0.016313325613737106, -0.019239693880081177, 0.0073432717472314835, -0.05691514536738396, -0.060246068984270096, -0.06726785749197006, 0.05699145421385765, 5.757120234370436e-33, -0.11671584844589233, -0.04787515476346016, 0.024304533377289772, -0.00787339173257351, -0.07164967060089111, -0.04347357898950577, -0.0005882341065444052, -0.012201091274619102, -0.010133768431842327, 0.012090051546692848, -0.013182041235268116, 0.013157027773559093, -0.11160212755203247, 0.022419994696974754, 0.07929769903421402, 0.020015934482216835, 0.010653316043317318, 0.018925637006759644, -0.07727374136447906, 0.06650304049253464, -0.01903124712407589, 0.046879906207323074, 0.044183399528265, -0.0122437234967947, 0.017359497025609016, -0.03638288751244545, 0.036862920969724655, -0.05764249339699745, -0.08014413714408875, 0.05139584094285965, 0.06797008961439133, -0.06613984704017639, 0.015986938029527664, -0.01742275431752205, -0.08709699660539627, -0.0484248548746109, -0.03139856085181236, -0.0189431793987751, 0.03598485141992569, -0.01517396979033947, -0.05667748302221298, -0.016627706587314606, 0.002675843657925725, 0.07279298454523087, -0.01660853810608387, 0.15623925626277924, 0.02005377784371376, -0.0036488971672952175, -0.04288450628519058, -0.010872323997318745, -0.005499913357198238, 0.04295511543750763, 0.0062195612117648125, 0.018311316147446632, 0.06155116483569145, 0.049766309559345245, 0.077516570687294, -0.0506732314825058, -0.09273547679185867, 0.04337530583143234, -0.02570643648505211, 0.06924054026603699, -0.016224289312958717, -0.035529930144548416, 0.0351523756980896, 0.027524106204509735, -0.03159341588616371, 0.002132055116817355, 0.06902909278869629, -0.028676940128207207, 0.0075807590037584305, -0.029038436710834503, -0.057637304067611694, 0.08411037921905518, -0.05106528103351593, -0.018209043890237808, -0.032217126339673996, 0.008495664224028587, -0.023271266371011734, 0.10360080003738403, -0.04715117812156677, 0.05071762949228287, -0.019967349246144295, -0.08733555674552917, 0.043072864413261414, 0.04250306636095047, 0.0618852898478508, -0.02901812270283699, 0.05750007554888725, 0.0996255874633789, 0.0031136476900428534, -0.021080011501908302, -0.021313076838850975, 0.009604317136108875, -0.010661480017006397, -1.1082314620422823e-32, 0.02246198058128357, 0.05014035105705261, -0.04363621771335602, 0.04319082573056221, 0.014806085266172886, -0.02212904766201973, -0.03533598408102989, -0.012966085225343704, 0.041268669068813324, 0.07568328082561493, -0.022778164595365524, 0.004464639350771904, -0.002023067558184266, 0.008317656815052032, 0.012391289696097374, 0.023457853123545647, -0.00461855111643672, 0.016717640683054924, -0.03969212621450424, 0.07550636678934097, -0.02475341036915779, 0.000630564521998167, -0.02586478367447853, 0.024834951385855675, -0.06750300526618958, -0.028255252167582512, -0.02914675697684288, 0.005055282264947891, -0.04198852926492691, -0.03363955020904541, 0.04718657582998276, -0.09567122906446457, 0.05342181399464607, 0.07293443381786346, 0.055894844233989716, -0.11131343245506287, -0.032456450164318085, -0.06448214501142502, -0.0070852432399988174, -0.055355001240968704, -0.0018305653939023614, -0.0370338000357151, 0.06931702792644501, -0.06637189537286758, -0.011753451079130173, -0.06057427078485489, -0.042111318558454514, -0.057673461735248566, 0.013263015076518059, -0.07821602374315262, 0.10719425976276398, 0.013944926671683788, -0.001878912909887731, -0.061514418572187424, 0.07397802919149399, 0.0016912210267037153, 0.0072840130887925625, 0.02922244928777218, -0.01549706794321537, -0.026651624590158463, 0.040174342691898346, -0.030120905488729477, -0.01724391244351864, 0.0845847874879837, -0.07275514304637909, 0.024766767397522926, 0.0422406829893589, -0.07882051914930344, -0.020201629027724266, -0.0512232780456543, 0.025022633373737335, 0.01071369182318449, 0.09445088356733322, 0.0012765317223966122, -0.11785253882408142, -0.023612236604094505, -0.006602726876735687, -0.005651424638926983, 0.024886006489396095, -0.007404419127851725, -0.07830580323934555, 0.04434242844581604, -0.0047385008074343204, -0.030357297509908676, -0.09630072116851807, -0.07722237706184387, -0.011737438850104809, -0.012655734084546566, -0.020551901310682297, -0.03310272470116615, -0.0069869691506028175, 0.06579411029815674, -0.06467684358358383, 0.016722816973924637, 0.025865009054541588, -6.747297476294989e-08, 0.014355843886733055, -0.10713930428028107, 0.059573013335466385, 0.014457149431109428, 0.02423725090920925, 0.0008713311399333179, 0.04152454808354378, 0.02022590860724449, -0.02323181740939617, -0.0010369459632784128, 0.06980497390031815, 0.039860744029283524, -0.09104389697313309, 0.07905726879835129, -0.05506015941500664, -0.09717673808336258, 0.029669439420104027, 0.08205387741327286, 0.015298726037144661, -0.029271241277456284, 0.03958219289779663, -0.03370223939418793, -0.054869696497917175, 0.01691870205104351, -0.02419494278728962, 0.017249783501029015, -0.012048198841512203, -0.026754550635814667, 0.005114222876727581, -0.043591804802417755, -0.0038825690280646086, -0.030723711475729942, 0.0005513515789061785, -0.04155443236231804, 0.041734177619218826, -0.022711414843797684, -0.051652681082487106, 0.0019998911302536726, -0.030036840587854385, 0.013122635893523693, -0.036142971366643906, -0.09906817227602005, 0.0576113760471344, 0.03177979215979576, 0.06513632088899612, -0.025864509865641594, 0.02020491659641266, -0.03100588731467724, -0.035835642367601395, 0.03948354348540306, -0.02618597261607647, -0.01708560436964035, 0.0013754820683971047, -0.0208437517285347, 0.020826391875743866, 0.037323854863643646, 0.01778586395084858, 0.031677838414907455, -0.03965369239449501, 0.010524037294089794, 0.016324680298566818, 0.04119270667433739, 0.043899763375520706, 0.011871954426169395]\n"
     ]
    }
   ],
   "source": [
    "from langchain.embeddings import HuggingFaceEmbeddings\n",
    "embeddings = HuggingFaceEmbeddings(model_name = \"sentence-transformers/all-MiniLM-L6-v2\")\n",
    "\n",
    "text = \"진희는 강아지를 키우고 있습니다. 진희가 키우고 있는 동물은?\"\n",
    "text_embedding = embeddings.embed_query(text)\n",
    "print(text_embedding)"
   ]
  },
  {
   "cell_type": "code",
   "execution_count": 11,
   "id": "d217e243",
   "metadata": {},
   "outputs": [
    {
     "name": "stderr",
     "output_type": "stream",
     "text": [
      "e:\\anaconda3\\envs\\llm\\lib\\site-packages\\langchain_community\\llms\\openai.py:248: UserWarning: You are trying to use a chat model. This way of initializing it is no longer supported. Instead, please use: `from langchain_community.chat_models import ChatOpenAI`\n",
      "  warnings.warn(\n",
      "e:\\anaconda3\\envs\\llm\\lib\\site-packages\\langchain_community\\llms\\openai.py:1057: UserWarning: You are trying to use a chat model. This way of initializing it is no longer supported. Instead, please use: `from langchain_community.chat_models import ChatOpenAI`\n",
      "  warnings.warn(\n"
     ]
    },
    {
     "name": "stdout",
     "output_type": "stream",
     "text": [
      "Injun Joe\n"
     ]
    }
   ],
   "source": [
    "from langchain.llms import OpenAI\n",
    "llm = OpenAI(model_name=\"gpt-3.5-turbo\")\n",
    "\n",
    "from langchain.chains import RetrievalQA\n",
    "retriever = db.as_retriever()\n",
    "\n",
    "qa = RetrievalQA.from_chain_type(\n",
    "    llm=llm, \n",
    "    chain_type=\"stuff\", \n",
    "    retriever=retriever)\n",
    "\n",
    "query = \"마을 무덤에 있던 남자를 죽인 사람은 누구니?\"\n",
    "result = qa({\"query\": query})\n",
    "print(result['result'])"
   ]
  },
  {
   "cell_type": "code",
   "execution_count": null,
   "id": "5d4281ef",
   "metadata": {},
   "outputs": [],
   "source": []
  }
 ],
 "metadata": {
  "kernelspec": {
   "display_name": "llm38",
   "language": "python",
   "name": "llm38"
  },
  "language_info": {
   "codemirror_mode": {
    "name": "ipython",
    "version": 3
   },
   "file_extension": ".py",
   "mimetype": "text/x-python",
   "name": "python",
   "nbconvert_exporter": "python",
   "pygments_lexer": "ipython3",
   "version": "3.8.18"
  }
 },
 "nbformat": 4,
 "nbformat_minor": 5
}
