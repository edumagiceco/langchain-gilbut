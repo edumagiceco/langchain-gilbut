{
 "cells": [
  {
   "cell_type": "code",
   "execution_count": 1,
   "id": "c084c02c",
   "metadata": {},
   "outputs": [
    {
     "name": "stdout",
     "output_type": "stream",
     "text": [
      "Requirement already satisfied: langchain==0.0.350 in e:\\anaconda3\\envs\\llm\\lib\\site-packages (0.0.350)\n",
      "Requirement already satisfied: PyYAML>=5.3 in e:\\anaconda3\\envs\\llm\\lib\\site-packages (from langchain==0.0.350) (6.0.1)\n",
      "Requirement already satisfied: SQLAlchemy<3,>=1.4 in e:\\anaconda3\\envs\\llm\\lib\\site-packages (from langchain==0.0.350) (2.0.24)\n",
      "Requirement already satisfied: aiohttp<4.0.0,>=3.8.3 in e:\\anaconda3\\envs\\llm\\lib\\site-packages (from langchain==0.0.350) (3.9.1)\n",
      "Requirement already satisfied: async-timeout<5.0.0,>=4.0.0 in e:\\anaconda3\\envs\\llm\\lib\\site-packages (from langchain==0.0.350) (4.0.3)\n",
      "Requirement already satisfied: dataclasses-json<0.7,>=0.5.7 in e:\\anaconda3\\envs\\llm\\lib\\site-packages (from langchain==0.0.350) (0.6.3)\n",
      "Requirement already satisfied: jsonpatch<2.0,>=1.33 in e:\\anaconda3\\envs\\llm\\lib\\site-packages (from langchain==0.0.350) (1.33)\n",
      "Requirement already satisfied: langchain-community<0.1,>=0.0.2 in e:\\anaconda3\\envs\\llm\\lib\\site-packages (from langchain==0.0.350) (0.0.6)\n",
      "Requirement already satisfied: langchain-core<0.2,>=0.1 in e:\\anaconda3\\envs\\llm\\lib\\site-packages (from langchain==0.0.350) (0.1.3)\n",
      "Requirement already satisfied: langsmith<0.1.0,>=0.0.63 in e:\\anaconda3\\envs\\llm\\lib\\site-packages (from langchain==0.0.350) (0.0.75)\n",
      "Requirement already satisfied: numpy<2,>=1 in e:\\anaconda3\\envs\\llm\\lib\\site-packages (from langchain==0.0.350) (1.24.4)\n",
      "Requirement already satisfied: pydantic<3,>=1 in e:\\anaconda3\\envs\\llm\\lib\\site-packages (from langchain==0.0.350) (2.5.3)\n",
      "Requirement already satisfied: requests<3,>=2 in e:\\anaconda3\\envs\\llm\\lib\\site-packages (from langchain==0.0.350) (2.31.0)\n",
      "Requirement already satisfied: tenacity<9.0.0,>=8.1.0 in e:\\anaconda3\\envs\\llm\\lib\\site-packages (from langchain==0.0.350) (8.2.3)\n",
      "Requirement already satisfied: attrs>=17.3.0 in e:\\anaconda3\\envs\\llm\\lib\\site-packages (from aiohttp<4.0.0,>=3.8.3->langchain==0.0.350) (23.1.0)\n",
      "Requirement already satisfied: multidict<7.0,>=4.5 in e:\\anaconda3\\envs\\llm\\lib\\site-packages (from aiohttp<4.0.0,>=3.8.3->langchain==0.0.350) (6.0.4)\n",
      "Requirement already satisfied: yarl<2.0,>=1.0 in e:\\anaconda3\\envs\\llm\\lib\\site-packages (from aiohttp<4.0.0,>=3.8.3->langchain==0.0.350) (1.9.4)\n",
      "Requirement already satisfied: frozenlist>=1.1.1 in e:\\anaconda3\\envs\\llm\\lib\\site-packages (from aiohttp<4.0.0,>=3.8.3->langchain==0.0.350) (1.4.1)\n",
      "Requirement already satisfied: aiosignal>=1.1.2 in e:\\anaconda3\\envs\\llm\\lib\\site-packages (from aiohttp<4.0.0,>=3.8.3->langchain==0.0.350) (1.3.1)\n",
      "Requirement already satisfied: marshmallow<4.0.0,>=3.18.0 in e:\\anaconda3\\envs\\llm\\lib\\site-packages (from dataclasses-json<0.7,>=0.5.7->langchain==0.0.350) (3.20.1)\n",
      "Requirement already satisfied: typing-inspect<1,>=0.4.0 in e:\\anaconda3\\envs\\llm\\lib\\site-packages (from dataclasses-json<0.7,>=0.5.7->langchain==0.0.350) (0.9.0)\n",
      "Requirement already satisfied: jsonpointer>=1.9 in e:\\anaconda3\\envs\\llm\\lib\\site-packages (from jsonpatch<2.0,>=1.33->langchain==0.0.350) (2.4)\n",
      "Requirement already satisfied: anyio<5,>=3 in e:\\anaconda3\\envs\\llm\\lib\\site-packages (from langchain-core<0.2,>=0.1->langchain==0.0.350) (4.2.0)\n",
      "Requirement already satisfied: packaging<24.0,>=23.2 in e:\\anaconda3\\envs\\llm\\lib\\site-packages (from langchain-core<0.2,>=0.1->langchain==0.0.350) (23.2)\n",
      "Requirement already satisfied: annotated-types>=0.4.0 in e:\\anaconda3\\envs\\llm\\lib\\site-packages (from pydantic<3,>=1->langchain==0.0.350) (0.6.0)\n",
      "Requirement already satisfied: pydantic-core==2.14.6 in e:\\anaconda3\\envs\\llm\\lib\\site-packages (from pydantic<3,>=1->langchain==0.0.350) (2.14.6)\n",
      "Requirement already satisfied: typing-extensions>=4.6.1 in e:\\anaconda3\\envs\\llm\\lib\\site-packages (from pydantic<3,>=1->langchain==0.0.350) (4.9.0)\n",
      "Requirement already satisfied: charset-normalizer<4,>=2 in e:\\anaconda3\\envs\\llm\\lib\\site-packages (from requests<3,>=2->langchain==0.0.350) (3.3.2)\n",
      "Requirement already satisfied: idna<4,>=2.5 in e:\\anaconda3\\envs\\llm\\lib\\site-packages (from requests<3,>=2->langchain==0.0.350) (3.6)\n",
      "Requirement already satisfied: urllib3<3,>=1.21.1 in e:\\anaconda3\\envs\\llm\\lib\\site-packages (from requests<3,>=2->langchain==0.0.350) (1.26.18)\n",
      "Requirement already satisfied: certifi>=2017.4.17 in e:\\anaconda3\\envs\\llm\\lib\\site-packages (from requests<3,>=2->langchain==0.0.350) (2023.11.17)\n",
      "Requirement already satisfied: greenlet!=0.4.17 in e:\\anaconda3\\envs\\llm\\lib\\site-packages (from SQLAlchemy<3,>=1.4->langchain==0.0.350) (3.0.3)\n",
      "Requirement already satisfied: sniffio>=1.1 in e:\\anaconda3\\envs\\llm\\lib\\site-packages (from anyio<5,>=3->langchain-core<0.2,>=0.1->langchain==0.0.350) (1.3.0)\n",
      "Requirement already satisfied: exceptiongroup>=1.0.2 in e:\\anaconda3\\envs\\llm\\lib\\site-packages (from anyio<5,>=3->langchain-core<0.2,>=0.1->langchain==0.0.350) (1.2.0)\n",
      "Requirement already satisfied: mypy-extensions>=0.3.0 in e:\\anaconda3\\envs\\llm\\lib\\site-packages (from typing-inspect<1,>=0.4.0->dataclasses-json<0.7,>=0.5.7->langchain==0.0.350) (1.0.0)\n"
     ]
    },
    {
     "name": "stderr",
     "output_type": "stream",
     "text": [
      "WARNING: Ignoring invalid distribution -pype1 (c:\\users\\jyseo\\appdata\\roaming\\python\\python38\\site-packages)\n",
      "WARNING: Ignoring invalid distribution -pype1 (c:\\users\\jyseo\\appdata\\roaming\\python\\python38\\site-packages)\n",
      "WARNING: Ignoring invalid distribution -pype1 (c:\\users\\jyseo\\appdata\\roaming\\python\\python38\\site-packages)\n",
      "WARNING: Ignoring invalid distribution -pype1 (c:\\users\\jyseo\\appdata\\roaming\\python\\python38\\site-packages)\n",
      "WARNING: Ignoring invalid distribution -pype1 (c:\\users\\jyseo\\appdata\\roaming\\python\\python38\\site-packages)\n",
      "WARNING: Ignoring invalid distribution -pype1 (c:\\users\\jyseo\\appdata\\roaming\\python\\python38\\site-packages)\n"
     ]
    }
   ],
   "source": [
    "!pip install langchain==0.0.350"
   ]
  },
  {
   "cell_type": "code",
   "execution_count": 2,
   "id": "16d24748",
   "metadata": {},
   "outputs": [
    {
     "name": "stdout",
     "output_type": "stream",
     "text": [
      "Requirement already satisfied: openai==1.4.0 in e:\\anaconda3\\envs\\llm\\lib\\site-packages (1.4.0)\n",
      "Requirement already satisfied: anyio<5,>=3.5.0 in e:\\anaconda3\\envs\\llm\\lib\\site-packages (from openai==1.4.0) (4.2.0)\n",
      "Requirement already satisfied: distro<2,>=1.7.0 in e:\\anaconda3\\envs\\llm\\lib\\site-packages (from openai==1.4.0) (1.9.0)\n",
      "Requirement already satisfied: httpx<1,>=0.23.0 in e:\\anaconda3\\envs\\llm\\lib\\site-packages (from openai==1.4.0) (0.26.0)\n",
      "Requirement already satisfied: pydantic<3,>=1.9.0 in e:\\anaconda3\\envs\\llm\\lib\\site-packages (from openai==1.4.0) (2.5.3)\n",
      "Requirement already satisfied: sniffio in e:\\anaconda3\\envs\\llm\\lib\\site-packages (from openai==1.4.0) (1.3.0)\n",
      "Requirement already satisfied: tqdm>4 in e:\\anaconda3\\envs\\llm\\lib\\site-packages (from openai==1.4.0) (4.66.1)\n",
      "Requirement already satisfied: typing-extensions<5,>=4.5 in e:\\anaconda3\\envs\\llm\\lib\\site-packages (from openai==1.4.0) (4.9.0)\n",
      "Requirement already satisfied: idna>=2.8 in e:\\anaconda3\\envs\\llm\\lib\\site-packages (from anyio<5,>=3.5.0->openai==1.4.0) (3.6)\n",
      "Requirement already satisfied: exceptiongroup>=1.0.2 in e:\\anaconda3\\envs\\llm\\lib\\site-packages (from anyio<5,>=3.5.0->openai==1.4.0) (1.2.0)\n",
      "Requirement already satisfied: certifi in e:\\anaconda3\\envs\\llm\\lib\\site-packages (from httpx<1,>=0.23.0->openai==1.4.0) (2023.11.17)\n",
      "Requirement already satisfied: httpcore==1.* in e:\\anaconda3\\envs\\llm\\lib\\site-packages (from httpx<1,>=0.23.0->openai==1.4.0) (1.0.2)\n",
      "Requirement already satisfied: h11<0.15,>=0.13 in e:\\anaconda3\\envs\\llm\\lib\\site-packages (from httpcore==1.*->httpx<1,>=0.23.0->openai==1.4.0) (0.14.0)\n",
      "Requirement already satisfied: annotated-types>=0.4.0 in e:\\anaconda3\\envs\\llm\\lib\\site-packages (from pydantic<3,>=1.9.0->openai==1.4.0) (0.6.0)\n",
      "Requirement already satisfied: pydantic-core==2.14.6 in e:\\anaconda3\\envs\\llm\\lib\\site-packages (from pydantic<3,>=1.9.0->openai==1.4.0) (2.14.6)\n",
      "Requirement already satisfied: colorama in e:\\anaconda3\\envs\\llm\\lib\\site-packages (from tqdm>4->openai==1.4.0) (0.4.6)\n"
     ]
    },
    {
     "name": "stderr",
     "output_type": "stream",
     "text": [
      "WARNING: Ignoring invalid distribution -pype1 (c:\\users\\jyseo\\appdata\\roaming\\python\\python38\\site-packages)\n",
      "WARNING: Ignoring invalid distribution -pype1 (c:\\users\\jyseo\\appdata\\roaming\\python\\python38\\site-packages)\n",
      "WARNING: Ignoring invalid distribution -pype1 (c:\\users\\jyseo\\appdata\\roaming\\python\\python38\\site-packages)\n",
      "WARNING: Ignoring invalid distribution -pype1 (c:\\users\\jyseo\\appdata\\roaming\\python\\python38\\site-packages)\n",
      "WARNING: Ignoring invalid distribution -pype1 (c:\\users\\jyseo\\appdata\\roaming\\python\\python38\\site-packages)\n",
      "WARNING: Ignoring invalid distribution -pype1 (c:\\users\\jyseo\\appdata\\roaming\\python\\python38\\site-packages)\n"
     ]
    }
   ],
   "source": [
    "!pip install openai==1.4.0"
   ]
  },
  {
   "cell_type": "code",
   "execution_count": 3,
   "id": "a736f2f1",
   "metadata": {},
   "outputs": [
    {
     "name": "stdout",
     "output_type": "stream",
     "text": [
      "Requirement already satisfied: wikipedia==1.4.0 in e:\\anaconda3\\envs\\llm\\lib\\site-packages (1.4.0)\n",
      "Requirement already satisfied: beautifulsoup4 in e:\\anaconda3\\envs\\llm\\lib\\site-packages (from wikipedia==1.4.0) (4.12.2)\n",
      "Requirement already satisfied: requests<3.0.0,>=2.0.0 in e:\\anaconda3\\envs\\llm\\lib\\site-packages (from wikipedia==1.4.0) (2.31.0)\n",
      "Requirement already satisfied: charset-normalizer<4,>=2 in e:\\anaconda3\\envs\\llm\\lib\\site-packages (from requests<3.0.0,>=2.0.0->wikipedia==1.4.0) (3.3.2)\n",
      "Requirement already satisfied: idna<4,>=2.5 in e:\\anaconda3\\envs\\llm\\lib\\site-packages (from requests<3.0.0,>=2.0.0->wikipedia==1.4.0) (3.6)\n",
      "Requirement already satisfied: urllib3<3,>=1.21.1 in e:\\anaconda3\\envs\\llm\\lib\\site-packages (from requests<3.0.0,>=2.0.0->wikipedia==1.4.0) (1.26.18)\n",
      "Requirement already satisfied: certifi>=2017.4.17 in e:\\anaconda3\\envs\\llm\\lib\\site-packages (from requests<3.0.0,>=2.0.0->wikipedia==1.4.0) (2023.11.17)\n",
      "Requirement already satisfied: soupsieve>1.2 in e:\\anaconda3\\envs\\llm\\lib\\site-packages (from beautifulsoup4->wikipedia==1.4.0) (2.5)\n"
     ]
    },
    {
     "name": "stderr",
     "output_type": "stream",
     "text": [
      "WARNING: Ignoring invalid distribution -pype1 (c:\\users\\jyseo\\appdata\\roaming\\python\\python38\\site-packages)\n",
      "WARNING: Ignoring invalid distribution -pype1 (c:\\users\\jyseo\\appdata\\roaming\\python\\python38\\site-packages)\n",
      "WARNING: Ignoring invalid distribution -pype1 (c:\\users\\jyseo\\appdata\\roaming\\python\\python38\\site-packages)\n",
      "WARNING: Ignoring invalid distribution -pype1 (c:\\users\\jyseo\\appdata\\roaming\\python\\python38\\site-packages)\n",
      "WARNING: Ignoring invalid distribution -pype1 (c:\\users\\jyseo\\appdata\\roaming\\python\\python38\\site-packages)\n",
      "WARNING: Ignoring invalid distribution -pype1 (c:\\users\\jyseo\\appdata\\roaming\\python\\python38\\site-packages)\n"
     ]
    }
   ],
   "source": [
    "!pip install wikipedia==1.4.0"
   ]
  },
  {
   "cell_type": "code",
   "execution_count": 4,
   "id": "b72bd503",
   "metadata": {},
   "outputs": [
    {
     "name": "stdout",
     "output_type": "stream",
     "text": [
      "Requirement already satisfied: numexpr==2.8.6 in e:\\anaconda3\\envs\\llm\\lib\\site-packages (2.8.6)\n",
      "Requirement already satisfied: numpy>=1.13.3 in e:\\anaconda3\\envs\\llm\\lib\\site-packages (from numexpr==2.8.6) (1.24.4)\n"
     ]
    },
    {
     "name": "stderr",
     "output_type": "stream",
     "text": [
      "WARNING: Ignoring invalid distribution -pype1 (c:\\users\\jyseo\\appdata\\roaming\\python\\python38\\site-packages)\n",
      "WARNING: Ignoring invalid distribution -pype1 (c:\\users\\jyseo\\appdata\\roaming\\python\\python38\\site-packages)\n",
      "WARNING: Ignoring invalid distribution -pype1 (c:\\users\\jyseo\\appdata\\roaming\\python\\python38\\site-packages)\n",
      "WARNING: Ignoring invalid distribution -pype1 (c:\\users\\jyseo\\appdata\\roaming\\python\\python38\\site-packages)\n",
      "WARNING: Ignoring invalid distribution -pype1 (c:\\users\\jyseo\\appdata\\roaming\\python\\python38\\site-packages)\n",
      "WARNING: Ignoring invalid distribution -pype1 (c:\\users\\jyseo\\appdata\\roaming\\python\\python38\\site-packages)\n"
     ]
    }
   ],
   "source": [
    "!pip install numexpr==2.8.6"
   ]
  },
  {
   "cell_type": "code",
   "execution_count": 5,
   "id": "602964b4",
   "metadata": {},
   "outputs": [
    {
     "name": "stdout",
     "output_type": "stream",
     "text": [
      "\n",
      "\n",
      "\u001b[1m> Entering new AgentExecutor chain...\u001b[0m\n",
      "\u001b[32;1m\u001b[1;3m We should use Wikipedia to find out the year Ed Sheeran was born.\n",
      "Action: Wikipedia\n",
      "Action Input: Ed Sheeran\u001b[0m\n",
      "Observation: \u001b[36;1m\u001b[1;3mPage: Ed Sheeran\n",
      "Summary: Edward Christopher Sheeran  ( SHEER-ən; born 17 February 1991) is an English singer-songwriter. Born in Halifax, West Yorkshire, and raised in Framlingham, Suffolk, he began writing songs around the age of eleven. In early 2011, Sheeran independently released the extended play No. 5 Collaborations Project. He signed with Asylum Records the same year.\n",
      "Sheeran's debut album, + (\"Plus\"), was released in September 2011 and topped the UK Albums Chart. It contained his first hit single \"The A Team\". In 2012, Sheeran won the Brit Awards for Best British Male Solo Artist and British Breakthrough Act. Sheeran's second studio album, × (\"Multiply\"), topped charts around the world upon its release in June 2014. It was named the second-best-selling album worldwide of 2015. In the same year, × won Album of the Year at the 2015 Brit Awards, and he received the Ivor Novello Award for Songwriter of the Year from the British Academy of Songwriters, Composers and Authors. A single from ×, \"Thinking Out Loud\", earned him the 2016 Grammy Awards for Song of the Year and Best Pop Solo Performance.\n",
      "Sheeran's third album, ÷ (\"Divide\"), was released in March 2017, and was the best-selling album worldwide of 2017. The first two singles from the album, \"Shape of You\" and \"Castle on the Hill\", broke records in a number of countries by debuting in the top two positions of the charts. He also became the first artist to have two songs debut in the US top 10 in the same week. By March 2017, Sheeran had accumulated ten top-10 singles from ÷ on the UK Singles Chart, breaking the record for most top-10 UK singles from one album. His fourth single from ÷, \"Perfect\", reached number one in the US, Australia, and the UK, where it became the Christmas number one in 2017. The world's best-selling artist of 2017, he was named the Global Recording Artist of the Year. Released in 2019, his fourth overall and first collaborative album, No.6 Collaborations Project, debuted at number one in most major markets, and spawned three UK number one singles, \"I Don't Care\", \"Beautiful People\", and \"Take Me Back to London\". His fifth studio album, = (\"Equals\"), topped the charts in most major markets in 2021. His sixth album, - (\"Subtract\"), was released on 5 May 2023, while his seventh album, Autumn Variations, was released on 29 September 2023 under his own record label, Gingerbread Man Records.\n",
      "Sheeran has sold more than 150 million records worldwide, making him one of the world's best-selling music artists. He has 101 million RIAA-certified units in the US, and two of his albums are in the list of the best-selling albums in UK chart history. In December 2019, the Official Charts Company named him artist of the decade, with the most combined success in the UK album and singles charts in the 2010s. As of April 2022, he is the most followed artist on Spotify. Beginning in March 2017, his ÷ Tour became the highest-grossing of all time in August 2019. An alumnus of the National Youth Theatre in London, Sheeran's acting roles include appearing in the 2019 film Yesterday, playing himself.\n",
      "\n",
      "Page: Ed Sheeran discography\n",
      "Summary: The discography of English singer-songwriter Ed Sheeran consists of seven studio albums, seventeen extended plays, one video album, sixty-five singles (including twenty-eight as a featured artist), eight promotional singles, one box set, and seventy-one music videos. As of October 2021, Sheeran has sold over 150 million records worldwide, making him one of the best-selling music artists in history. According to RIAA, Sheeran is the 13th best-selling digital singles artist in the United States with certified sales of 80.5 million.Originally an indie artist selling music independently on his own label starting in 2005, Sheeran released nine EPs, steadily gaining public and critical acclaim, resulting in his signing to Atlantic Records in January 2011. Five months later, Sheeran released his first single, \"The A Team\", on 12 June 2011. It d\u001b[0m\n",
      "Thought:\u001b[32;1m\u001b[1;3m Now we need to find out how old Ed Sheeran is in 2023.\n",
      "Action: Calculator\n",
      "Action Input: 2023 - 1991\u001b[0m\n",
      "Observation: \u001b[33;1m\u001b[1;3mAnswer: 32\u001b[0m\n",
      "Thought:\u001b[32;1m\u001b[1;3m I now know the final answer\n",
      "Final Answer: In the year 2023, Ed Sheeran will be 32 years old. \u001b[0m\n",
      "\n",
      "\u001b[1m> Finished chain.\u001b[0m\n"
     ]
    },
    {
     "data": {
      "text/plain": [
       "'In the year 2023, Ed Sheeran will be 32 years old.'"
      ]
     },
     "execution_count": 5,
     "metadata": {},
     "output_type": "execute_result"
    }
   ],
   "source": [
    "import os\n",
    "os.environ[\"OPENAI_API_KEY\"] = \"sk-\" #openai 키 입력\n",
    "\n",
    "from langchain.llms import OpenAI\n",
    "llm = OpenAI()\n",
    "\n",
    "from langchain.agents import load_tools\n",
    "from langchain.agents import initialize_agent\n",
    "from langchain.agents import AgentType\n",
    " \n",
    "tools = load_tools([\"wikipedia\", \"llm-math\"], llm=llm) #llm-math의 경우 나이 계산을 위해 사용\n",
    "agent = initialize_agent(tools, \n",
    "                         llm, \n",
    "                         agent=AgentType.ZERO_SHOT_REACT_DESCRIPTION, \n",
    "                         description='계산이 필요할 때 사용',\n",
    "                         verbose=True) \n",
    "\n",
    "agent.run(\"에드 시런이 태어난 해는? 2023년도 현재 에드 시런은 몇 살?\")"
   ]
  },
  {
   "cell_type": "code",
   "execution_count": null,
   "id": "d5428aa6",
   "metadata": {},
   "outputs": [],
   "source": []
  }
 ],
 "metadata": {
  "kernelspec": {
   "display_name": "llm38",
   "language": "python",
   "name": "llm38"
  },
  "language_info": {
   "codemirror_mode": {
    "name": "ipython",
    "version": 3
   },
   "file_extension": ".py",
   "mimetype": "text/x-python",
   "name": "python",
   "nbconvert_exporter": "python",
   "pygments_lexer": "ipython3",
   "version": "3.8.18"
  }
 },
 "nbformat": 4,
 "nbformat_minor": 5
}
