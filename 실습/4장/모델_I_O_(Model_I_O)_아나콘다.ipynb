{
 "cells": [
  {
   "cell_type": "code",
   "execution_count": 1,
   "id": "ab52b8bb",
   "metadata": {},
   "outputs": [
    {
     "name": "stdout",
     "output_type": "stream",
     "text": [
      "Requirement already satisfied: langchain==0.0.350 in e:\\anaconda3\\envs\\llm\\lib\\site-packages (0.0.350)\n",
      "Requirement already satisfied: PyYAML>=5.3 in e:\\anaconda3\\envs\\llm\\lib\\site-packages (from langchain==0.0.350) (6.0.1)\n",
      "Requirement already satisfied: SQLAlchemy<3,>=1.4 in e:\\anaconda3\\envs\\llm\\lib\\site-packages (from langchain==0.0.350) (2.0.24)\n",
      "Requirement already satisfied: aiohttp<4.0.0,>=3.8.3 in e:\\anaconda3\\envs\\llm\\lib\\site-packages (from langchain==0.0.350) (3.9.1)\n",
      "Requirement already satisfied: async-timeout<5.0.0,>=4.0.0 in e:\\anaconda3\\envs\\llm\\lib\\site-packages (from langchain==0.0.350) (4.0.3)\n",
      "Requirement already satisfied: dataclasses-json<0.7,>=0.5.7 in e:\\anaconda3\\envs\\llm\\lib\\site-packages (from langchain==0.0.350) (0.6.3)\n",
      "Requirement already satisfied: jsonpatch<2.0,>=1.33 in e:\\anaconda3\\envs\\llm\\lib\\site-packages (from langchain==0.0.350) (1.33)\n",
      "Requirement already satisfied: langchain-community<0.1,>=0.0.2 in e:\\anaconda3\\envs\\llm\\lib\\site-packages (from langchain==0.0.350) (0.0.6)\n",
      "Requirement already satisfied: langchain-core<0.2,>=0.1 in e:\\anaconda3\\envs\\llm\\lib\\site-packages (from langchain==0.0.350) (0.1.3)\n",
      "Requirement already satisfied: langsmith<0.1.0,>=0.0.63 in e:\\anaconda3\\envs\\llm\\lib\\site-packages (from langchain==0.0.350) (0.0.75)\n",
      "Requirement already satisfied: numpy<2,>=1 in e:\\anaconda3\\envs\\llm\\lib\\site-packages (from langchain==0.0.350) (1.24.4)\n",
      "Requirement already satisfied: pydantic<3,>=1 in e:\\anaconda3\\envs\\llm\\lib\\site-packages (from langchain==0.0.350) (2.5.3)\n",
      "Requirement already satisfied: requests<3,>=2 in e:\\anaconda3\\envs\\llm\\lib\\site-packages (from langchain==0.0.350) (2.31.0)\n",
      "Requirement already satisfied: tenacity<9.0.0,>=8.1.0 in e:\\anaconda3\\envs\\llm\\lib\\site-packages (from langchain==0.0.350) (8.2.3)\n",
      "Requirement already satisfied: attrs>=17.3.0 in e:\\anaconda3\\envs\\llm\\lib\\site-packages (from aiohttp<4.0.0,>=3.8.3->langchain==0.0.350) (23.1.0)\n",
      "Requirement already satisfied: multidict<7.0,>=4.5 in e:\\anaconda3\\envs\\llm\\lib\\site-packages (from aiohttp<4.0.0,>=3.8.3->langchain==0.0.350) (6.0.4)\n",
      "Requirement already satisfied: yarl<2.0,>=1.0 in e:\\anaconda3\\envs\\llm\\lib\\site-packages (from aiohttp<4.0.0,>=3.8.3->langchain==0.0.350) (1.9.4)\n",
      "Requirement already satisfied: frozenlist>=1.1.1 in e:\\anaconda3\\envs\\llm\\lib\\site-packages (from aiohttp<4.0.0,>=3.8.3->langchain==0.0.350) (1.4.1)\n",
      "Requirement already satisfied: aiosignal>=1.1.2 in e:\\anaconda3\\envs\\llm\\lib\\site-packages (from aiohttp<4.0.0,>=3.8.3->langchain==0.0.350) (1.3.1)\n",
      "Requirement already satisfied: marshmallow<4.0.0,>=3.18.0 in e:\\anaconda3\\envs\\llm\\lib\\site-packages (from dataclasses-json<0.7,>=0.5.7->langchain==0.0.350) (3.20.1)\n",
      "Requirement already satisfied: typing-inspect<1,>=0.4.0 in e:\\anaconda3\\envs\\llm\\lib\\site-packages (from dataclasses-json<0.7,>=0.5.7->langchain==0.0.350) (0.9.0)\n",
      "Requirement already satisfied: jsonpointer>=1.9 in e:\\anaconda3\\envs\\llm\\lib\\site-packages (from jsonpatch<2.0,>=1.33->langchain==0.0.350) (2.4)\n",
      "Requirement already satisfied: anyio<5,>=3 in e:\\anaconda3\\envs\\llm\\lib\\site-packages (from langchain-core<0.2,>=0.1->langchain==0.0.350) (4.2.0)\n",
      "Requirement already satisfied: packaging<24.0,>=23.2 in e:\\anaconda3\\envs\\llm\\lib\\site-packages (from langchain-core<0.2,>=0.1->langchain==0.0.350) (23.2)\n",
      "Requirement already satisfied: annotated-types>=0.4.0 in e:\\anaconda3\\envs\\llm\\lib\\site-packages (from pydantic<3,>=1->langchain==0.0.350) (0.6.0)\n",
      "Requirement already satisfied: pydantic-core==2.14.6 in e:\\anaconda3\\envs\\llm\\lib\\site-packages (from pydantic<3,>=1->langchain==0.0.350) (2.14.6)\n",
      "Requirement already satisfied: typing-extensions>=4.6.1 in e:\\anaconda3\\envs\\llm\\lib\\site-packages (from pydantic<3,>=1->langchain==0.0.350) (4.9.0)\n",
      "Requirement already satisfied: charset-normalizer<4,>=2 in e:\\anaconda3\\envs\\llm\\lib\\site-packages (from requests<3,>=2->langchain==0.0.350) (3.3.2)\n",
      "Requirement already satisfied: idna<4,>=2.5 in e:\\anaconda3\\envs\\llm\\lib\\site-packages (from requests<3,>=2->langchain==0.0.350) (3.6)\n",
      "Requirement already satisfied: urllib3<3,>=1.21.1 in e:\\anaconda3\\envs\\llm\\lib\\site-packages (from requests<3,>=2->langchain==0.0.350) (1.26.18)\n",
      "Requirement already satisfied: certifi>=2017.4.17 in e:\\anaconda3\\envs\\llm\\lib\\site-packages (from requests<3,>=2->langchain==0.0.350) (2023.11.17)\n",
      "Requirement already satisfied: greenlet!=0.4.17 in e:\\anaconda3\\envs\\llm\\lib\\site-packages (from SQLAlchemy<3,>=1.4->langchain==0.0.350) (3.0.3)\n",
      "Requirement already satisfied: sniffio>=1.1 in e:\\anaconda3\\envs\\llm\\lib\\site-packages (from anyio<5,>=3->langchain-core<0.2,>=0.1->langchain==0.0.350) (1.3.0)\n",
      "Requirement already satisfied: exceptiongroup>=1.0.2 in e:\\anaconda3\\envs\\llm\\lib\\site-packages (from anyio<5,>=3->langchain-core<0.2,>=0.1->langchain==0.0.350) (1.2.0)\n",
      "Requirement already satisfied: mypy-extensions>=0.3.0 in e:\\anaconda3\\envs\\llm\\lib\\site-packages (from typing-inspect<1,>=0.4.0->dataclasses-json<0.7,>=0.5.7->langchain==0.0.350) (1.0.0)\n"
     ]
    },
    {
     "name": "stderr",
     "output_type": "stream",
     "text": [
      "WARNING: Ignoring invalid distribution -pype1 (c:\\users\\jyseo\\appdata\\roaming\\python\\python38\\site-packages)\n",
      "WARNING: Ignoring invalid distribution -pype1 (c:\\users\\jyseo\\appdata\\roaming\\python\\python38\\site-packages)\n",
      "WARNING: Ignoring invalid distribution -pype1 (c:\\users\\jyseo\\appdata\\roaming\\python\\python38\\site-packages)\n",
      "WARNING: Ignoring invalid distribution -pype1 (c:\\users\\jyseo\\appdata\\roaming\\python\\python38\\site-packages)\n",
      "WARNING: Ignoring invalid distribution -pype1 (c:\\users\\jyseo\\appdata\\roaming\\python\\python38\\site-packages)\n",
      "WARNING: Ignoring invalid distribution -pype1 (c:\\users\\jyseo\\appdata\\roaming\\python\\python38\\site-packages)\n"
     ]
    }
   ],
   "source": [
    "!pip install langchain==0.0.350"
   ]
  },
  {
   "cell_type": "code",
   "execution_count": 2,
   "id": "cd337020",
   "metadata": {},
   "outputs": [
    {
     "name": "stdout",
     "output_type": "stream",
     "text": [
      "Collecting openai==0.28.1\n",
      "  Using cached openai-0.28.1-py3-none-any.whl.metadata (11 kB)\n",
      "Requirement already satisfied: requests>=2.20 in e:\\anaconda3\\envs\\llm\\lib\\site-packages (from openai==0.28.1) (2.31.0)\n",
      "Requirement already satisfied: tqdm in e:\\anaconda3\\envs\\llm\\lib\\site-packages (from openai==0.28.1) (4.66.1)\n",
      "Requirement already satisfied: aiohttp in e:\\anaconda3\\envs\\llm\\lib\\site-packages (from openai==0.28.1) (3.9.1)\n",
      "Requirement already satisfied: charset-normalizer<4,>=2 in e:\\anaconda3\\envs\\llm\\lib\\site-packages (from requests>=2.20->openai==0.28.1) (3.3.2)\n",
      "Requirement already satisfied: idna<4,>=2.5 in e:\\anaconda3\\envs\\llm\\lib\\site-packages (from requests>=2.20->openai==0.28.1) (3.6)\n",
      "Requirement already satisfied: urllib3<3,>=1.21.1 in e:\\anaconda3\\envs\\llm\\lib\\site-packages (from requests>=2.20->openai==0.28.1) (1.26.18)\n",
      "Requirement already satisfied: certifi>=2017.4.17 in e:\\anaconda3\\envs\\llm\\lib\\site-packages (from requests>=2.20->openai==0.28.1) (2023.11.17)\n",
      "Requirement already satisfied: attrs>=17.3.0 in e:\\anaconda3\\envs\\llm\\lib\\site-packages (from aiohttp->openai==0.28.1) (23.1.0)\n",
      "Requirement already satisfied: multidict<7.0,>=4.5 in e:\\anaconda3\\envs\\llm\\lib\\site-packages (from aiohttp->openai==0.28.1) (6.0.4)\n",
      "Requirement already satisfied: yarl<2.0,>=1.0 in e:\\anaconda3\\envs\\llm\\lib\\site-packages (from aiohttp->openai==0.28.1) (1.9.4)\n",
      "Requirement already satisfied: frozenlist>=1.1.1 in e:\\anaconda3\\envs\\llm\\lib\\site-packages (from aiohttp->openai==0.28.1) (1.4.1)\n",
      "Requirement already satisfied: aiosignal>=1.1.2 in e:\\anaconda3\\envs\\llm\\lib\\site-packages (from aiohttp->openai==0.28.1) (1.3.1)\n",
      "Requirement already satisfied: async-timeout<5.0,>=4.0 in e:\\anaconda3\\envs\\llm\\lib\\site-packages (from aiohttp->openai==0.28.1) (4.0.3)\n",
      "Requirement already satisfied: colorama in e:\\anaconda3\\envs\\llm\\lib\\site-packages (from tqdm->openai==0.28.1) (0.4.6)\n",
      "Using cached openai-0.28.1-py3-none-any.whl (76 kB)\n",
      "Installing collected packages: openai\n",
      "  Attempting uninstall: openai\n",
      "    Found existing installation: openai 1.4.0\n",
      "    Uninstalling openai-1.4.0:\n",
      "      Successfully uninstalled openai-1.4.0\n",
      "Successfully installed openai-0.28.1\n"
     ]
    },
    {
     "name": "stderr",
     "output_type": "stream",
     "text": [
      "WARNING: Ignoring invalid distribution -pype1 (c:\\users\\jyseo\\appdata\\roaming\\python\\python38\\site-packages)\n",
      "WARNING: Ignoring invalid distribution -pype1 (c:\\users\\jyseo\\appdata\\roaming\\python\\python38\\site-packages)\n",
      "WARNING: Ignoring invalid distribution -pype1 (c:\\users\\jyseo\\appdata\\roaming\\python\\python38\\site-packages)\n",
      "    WARNING: Ignoring invalid distribution -pype1 (c:\\users\\jyseo\\appdata\\roaming\\python\\python38\\site-packages)\n",
      "WARNING: Ignoring invalid distribution -pype1 (c:\\users\\jyseo\\appdata\\roaming\\python\\python38\\site-packages)\n",
      "WARNING: Ignoring invalid distribution -pype1 (c:\\users\\jyseo\\appdata\\roaming\\python\\python38\\site-packages)\n",
      "WARNING: Ignoring invalid distribution -pype1 (c:\\users\\jyseo\\appdata\\roaming\\python\\python38\\site-packages)\n"
     ]
    }
   ],
   "source": [
    "!pip install openai==0.28.1"
   ]
  },
  {
   "cell_type": "code",
   "execution_count": 3,
   "id": "e28b9d69",
   "metadata": {},
   "outputs": [
    {
     "name": "stdout",
     "output_type": "stream",
     "text": [
      "Requirement already satisfied: huggingface-hub==0.19.4 in e:\\anaconda3\\envs\\llm\\lib\\site-packages (0.19.4)\n",
      "Requirement already satisfied: filelock in e:\\anaconda3\\envs\\llm\\lib\\site-packages (from huggingface-hub==0.19.4) (3.13.1)\n",
      "Requirement already satisfied: fsspec>=2023.5.0 in e:\\anaconda3\\envs\\llm\\lib\\site-packages (from huggingface-hub==0.19.4) (2023.12.2)\n",
      "Requirement already satisfied: requests in e:\\anaconda3\\envs\\llm\\lib\\site-packages (from huggingface-hub==0.19.4) (2.31.0)\n",
      "Requirement already satisfied: tqdm>=4.42.1 in e:\\anaconda3\\envs\\llm\\lib\\site-packages (from huggingface-hub==0.19.4) (4.66.1)\n",
      "Requirement already satisfied: pyyaml>=5.1 in e:\\anaconda3\\envs\\llm\\lib\\site-packages (from huggingface-hub==0.19.4) (6.0.1)\n",
      "Requirement already satisfied: typing-extensions>=3.7.4.3 in e:\\anaconda3\\envs\\llm\\lib\\site-packages (from huggingface-hub==0.19.4) (4.9.0)\n",
      "Requirement already satisfied: packaging>=20.9 in e:\\anaconda3\\envs\\llm\\lib\\site-packages (from huggingface-hub==0.19.4) (23.2)\n",
      "Requirement already satisfied: colorama in e:\\anaconda3\\envs\\llm\\lib\\site-packages (from tqdm>=4.42.1->huggingface-hub==0.19.4) (0.4.6)\n",
      "Requirement already satisfied: charset-normalizer<4,>=2 in e:\\anaconda3\\envs\\llm\\lib\\site-packages (from requests->huggingface-hub==0.19.4) (3.3.2)\n",
      "Requirement already satisfied: idna<4,>=2.5 in e:\\anaconda3\\envs\\llm\\lib\\site-packages (from requests->huggingface-hub==0.19.4) (3.6)\n",
      "Requirement already satisfied: urllib3<3,>=1.21.1 in e:\\anaconda3\\envs\\llm\\lib\\site-packages (from requests->huggingface-hub==0.19.4) (1.26.18)\n",
      "Requirement already satisfied: certifi>=2017.4.17 in e:\\anaconda3\\envs\\llm\\lib\\site-packages (from requests->huggingface-hub==0.19.4) (2023.11.17)\n"
     ]
    },
    {
     "name": "stderr",
     "output_type": "stream",
     "text": [
      "WARNING: Ignoring invalid distribution -pype1 (c:\\users\\jyseo\\appdata\\roaming\\python\\python38\\site-packages)\n",
      "WARNING: Ignoring invalid distribution -pype1 (c:\\users\\jyseo\\appdata\\roaming\\python\\python38\\site-packages)\n",
      "WARNING: Ignoring invalid distribution -pype1 (c:\\users\\jyseo\\appdata\\roaming\\python\\python38\\site-packages)\n",
      "WARNING: Ignoring invalid distribution -pype1 (c:\\users\\jyseo\\appdata\\roaming\\python\\python38\\site-packages)\n",
      "WARNING: Ignoring invalid distribution -pype1 (c:\\users\\jyseo\\appdata\\roaming\\python\\python38\\site-packages)\n",
      "WARNING: Ignoring invalid distribution -pype1 (c:\\users\\jyseo\\appdata\\roaming\\python\\python38\\site-packages)\n"
     ]
    }
   ],
   "source": [
    "!pip install huggingface-hub==0.19.4"
   ]
  },
  {
   "cell_type": "code",
   "execution_count": 4,
   "id": "52652a4d",
   "metadata": {},
   "outputs": [
    {
     "data": {
      "text/plain": [
       "'카메라를 홍보하기 위한 좋은 문구를 추천해줘?'"
      ]
     },
     "execution_count": 4,
     "metadata": {},
     "output_type": "execute_result"
    }
   ],
   "source": [
    "from langchain import PromptTemplate\n",
    "template = \"{product}를 홍보하기 위한 좋은 문구를 추천해줘?\"\n",
    "\n",
    "prompt = PromptTemplate(\n",
    "    input_variables=[\"product\"],\n",
    "    template=template,\n",
    ")\n",
    "\n",
    "prompt.format(product=\"카메라\")"
   ]
  },
  {
   "cell_type": "code",
   "execution_count": 5,
   "id": "244ed60f",
   "metadata": {},
   "outputs": [
    {
     "name": "stderr",
     "output_type": "stream",
     "text": [
      "e:\\anaconda3\\envs\\llm\\lib\\site-packages\\langchain_community\\llms\\openai.py:248: UserWarning: You are trying to use a chat model. This way of initializing it is no longer supported. Instead, please use: `from langchain_community.chat_models import ChatOpenAI`\n",
      "  warnings.warn(\n",
      "e:\\anaconda3\\envs\\llm\\lib\\site-packages\\langchain_community\\llms\\openai.py:1057: UserWarning: You are trying to use a chat model. This way of initializing it is no longer supported. Instead, please use: `from langchain_community.chat_models import ChatOpenAI`\n",
      "  warnings.warn(\n"
     ]
    },
    {
     "name": "stdout",
     "output_type": "stream",
     "text": [
      "진희는 강아지를 키우고 있습니다.\n"
     ]
    }
   ],
   "source": [
    "import os\n",
    "os.environ[\"OPENAI_API_KEY\"] = \"sk-\" #openai 키 입력\n",
    "\n",
    "from langchain.llms import OpenAI\n",
    "llm1 = OpenAI(model_name=\"gpt-3.5-turbo\")\n",
    "\n",
    "prompt = \"진희는 강아지를 키우고 있습니다. 진희가 키우고 있는 동물은?\"\n",
    "completion = llm1(prompt)\n",
    "print(completion)"
   ]
  },
  {
   "cell_type": "code",
   "execution_count": 6,
   "id": "3335bb9b",
   "metadata": {},
   "outputs": [
    {
     "name": "stderr",
     "output_type": "stream",
     "text": [
      "e:\\anaconda3\\envs\\llm\\lib\\site-packages\\tqdm\\auto.py:21: TqdmWarning: IProgress not found. Please update jupyter and ipywidgets. See https://ipywidgets.readthedocs.io/en/stable/user_install.html\n",
      "  from .autonotebook import tqdm as notebook_tqdm\n",
      "e:\\anaconda3\\envs\\llm\\lib\\site-packages\\huggingface_hub\\utils\\_deprecation.py:127: FutureWarning: '__init__' (from 'huggingface_hub.inference_api') is deprecated and will be removed from version '1.0'. `InferenceApi` client is deprecated in favor of the more feature-complete `InferenceClient`. Check out this guide to learn how to convert your script to use it: https://huggingface.co/docs/huggingface_hub/guides/inference#legacy-inferenceapi-client.\n",
      "  warnings.warn(warning_message, FutureWarning)\n"
     ]
    },
    {
     "name": "stdout",
     "output_type": "stream",
     "text": [
      "       .\n"
     ]
    }
   ],
   "source": [
    "import os\n",
    "os.environ[\"HUGGINGFACEHUB_API_TOKEN\"] = \"hf_\"  #허깅페이스 키 입력\n",
    "\n",
    "from langchain import HuggingFaceHub\n",
    "llm2 = HuggingFaceHub(repo_id = \"google/flan-t5-xxl\", model_kwargs={\"temperature\":0.8, \"max_length\":512})\n",
    "\n",
    "prompt = \"진희는 강아지를 키우고 있습니다. 진희가 키우고 있는 동물은?\"\n",
    "completion = llm2(prompt)\n",
    "print(completion)"
   ]
  },
  {
   "cell_type": "code",
   "execution_count": 7,
   "id": "f3ef58ac",
   "metadata": {},
   "outputs": [
    {
     "name": "stdout",
     "output_type": "stream",
     "text": [
      "\u001b[1mInput:\u001b[0m\n",
      "대한민국의 가을은 몇 월부터 몇 월까지야?\n",
      "\n",
      "\u001b[1mOpenAIChat\u001b[0m\n",
      "Params: {'model_name': 'gpt-3.5-turbo'}\n",
      "\u001b[36;1m\u001b[1;3m대한민국의 가을은 보통 9월부터 11월까지입니다.\u001b[0m\n",
      "\n",
      "\u001b[1mHuggingFaceHub\u001b[0m\n",
      "Params: {'repo_id': 'google/flan-t5-xxl', 'task': None, 'model_kwargs': {'temperature': 0.8, 'max_length': 512}}\n",
      "\u001b[33;1m\u001b[1;3m    \u001b[0m\n",
      "\n"
     ]
    }
   ],
   "source": [
    "from langchain.model_laboratory import ModelLaboratory\n",
    "model_lab = ModelLaboratory.from_llms([llm1, llm2])\n",
    "model_lab.compare(\"대한민국의 가을은 몇 월부터 몇 월까지야?\")"
   ]
  },
  {
   "cell_type": "code",
   "execution_count": 8,
   "id": "a28347b4",
   "metadata": {},
   "outputs": [
    {
     "name": "stderr",
     "output_type": "stream",
     "text": [
      "e:\\anaconda3\\envs\\llm\\lib\\site-packages\\langchain_community\\llms\\openai.py:248: UserWarning: You are trying to use a chat model. This way of initializing it is no longer supported. Instead, please use: `from langchain_community.chat_models import ChatOpenAI`\n",
      "  warnings.warn(\n",
      "e:\\anaconda3\\envs\\llm\\lib\\site-packages\\langchain_community\\llms\\openai.py:1057: UserWarning: You are trying to use a chat model. This way of initializing it is no longer supported. Instead, please use: `from langchain_community.chat_models import ChatOpenAI`\n",
      "  warnings.warn(\n"
     ]
    }
   ],
   "source": [
    "from langchain.output_parsers import CommaSeparatedListOutputParser\n",
    "from langchain.prompts import PromptTemplate\n",
    "from langchain.llms import OpenAI\n",
    "llm = OpenAI(model_name=\"gpt-3.5-turbo\", temperature=0.0)\n",
    "\n",
    "output_parser = CommaSeparatedListOutputParser()#파서 초기화\n",
    "format_instructions = output_parser.get_format_instructions()#출력 형식 지정\n",
    "\n",
    "prompt = PromptTemplate(\n",
    "    template=\"7개의 팀을 보여줘 {subject}.\\n{format_instructions}\",\n",
    "    input_variables=[\"subject\"],\n",
    "    partial_variables={\"format_instructions\": format_instructions}\n",
    ")"
   ]
  },
  {
   "cell_type": "code",
   "execution_count": 9,
   "id": "b68f3985",
   "metadata": {},
   "outputs": [
    {
     "name": "stdout",
     "output_type": "stream",
     "text": [
      "['두산 베어스', '삼성 라이온즈', 'LG 트윈스', 'KT 위즈', '키움 히어로즈', 'NC 다이노스', '롯데 자이언츠']\n"
     ]
    }
   ],
   "source": [
    "query = \"한국의 야구팀은?\"\n",
    "\n",
    "# 출력 결과 생성\n",
    "output = llm(prompt.format(subject=query))\n",
    "\n",
    "# 출력에 대한 포맷 변경\n",
    "parsed_result = output_parser.parse(output)\n",
    "print(parsed_result)"
   ]
  },
  {
   "cell_type": "code",
   "execution_count": null,
   "id": "b8400569",
   "metadata": {},
   "outputs": [],
   "source": []
  }
 ],
 "metadata": {
  "kernelspec": {
   "display_name": "llm38",
   "language": "python",
   "name": "llm38"
  },
  "language_info": {
   "codemirror_mode": {
    "name": "ipython",
    "version": 3
   },
   "file_extension": ".py",
   "mimetype": "text/x-python",
   "name": "python",
   "nbconvert_exporter": "python",
   "pygments_lexer": "ipython3",
   "version": "3.8.18"
  }
 },
 "nbformat": 4,
 "nbformat_minor": 5
}
